{
 "cells": [
  {
   "cell_type": "markdown",
   "metadata": {},
   "source": [
    "## Melbourne Cafe/Restaurant Recommender System\n",
    "\n",
    "The Data:\n",
    "- Source: Zomato\n",
    "- URL: https://www.zomato.com/melbourne/great-food-no-bull\n",
    "- Best of Melbourne Collection\n",
    "- Retrieved 253 restaurants, 30475 reviews\n",
    "\n",
    "The Tools/Techniques/Libraries:\n",
    "- Surprise, Scipy, Web Scraping, Selenium, Scrapy, XPath, Zomato API, Google Maps API, Geopy\n",
    "\n",
    "The Techniques:\n",
    "- Content-Based Filtering\n",
    "- User-Item Collaborative Filtering (pairwise-cosine distance)\n",
    "- Item-Item Collaborative Filtering (pairwise-cosine distance)\n",
    "- Item-Item Collaborative Filtering - Top-N Recommendation and Rating Prediction (pairwise-cosine distance)\n",
    "- Item-Item Collaborative Filtering - Top-N Recommendation and Rating Prediction (pairwise-cosine Similarity)\n",
    "- Hybrid Recommender - User-Item CF & Content-Based\n",
    "- Hybrid Recommender - Item-Item CF & Content-Based\n",
    "- Rating Prediction and Evaluation for Entire Matrices using Memory-Based CF \n",
    "- Rating Prediction and Evaluation for Entire Matrices using Model-Based CF - Scipy SVDS (Matrix Factorization)\n",
    "- Rating Prediction and Evaluation for Individual User-Restaurant Pair using - Surprise SVD (Matrix Factorization)\n",
    "- Recent Favorites Recommendation\n",
    "- Most Popular Recommendation\n",
    "\n",
    "The Goal:\n",
    "- Provide top-n restaurant recommendations to users\n",
    "- Predict the rating that a user would give an unrated restaurant\n",
    "- Evaluate the rating prediction"
   ]
  },
  {
   "cell_type": "code",
   "execution_count": 1,
   "metadata": {},
   "outputs": [],
   "source": [
    "import numpy as np\n",
    "import pandas as pd\n",
    "\n",
    "from sklearn.model_selection import train_test_split\n",
    "from sklearn.metrics.pairwise import pairwise_distances\n",
    "from sklearn.metrics import mean_squared_error\n",
    "from math import sqrt\n",
    "\n",
    "import scipy.sparse as sp\n",
    "from scipy.sparse.linalg import svds\n",
    "\n",
    "from geopy.geocoders import Nominatim\n",
    "from geopy.distance import geodesic\n",
    "import googlemaps\n",
    "\n",
    "import datetime\n",
    "from datetime import date\n",
    "from time import sleep\n",
    "\n",
    "from scrapy.selector import Selector\n",
    "from selenium import webdriver\n",
    "from selenium.webdriver.common.keys import Keys\n",
    "import requests\n",
    "import re\n",
    "\n",
    "import matplotlib.pyplot as plt\n",
    "import seaborn as sns\n",
    "\n",
    "%matplotlib inline\n",
    "sns.set_style('whitegrid')\n",
    "\n",
    "import warnings\n",
    "warnings.filterwarnings('ignore')"
   ]
  },
  {
   "cell_type": "markdown",
   "metadata": {},
   "source": [
    "### Scrape business profiles"
   ]
  },
  {
   "cell_type": "code",
   "execution_count": null,
   "metadata": {},
   "outputs": [],
   "source": [
    "# get the url's of the businesses featured in 'best of Melbourne' collection \n",
    "def get_business_urls(html):\n",
    "    \n",
    "    # restaurant url's\n",
    "    try:\n",
    "        url_list=Selector(text=html).xpath('//div[@class=\"row col-res-list collection_listings_container\"]/div/div/div/a/@href').extract()\n",
    "    except:\n",
    "        url_list=np.NaN\n",
    "        return np.NaN\n",
    "    \n",
    "    print(url_list)\n",
    "    return url_list"
   ]
  },
  {
   "cell_type": "code",
   "execution_count": null,
   "metadata": {},
   "outputs": [],
   "source": [
    "# get the reviews for a specific business\n",
    "def get_reviews_per_url(html):\n",
    "\n",
    "    reviews_per_business = []\n",
    "    review_index = 0\n",
    "    \n",
    "    # get restaurant id and review id (separately, as these two are outside the xpath scope defined below)\n",
    "    # review id list \n",
    "    try:\n",
    "        review_id_list = Selector(text=html).xpath('//div[@id=\"reviews-container\"]/*//div[@data-snippet=\"restaurant-review\"]/@data-review_id').extract()\n",
    "        print('# of review ids: ',len(review_id_list))\n",
    "    except:\n",
    "        review_id_list= np.NaN\n",
    "        print('error on review id list for : ', review_id_list)\n",
    "        \n",
    "    # restaurant id\n",
    "    try:\n",
    "        restaurant_id = Selector(text=html).xpath('//div[@id=\"reviews-container\"]/*//div[@data-snippet=\"restaurant-review\"]/@data-res_id').extract()[0]\n",
    "    except:\n",
    "        restaurant_id = np.NaN\n",
    "        print('error on restaurant_id for : ', restaurant_id)\n",
    "        \n",
    "    # get data for displayed reviews \n",
    "    visible_reviews_full = Selector(text=html).xpath('//div[@id=\"reviews-container\"]/*//div[@data-snippet=\"restaurant-review\"]/div[contains(@class,\"ui segment\")]').extract()\n",
    "    num_reviews=len(visible_reviews_full)\n",
    "\n",
    "    # iterate through the displayed reviews\n",
    "    for review in visible_reviews_full:\n",
    "\n",
    "        # review id\n",
    "        try:\n",
    "            review_id= review_id_list[review_index]\n",
    "        except:\n",
    "            print('error on iterating through review id for: ', review_id_list)\n",
    "            \n",
    "        # user id\n",
    "        try:\n",
    "            user_id=Selector(text=review).xpath('//div[contains(@class,\"content col-l-11\")]/*/a[contains(@href,\"https://www.zomato.com\")]/@data-entity_id').extract()[0]\n",
    "        except:\n",
    "            user_id=np.NaN\n",
    "\n",
    "        # user name\n",
    "        try:\n",
    "            user_name=Selector(text=review).xpath('//div[contains(@class,\"content col-l-11\")]/*/a[contains(@href,\"https://www.zomato.com\")]/text()').extract()[0].strip()\n",
    "        except:\n",
    "            user_name=np.NaN\n",
    "\n",
    "        # no. of reviews by user\n",
    "        try:\n",
    "            user_review_count=Selector(text=review).xpath('//div[contains(@class,\"content col-l-11\")]/span[contains(@class,\"grey-text\")]/text()').extract()[0].strip().split(',')[0].strip().split(' ')[0]\n",
    "        except:\n",
    "            user_review_count=np.NaN\n",
    "\n",
    "        # no. of followers of user\n",
    "        try:\n",
    "            user_followers_count=Selector(text=review).xpath('//div[contains(@class,\"content col-l-11\")]/span[contains(@class,\"grey-text\")]/text()').extract()[0].strip().split(',')[1].strip().split(' ')[0]\n",
    "        except:\n",
    "            user_followers_count=np.NaN\n",
    "\n",
    "        # review date\n",
    "        try:\n",
    "            review_date=Selector(text=review).xpath('//time/@datetime').extract()[0]\n",
    "        except:\n",
    "            review_date=np.NaN\n",
    "\n",
    "        # star rating\n",
    "        try:\n",
    "            star_rating=Selector(text=review).xpath('//div[contains(@class,\"rev-text\")]/div[contains(@class,\"ttupper fs12px\")]/@aria-label').extract()[0].split(' ')[1]\n",
    "        except:\n",
    "            star_rating=np.NaN\n",
    "\n",
    "        # textual review\n",
    "        try:\n",
    "            textual_review=Selector(text=review).xpath('//div[contains(@class,\"rev-text \")]/text()').extract()[1:]\n",
    "        except:\n",
    "            textual_review=np.NaN\n",
    "\n",
    "        # clean textual review, convert to string\n",
    "        try:\n",
    "            textual_review[0] = textual_review[0].replace('\\xa0\\n', '').strip()\n",
    "            textual_review = ''.join([line.strip() for line in textual_review if line.strip() is not ''])\n",
    "        except:\n",
    "            print('error in cleaning textual_review for : ', textual_review)\n",
    "            \n",
    "        # append scraped review to list\n",
    "        reviews_per_business.append([review_id, restaurant_id, user_id, user_name, user_review_count, user_followers_count, review_date, star_rating, textual_review])\n",
    "        review_index += 1\n",
    "        \n",
    "    return reviews_per_business, num_reviews"
   ]
  },
  {
   "cell_type": "code",
   "execution_count": null,
   "metadata": {},
   "outputs": [],
   "source": [
    "# start of code for getting the business url's in the 'best of Melbourne' collection\n",
    "\n",
    "# open business reviews url\n",
    "main_url = 'https://www.zomato.com/melbourne/great-food-no-bull'\n",
    "driver = webdriver.Chrome(executable_path=\"chromedriver.exe\")\n",
    "try:\n",
    "    sleep(5)\n",
    "    driver.get(main_url)\n",
    "except:\n",
    "    print('error in loading driver for business url: ', main_url)        \n",
    "assert \"Zomato\" in driver.title\n",
    "\n",
    "# parse first results page\n",
    "sleep(5)\n",
    "# set HTML to the response from the http request\n",
    "html = driver.page_source\n",
    "\n",
    "url_list = get_business_urls(html)\n",
    "\n",
    "driver.close()"
   ]
  },
  {
   "cell_type": "code",
   "execution_count": null,
   "metadata": {},
   "outputs": [],
   "source": [
    "# start of code for getting the reviews for each business featured in 'best of Melbourne' collection\n",
    "\n",
    "# target count of reviews to extract\n",
    "review_target_count = 200\n",
    "all_business_reviews = []\n",
    "num_reviews_list = []\n",
    "business_with_zero_reviews = []\n",
    "\n",
    "monitor_count=0    \n",
    "\n",
    "total_count=len(url_list)\n",
    "# iterate through the url's of the businesses to extract the reviews\n",
    "for business_url in url_list:\n",
    "\n",
    "    # open business reviews url\n",
    "    driver = webdriver.Chrome(executable_path=\"chromedriver.exe\")\n",
    "    try:\n",
    "        driver.get(business_url + '/reviews')\n",
    "    except:\n",
    "        print('error in loading driver for business url: ', business_url)\n",
    "        \n",
    "    assert \"Zomato\" in driver.title\n",
    "\n",
    "    # if there's a Popular (Reviews) section, change and click on All Reviews section\n",
    "    driver = switch_from_Popular_to_All_Reviews(driver, business_url + '/reviews')\n",
    "    \n",
    "    # display more reviews (in preparation for scraping the target # of reviews)\n",
    "    driver, visible_review_count = display_more_reviews(driver, review_target_count)\n",
    "\n",
    "    # get final count of visible reviews (for this particular business)\n",
    "    html = driver.page_source\n",
    "\n",
    "    # if review list is not empty\n",
    "    if visible_review_count > 0:\n",
    "        # scrape the displayed reviews\n",
    "        reviews_per_business, num_reviews = get_reviews_per_url(html)\n",
    "\n",
    "        num_reviews_list.append(num_reviews)\n",
    "        \n",
    "        # add reviews per business to overall list of business reviews\n",
    "        all_business_reviews += reviews_per_business\n",
    "\n",
    "    # businesses with zero reviews\n",
    "    else:\n",
    "        business_with_zero_reviews.append(business_url)\n",
    "\n",
    "    print('url: ', business_url)    \n",
    "    monitor_count += 1\n",
    "    print(str(monitor_count), ' of ', str(total_count), \" businesses completed...\")\n",
    "\n",
    "    # save reviews for every 20 businesses to a csv file\n",
    "    if (monitor_count % 20) == 0:\n",
    "        reviews_20 = pd.DataFrame(all_business_reviews)\n",
    "        # save the latest 20 businesses\n",
    "        reviews_20.to_csv('./datasets/Reviews - Best of Melbourne ' + str(monitor_count-20) + ' to ' + str(monitor_count-1) +  '.csv')\n",
    "        # clear business reviews list to make way for the next 20 businesses\n",
    "        all_business_reviews = []\n",
    "    \n",
    "    # close the Chrome webdriver\n",
    "    driver.close()\n",
    "    \n",
    "print('business with zero reviews: ', business_with_zero_reviews)\n",
    "print('number of reviews: ', num_reviews_list)"
   ]
  },
  {
   "cell_type": "markdown",
   "metadata": {},
   "source": [
    "### Scrape Business Reviews"
   ]
  },
  {
   "cell_type": "code",
   "execution_count": null,
   "metadata": {
    "code_folding": []
   },
   "outputs": [],
   "source": [
    "# display more reviews by clicking on 'Load More' element\n",
    "def display_more_reviews(driver, review_target_count):\n",
    "    \n",
    "    html = driver.page_source\n",
    "    \n",
    "    try:\n",
    "        # get the visible reviews and review count (for this business)\n",
    "        visible_reviews = Selector(text=html).xpath('//div[@id=\"reviews-container\"]/*//div[@data-snippet=\"restaurant-review\"]/div[contains(@class,\"ui segment\")]').extract()    \n",
    "        visible_review_count = len(visible_reviews)\n",
    "\n",
    "        # open more reviews by clicking on Load More until the desired # of reviews (for this particular business) is displayed\n",
    "        while visible_review_count < review_target_count:\n",
    "            try:\n",
    "                # access and click on Load More element - to extend the list of displayed reviews\n",
    "                load_more_element = driver.find_element_by_xpath('//div[@class=\"load-more bold ttupper tac cursor-pointer fontsize2\"]/span[contains(@class,\"zred\")]')\n",
    "                load_more_element.click()\n",
    "                sleep(5)\n",
    "\n",
    "            except:\n",
    "                break\n",
    "\n",
    "            # update the count of visible reviews (for this particular business)\n",
    "            html = driver.page_source\n",
    "            visible_reviews = Selector(text=html).xpath('//div[@id=\"reviews-container\"]/*//div[@data-snippet=\"restaurant-review\"]/div[contains(@class,\"ui segment\")]').extract()\n",
    "            visible_review_count = len(visible_reviews)\n",
    "    except:\n",
    "        print('ERROR IN DISPLAY_MORE_REVIEWS')\n",
    "    \n",
    "    return driver, visible_review_count"
   ]
  },
  {
   "cell_type": "code",
   "execution_count": null,
   "metadata": {},
   "outputs": [],
   "source": [
    "# Switch from Popular Reviews to All Reviews, if applicable\n",
    "def switch_from_Popular_to_All_Reviews(driver, url):\n",
    "    \n",
    "    html = driver.page_source\n",
    "    try:\n",
    "        # see if Popular Reviews tab exists\n",
    "        popular_section = Selector(text=html).xpath('//div[@id=\"selectors\"]/a[contains(@data-sort,\"reviews-top\")]/text()').extract()[0]\n",
    "        try:\n",
    "            # access and click on All Reviews element - to switch from Popular Reviews list\n",
    "            load_more_element = driver.find_element_by_xpath('//div[@id=\"selectors\"]/a[contains(@data-sort,\"reviews-dd\")]')\n",
    "            sleep(3)\n",
    "            load_more_element.click()\n",
    "            sleep(1)\n",
    "            print('Popular Reviews section exists for: ' + url)\n",
    "\n",
    "        except:\n",
    "            display('All Reviews element not found, or click not successful for:' + url)\n",
    "    \n",
    "    except:\n",
    "        print('No Popular Reviews section for: ' + url)\n",
    "        \n",
    "    return driver"
   ]
  },
  {
   "cell_type": "code",
   "execution_count": null,
   "metadata": {},
   "outputs": [],
   "source": [
    "# combine all subset csv's for the 'best of Melbourne' reviews into 1 csv, 'reviews - best of Melbourne.csv'\n",
    "csv_list = []\n",
    "reviews_df = pd.DataFrame()\n",
    "\n",
    "import os\n",
    "# create list of all review csv's\n",
    "for file in os.listdir():\n",
    "    if file.startswith(\"Reviews - Best of Melbourne\"):\n",
    "        csv_list.append(file)\n",
    "\n",
    "# load csv's on to a dataframe\n",
    "for csv in csv_list:\n",
    "    reviews_df_per_csv = pd.read_csv(csv)\n",
    "    reviews_df = pd.concat([reviews_df, reviews_df_per_csv])\n",
    "\n",
    "# save entire dataframe to a single csv for backup\n",
    "reviews_df.columns=['per_csv_id','review_id', 'restaurant_id', 'user_id', 'user_name', 'user_review_count', 'user_followers_count', 'review_date', 'star_rating', 'textual_review']\n",
    "reviews_df.to_csv('./datasets/reviews - best of Melbourne.csv')\n",
    "reviews_df.head()"
   ]
  },
  {
   "cell_type": "code",
   "execution_count": null,
   "metadata": {},
   "outputs": [],
   "source": [
    "# Extract restaurant details through Zomato API \n",
    "# This has to be done via Zomato API to include the latitude/longitude details of the businesses in 'best of Melbourne' collection\n",
    "\n",
    "api_key = <api-key-here>\n",
    "\n",
    "import pickle\n",
    "import requests\n",
    "import pandas as pd\n",
    "import json\n",
    "from time import sleep\n",
    "\n",
    "# using restaurant id's in the extracted reviews, retrieve the restaurant details via Zomato API\n",
    "def extract_businesses_details(restaurant_id_list):\n",
    "    \n",
    "    # set headers\n",
    "    headers = {\n",
    "        'Accept': 'application/json',\n",
    "        'user-key': api_key\n",
    "    }\n",
    "\n",
    "    businesses_details_df = pd.DataFrame()\n",
    "    \n",
    "    # for every restaurant_id in the Zomato businesses dataset\n",
    "    for restaurant_id in restaurant_id_list:\n",
    "        response = requests.get('https://developers.zomato.com/api/v2.1/restaurant?res_id=' + str(restaurant_id), headers=headers)\n",
    "        response_df = pd.DataFrame([response.json()])\n",
    "        businesses_details_df = pd.concat([businesses_details_df,response_df], ignore_index=True)\n",
    "\n",
    "    # pickle dataset\n",
    "    save_pickle = open('./datasets/Zomato - Best of Melbourne.pkl',\"wb\")\n",
    "    pickle.dump(businesses_details_df, save_pickle)\n",
    "    save_pickle.close()\n",
    "    \n",
    "    return businesses_details_df"
   ]
  },
  {
   "cell_type": "code",
   "execution_count": null,
   "metadata": {},
   "outputs": [],
   "source": [
    "# Load onto a dataframe the 'best of Melbourne' business profiles\n",
    "restaurant_id_list = reviews_df.restaurant_id.unique()\n",
    "businesses_df = extract_businesses_details(restaurant_id_list)"
   ]
  },
  {
   "cell_type": "markdown",
   "metadata": {},
   "source": [
    "### Load Businesses and Reviews dataframes (post-scraping)"
   ]
  },
  {
   "cell_type": "code",
   "execution_count": 2,
   "metadata": {},
   "outputs": [],
   "source": [
    "# load businesses and reviews onto their respective dataframes \n",
    "businesses_df = pd.DataFrame()\n",
    "reviews_df = pd.DataFrame()\n",
    "# load the csv of the scraped businesses on to a dataframe\n",
    "businesses_df = pd.read_pickle('./datasets/Zomato - Best of Melbourne.pkl')\n",
    "# load the csv of the scraped reviews on to a dataframe\n",
    "reviews_df = pd.read_csv('./datasets/reviews - best of Melbourne - clean.csv')"
   ]
  },
  {
   "cell_type": "markdown",
   "metadata": {},
   "source": [
    "### Data Preprocessing / EDA"
   ]
  },
  {
   "cell_type": "code",
   "execution_count": 3,
   "metadata": {},
   "outputs": [],
   "source": [
    "# drop the first (unnamed) column\n",
    "reviews_df = reviews_df.iloc[:, 1:]"
   ]
  },
  {
   "cell_type": "code",
   "execution_count": 4,
   "metadata": {},
   "outputs": [],
   "source": [
    "# rename id, and convert to float\n",
    "businesses_df.rename({'id': 'restaurant_id'},axis=1,inplace=True)\n",
    "businesses_df.loc[:,'restaurant_id'] = businesses_df.restaurant_id.apply(lambda x: int(x))"
   ]
  },
  {
   "cell_type": "code",
   "execution_count": 5,
   "metadata": {},
   "outputs": [],
   "source": [
    "def sns_plot(plot_type='scatter', x=None, y=None, data=None, xlabel='_', ylabel='_', title='_', bins=20, figsize=(10,5)):\n",
    "\n",
    "    # plot bar chart\n",
    "    fig = plt.figure(figsize=figsize)\n",
    "    ax = fig.gca()\n",
    "    if plot_type == 'dist':\n",
    "        sns.distplot(x,bins=bins, ax=ax)\n",
    "    elif plot_type == 'scatter':\n",
    "        plt.scatter(x=x,y=y,alpha=0.6, edgecolors='w')\n",
    "#        sns.pointplot(x=x,y=y,ax=ax)\n",
    "#    elif plot_type == 'joint':\n",
    "#        sns.jointplot(x=x, y=y, data=data, kind='reg', space=0, size=5, ratio=4)\n",
    "    ax.set_xlabel(xlabel, fontsize=18)\n",
    "    ax.set_ylabel(ylabel, fontsize=19)\n",
    "    ax.set_title(title, fontsize=20)\n",
    "    return"
   ]
  },
  {
   "cell_type": "code",
   "execution_count": 6,
   "metadata": {},
   "outputs": [
    {
     "data": {
      "text/html": [
       "<div>\n",
       "<style scoped>\n",
       "    .dataframe tbody tr th:only-of-type {\n",
       "        vertical-align: middle;\n",
       "    }\n",
       "\n",
       "    .dataframe tbody tr th {\n",
       "        vertical-align: top;\n",
       "    }\n",
       "\n",
       "    .dataframe thead th {\n",
       "        text-align: right;\n",
       "    }\n",
       "</style>\n",
       "<table border=\"1\" class=\"dataframe\">\n",
       "  <thead>\n",
       "    <tr style=\"text-align: right;\">\n",
       "      <th></th>\n",
       "      <th># of Restaurants</th>\n",
       "      <th># of Users</th>\n",
       "      <th># of Reviews</th>\n",
       "    </tr>\n",
       "  </thead>\n",
       "  <tbody>\n",
       "    <tr>\n",
       "      <th>Total</th>\n",
       "      <td>253</td>\n",
       "      <td>13972</td>\n",
       "      <td>30475</td>\n",
       "    </tr>\n",
       "  </tbody>\n",
       "</table>\n",
       "</div>"
      ],
      "text/plain": [
       "       # of Restaurants  # of Users  # of Reviews\n",
       "Total               253       13972         30475"
      ]
     },
     "execution_count": 6,
     "metadata": {},
     "output_type": "execute_result"
    }
   ],
   "source": [
    "# total # of unique restaurants, users, and reviews in the dataset\n",
    "pd.DataFrame([[len(businesses_df.restaurant_id.unique())], [len(reviews_df.user_id.unique())], [reviews_df.review_id.count()]], columns=['Total'], index = ['# of Restaurants', '# of Users', '# of Reviews']).T"
   ]
  },
  {
   "cell_type": "code",
   "execution_count": 7,
   "metadata": {},
   "outputs": [
    {
     "data": {
      "text/html": [
       "<div>\n",
       "<style scoped>\n",
       "    .dataframe tbody tr th:only-of-type {\n",
       "        vertical-align: middle;\n",
       "    }\n",
       "\n",
       "    .dataframe tbody tr th {\n",
       "        vertical-align: top;\n",
       "    }\n",
       "\n",
       "    .dataframe thead th {\n",
       "        text-align: right;\n",
       "    }\n",
       "</style>\n",
       "<table border=\"1\" class=\"dataframe\">\n",
       "  <thead>\n",
       "    <tr style=\"text-align: right;\">\n",
       "      <th></th>\n",
       "      <th>R</th>\n",
       "      <th>apikey</th>\n",
       "      <th>average_cost_for_two</th>\n",
       "      <th>book_again_url</th>\n",
       "      <th>book_form_web_view_url</th>\n",
       "      <th>book_url</th>\n",
       "      <th>cuisines</th>\n",
       "      <th>currency</th>\n",
       "      <th>deeplink</th>\n",
       "      <th>events_url</th>\n",
       "      <th>...</th>\n",
       "      <th>name</th>\n",
       "      <th>offers</th>\n",
       "      <th>opentable_support</th>\n",
       "      <th>photos_url</th>\n",
       "      <th>price_range</th>\n",
       "      <th>switch_to_order_menu</th>\n",
       "      <th>thumb</th>\n",
       "      <th>url</th>\n",
       "      <th>user_rating</th>\n",
       "      <th>zomato_events</th>\n",
       "    </tr>\n",
       "  </thead>\n",
       "  <tbody>\n",
       "  </tbody>\n",
       "</table>\n",
       "<p>0 rows × 33 columns</p>\n",
       "</div>"
      ],
      "text/plain": [
       "Empty DataFrame\n",
       "Columns: [R, apikey, average_cost_for_two, book_again_url, book_form_web_view_url, book_url, cuisines, currency, deeplink, events_url, featured_image, has_online_delivery, has_table_booking, restaurant_id, include_bogo_offers, is_book_form_web_view, is_delivering_now, is_table_reservation_supported, is_zomato_book_res, location, medio_provider, menu_url, mezzo_provider, name, offers, opentable_support, photos_url, price_range, switch_to_order_menu, thumb, url, user_rating, zomato_events]\n",
       "Index: []\n",
       "\n",
       "[0 rows x 33 columns]"
      ]
     },
     "execution_count": 7,
     "metadata": {},
     "output_type": "execute_result"
    }
   ],
   "source": [
    "# list businesses that have duplicates in the dataset\n",
    "businesses_df[businesses_df.restaurant_id.isin(businesses_df.restaurant_id.value_counts()[businesses_df.restaurant_id.value_counts()>1].index)]"
   ]
  },
  {
   "cell_type": "code",
   "execution_count": 8,
   "metadata": {},
   "outputs": [
    {
     "data": {
      "image/png": "[encoded data removed]",
      "text/plain": [
       "<Figure size 720x360 with 1 Axes>"
      ]
     },
     "metadata": {},
     "output_type": "display_data"
    }
   ],
   "source": [
    "# plot distribution for the # of reviews per restaurant\n",
    "sns_plot(plot_type='dist', x=reviews_df.restaurant_id.value_counts(), xlabel='# of Reviews', ylabel='Frequency', title='# of Reviews Per Restaurant', bins=50)"
   ]
  },
  {
   "cell_type": "code",
   "execution_count": 9,
   "metadata": {},
   "outputs": [
    {
     "data": {
      "image/png": "[encoded data removed]",
      "text/plain": [
       "<Figure size 720x360 with 1 Axes>"
      ]
     },
     "metadata": {},
     "output_type": "display_data"
    }
   ],
   "source": [
    "# plot distribution for the # of reviews given per restaurant, when the # of reviews is less than or equal to 50\n",
    "sns_plot(plot_type='dist', x=reviews_df.restaurant_id.value_counts()[reviews_df.restaurant_id.value_counts()<=50], xlabel='# of Reviews', ylabel='Frequency', title='# of Reviews Per Restaurant\\nReviews Per Restaurant <= 50')"
   ]
  },
  {
   "cell_type": "code",
   "execution_count": 10,
   "metadata": {},
   "outputs": [
    {
     "data": {
      "text/html": [
       "<div>\n",
       "<style scoped>\n",
       "    .dataframe tbody tr th:only-of-type {\n",
       "        vertical-align: middle;\n",
       "    }\n",
       "\n",
       "    .dataframe tbody tr th {\n",
       "        vertical-align: top;\n",
       "    }\n",
       "\n",
       "    .dataframe thead th {\n",
       "        text-align: right;\n",
       "    }\n",
       "</style>\n",
       "<table border=\"1\" class=\"dataframe\">\n",
       "  <thead>\n",
       "    <tr style=\"text-align: right;\">\n",
       "      <th></th>\n",
       "      <th>review_id</th>\n",
       "      <th>restaurant_id</th>\n",
       "      <th>user_id</th>\n",
       "      <th>user_name</th>\n",
       "      <th>user_review_count</th>\n",
       "      <th>user_followers_count</th>\n",
       "      <th>review_date</th>\n",
       "      <th>star_rating</th>\n",
       "      <th>textual_review</th>\n",
       "    </tr>\n",
       "  </thead>\n",
       "  <tbody>\n",
       "    <tr>\n",
       "      <th>15097</th>\n",
       "      <td>39694347</td>\n",
       "      <td>16585728</td>\n",
       "      <td>30333926</td>\n",
       "      <td>Ignatia</td>\n",
       "      <td>104</td>\n",
       "      <td>144.0</td>\n",
       "      <td>2018-10-20 10:14:04</td>\n",
       "      <td>5.0</td>\n",
       "      <td>I had the longest journey on tram just for the...</td>\n",
       "    </tr>\n",
       "  </tbody>\n",
       "</table>\n",
       "</div>"
      ],
      "text/plain": [
       "       review_id  restaurant_id   user_id user_name  user_review_count  \\\n",
       "15097   39694347       16585728  30333926   Ignatia                104   \n",
       "\n",
       "       user_followers_count          review_date  star_rating  \\\n",
       "15097                 144.0  2018-10-20 10:14:04          5.0   \n",
       "\n",
       "                                          textual_review  \n",
       "15097  I had the longest journey on tram just for the...  "
      ]
     },
     "execution_count": 10,
     "metadata": {},
     "output_type": "execute_result"
    }
   ],
   "source": [
    "#reviews_df.groupby('restaurant_id')['restaurant_id'].count().sort_values()\n",
    "reviews_df[reviews_df.restaurant_id==16585728]"
   ]
  },
  {
   "cell_type": "code",
   "execution_count": 11,
   "metadata": {},
   "outputs": [
    {
     "data": {
      "text/plain": [
       "count    253.000000\n",
       "mean     120.454545\n",
       "std       76.993216\n",
       "min        1.000000\n",
       "25%       29.000000\n",
       "50%      147.000000\n",
       "75%      200.000000\n",
       "max      200.000000\n",
       "Name: restaurant_id, dtype: float64"
      ]
     },
     "execution_count": 11,
     "metadata": {},
     "output_type": "execute_result"
    }
   ],
   "source": [
    "# no. of reviews per restaurant\n",
    "review_count_per_restaurant = reviews_df.groupby('restaurant_id')['restaurant_id'].count()\n",
    "review_count_per_restaurant.describe()"
   ]
  },
  {
   "cell_type": "code",
   "execution_count": 12,
   "metadata": {},
   "outputs": [
    {
     "data": {
      "text/plain": [
       "0.00      1.0\n",
       "0.05      6.6\n",
       "0.10     10.0\n",
       "0.15     14.8\n",
       "0.20     22.0\n",
       "0.25     29.0\n",
       "0.30     57.6\n",
       "0.35     76.4\n",
       "0.40    100.0\n",
       "0.45    125.8\n",
       "0.50    147.0\n",
       "0.55    160.0\n",
       "0.60    173.0\n",
       "0.65    185.6\n",
       "0.70    200.0\n",
       "0.75    200.0\n",
       "0.80    200.0\n",
       "0.85    200.0\n",
       "0.90    200.0\n",
       "0.95    200.0\n",
       "Name: restaurant_id, dtype: float64"
      ]
     },
     "execution_count": 12,
     "metadata": {},
     "output_type": "execute_result"
    }
   ],
   "source": [
    "# quantile range of review count per restaurant \n",
    "review_count_per_restaurant.quantile(np.arange(0,1,.05))"
   ]
  },
  {
   "cell_type": "code",
   "execution_count": 13,
   "metadata": {},
   "outputs": [
    {
     "data": {
      "text/plain": [
       "80"
      ]
     },
     "execution_count": 13,
     "metadata": {},
     "output_type": "execute_result"
    }
   ],
   "source": [
    "# no. of restaurants with total reviews = 25\n",
    "(review_count_per_restaurant==200).sum()"
   ]
  },
  {
   "cell_type": "code",
   "execution_count": 14,
   "metadata": {},
   "outputs": [
    {
     "data": {
      "image/png": "[encoded data removed]",
      "text/plain": [
       "<Figure size 720x360 with 1 Axes>"
      ]
     },
     "metadata": {},
     "output_type": "display_data"
    }
   ],
   "source": [
    "# plot distribution for the # of reviews given per restaurant, when the # of reviews is greater than 50\n",
    "sns_plot(plot_type='dist', x=reviews_df.restaurant_id.value_counts()[reviews_df.restaurant_id.value_counts()>50], xlabel='# of Reviews', ylabel='Frequency', title='# of Reviews Per Restaurant\\nReviews Per Restaurant > 50')"
   ]
  },
  {
   "cell_type": "code",
   "execution_count": 16,
   "metadata": {},
   "outputs": [],
   "source": [
    "# set review_date column to datetime object\n",
    "reviews_df.loc[:,'review_date'] = pd.to_datetime(reviews_df.review_date)"
   ]
  },
  {
   "cell_type": "code",
   "execution_count": 17,
   "metadata": {},
   "outputs": [],
   "source": [
    "# drop the reviews with no star ratings - these reviews date back to the 2014-2015 period, thus, relevance-wise might be worth dropping\n",
    "reviews_df.drop(index=reviews_df[reviews_df.star_rating.isnull()].index, inplace=True)"
   ]
  },
  {
   "cell_type": "code",
   "execution_count": 23,
   "metadata": {},
   "outputs": [],
   "source": [
    "# change user_followers_count from NaN to zero\n",
    "reviews_df.loc[reviews_df.user_followers_count.isnull(), 'user_followers_count'] = 0"
   ]
  },
  {
   "cell_type": "code",
   "execution_count": 24,
   "metadata": {},
   "outputs": [
    {
     "data": {
      "text/html": [
       "<div>\n",
       "<style scoped>\n",
       "    .dataframe tbody tr th:only-of-type {\n",
       "        vertical-align: middle;\n",
       "    }\n",
       "\n",
       "    .dataframe tbody tr th {\n",
       "        vertical-align: top;\n",
       "    }\n",
       "\n",
       "    .dataframe thead th {\n",
       "        text-align: right;\n",
       "    }\n",
       "</style>\n",
       "<table border=\"1\" class=\"dataframe\">\n",
       "  <thead>\n",
       "    <tr style=\"text-align: right;\">\n",
       "      <th></th>\n",
       "      <th>Restaurants with only 1 review</th>\n",
       "      <th>with less than 5 reviews</th>\n",
       "    </tr>\n",
       "  </thead>\n",
       "  <tbody>\n",
       "    <tr>\n",
       "      <th>Total</th>\n",
       "      <td>1</td>\n",
       "      <td>7</td>\n",
       "    </tr>\n",
       "  </tbody>\n",
       "</table>\n",
       "</div>"
      ],
      "text/plain": [
       "       Restaurants with only 1 review  with less than 5 reviews\n",
       "Total                               1                         7"
      ]
     },
     "execution_count": 24,
     "metadata": {},
     "output_type": "execute_result"
    }
   ],
   "source": [
    "# tally no. of restaurants with 1 review , and with less than 5 reviews\n",
    "review_count_per_restaurant = reviews_df.groupby('restaurant_id')['restaurant_id'].count()\n",
    "pd.DataFrame([(review_count_per_restaurant==1).sum(), (review_count_per_restaurant<5).sum()], columns=['Total'], index=['Restaurants with only 1 review', 'with less than 5 reviews']).T"
   ]
  },
  {
   "cell_type": "code",
   "execution_count": 25,
   "metadata": {},
   "outputs": [
    {
     "data": {
      "text/html": [
       "<div>\n",
       "<style scoped>\n",
       "    .dataframe tbody tr th:only-of-type {\n",
       "        vertical-align: middle;\n",
       "    }\n",
       "\n",
       "    .dataframe tbody tr th {\n",
       "        vertical-align: top;\n",
       "    }\n",
       "\n",
       "    .dataframe thead th {\n",
       "        text-align: right;\n",
       "    }\n",
       "</style>\n",
       "<table border=\"1\" class=\"dataframe\">\n",
       "  <thead>\n",
       "    <tr style=\"text-align: right;\">\n",
       "      <th></th>\n",
       "      <th># of Restaurants</th>\n",
       "      <th># of Users</th>\n",
       "      <th># of Reviews</th>\n",
       "    </tr>\n",
       "  </thead>\n",
       "  <tbody>\n",
       "    <tr>\n",
       "      <th>Total</th>\n",
       "      <td>253</td>\n",
       "      <td>12349</td>\n",
       "      <td>28491</td>\n",
       "    </tr>\n",
       "  </tbody>\n",
       "</table>\n",
       "</div>"
      ],
      "text/plain": [
       "       # of Restaurants  # of Users  # of Reviews\n",
       "Total               253       12349         28491"
      ]
     },
     "execution_count": 25,
     "metadata": {},
     "output_type": "execute_result"
    }
   ],
   "source": [
    "# after above data preprocessing, show updated # of unique restaurants, users, and reviews in the dataset\n",
    "pd.DataFrame([[len(businesses_df.restaurant_id.unique())], [len(reviews_df.user_id.unique())], [reviews_df.review_id.count()]], columns=['Total'], index = ['# of Restaurants', '# of Users', '# of Reviews']).T"
   ]
  },
  {
   "cell_type": "code",
   "execution_count": null,
   "metadata": {},
   "outputs": [],
   "source": [
    "# # save dataframe as csv for backup reflecting all changes to this point\n",
    "# businesses_df.to_pickle('./datasets/Zomato - All Cafes in Melbourne - pass 1.pkl')\n",
    "# # save dataframe as for backup reflecting all changes to this point\n",
    "# reviews_df.to_pickle('./datasets/reviews - clean - pass 1.pkl')"
   ]
  },
  {
   "cell_type": "markdown",
   "metadata": {},
   "source": [
    "### ---------------------\n",
    "#### Load from Pickle"
   ]
  },
  {
   "cell_type": "code",
   "execution_count": null,
   "metadata": {},
   "outputs": [],
   "source": [
    "# businesses_df = pd.DataFrame()\n",
    "# reviews_df = pd.DataFrame()\n",
    "# # load the csv of the scraped businesses on to a dataframe\n",
    "# businesses_df = pd.read_pickle('./datasets/Zomato - All Cafes in Melbourne - pass 1.pkl')\n",
    "# # load the csv of the scraped reviews on to a dataframe\n",
    "# reviews_df = pd.read_pickle('./datasets/reviews - clean - pass 1.pkl')"
   ]
  },
  {
   "cell_type": "markdown",
   "metadata": {},
   "source": [
    "### ---------------------"
   ]
  },
  {
   "cell_type": "code",
   "execution_count": 26,
   "metadata": {
    "scrolled": true
   },
   "outputs": [
    {
     "data": {
      "image/png": "[encoded data removed]",
      "text/plain": [
       "<Figure size 720x360 with 1 Axes>"
      ]
     },
     "metadata": {},
     "output_type": "display_data"
    }
   ],
   "source": [
    "# plot distribution for the # of reviews given per user\n",
    "sns_plot(plot_type='dist', x=reviews_df.user_id.value_counts(), xlabel='# of Reviews', ylabel='Frequency', title='# of Reviews Per User', bins=200)"
   ]
  },
  {
   "cell_type": "code",
   "execution_count": 27,
   "metadata": {
    "scrolled": true
   },
   "outputs": [
    {
     "data": {
      "image/png": "[encoded data removed]",
      "text/plain": [
       "<Figure size 720x360 with 1 Axes>"
      ]
     },
     "metadata": {},
     "output_type": "display_data"
    }
   ],
   "source": [
    "# plot distribution for the # of reviews given per user, when the # of reviews is less than or equal to 50\n",
    "sns_plot(plot_type='dist', x=reviews_df.user_id.value_counts()[reviews_df.user_id.value_counts()<=50], xlabel='# of Reviews', ylabel='Frequency', title='# of Reviews Per User\\nReviews Per User <= 50')"
   ]
  },
  {
   "cell_type": "code",
   "execution_count": 28,
   "metadata": {
    "scrolled": true
   },
   "outputs": [
    {
     "data": {
      "image/png": "[encoded data removed]",
      "text/plain": [
       "<Figure size 720x360 with 1 Axes>"
      ]
     },
     "metadata": {},
     "output_type": "display_data"
    }
   ],
   "source": [
    "# plot distribution for the # of reviews given per user, when the # of reviews is greater than 50\n",
    "sns_plot(plot_type='dist', x=reviews_df.user_id.value_counts()[reviews_df.user_id.value_counts()>50], xlabel='# of Reviews', ylabel='Frequency', title='# of Reviews Per User\\nReviews Per User > 50')"
   ]
  },
  {
   "cell_type": "code",
   "execution_count": 29,
   "metadata": {},
   "outputs": [
    {
     "data": {
      "text/html": [
       "<div>\n",
       "<style scoped>\n",
       "    .dataframe tbody tr th:only-of-type {\n",
       "        vertical-align: middle;\n",
       "    }\n",
       "\n",
       "    .dataframe tbody tr th {\n",
       "        vertical-align: top;\n",
       "    }\n",
       "\n",
       "    .dataframe thead th {\n",
       "        text-align: right;\n",
       "    }\n",
       "</style>\n",
       "<table border=\"1\" class=\"dataframe\">\n",
       "  <thead>\n",
       "    <tr style=\"text-align: right;\">\n",
       "      <th></th>\n",
       "      <th>restaurant_id</th>\n",
       "      <th>star_rating</th>\n",
       "    </tr>\n",
       "    <tr>\n",
       "      <th>review_date</th>\n",
       "      <th></th>\n",
       "      <th></th>\n",
       "    </tr>\n",
       "  </thead>\n",
       "  <tbody>\n",
       "    <tr>\n",
       "      <th>2018-11-12 14:56:58</th>\n",
       "      <td>16574679</td>\n",
       "      <td>5.0</td>\n",
       "    </tr>\n",
       "    <tr>\n",
       "      <th>2018-11-08 09:03:21</th>\n",
       "      <td>16574679</td>\n",
       "      <td>5.0</td>\n",
       "    </tr>\n",
       "    <tr>\n",
       "      <th>2018-09-28 20:38:18</th>\n",
       "      <td>16574679</td>\n",
       "      <td>4.0</td>\n",
       "    </tr>\n",
       "    <tr>\n",
       "      <th>2018-09-23 13:25:33</th>\n",
       "      <td>16574679</td>\n",
       "      <td>5.0</td>\n",
       "    </tr>\n",
       "    <tr>\n",
       "      <th>2018-09-20 17:21:03</th>\n",
       "      <td>16574679</td>\n",
       "      <td>5.0</td>\n",
       "    </tr>\n",
       "  </tbody>\n",
       "</table>\n",
       "</div>"
      ],
      "text/plain": [
       "                     restaurant_id  star_rating\n",
       "review_date                                    \n",
       "2018-11-12 14:56:58       16574679          5.0\n",
       "2018-11-08 09:03:21       16574679          5.0\n",
       "2018-09-28 20:38:18       16574679          4.0\n",
       "2018-09-23 13:25:33       16574679          5.0\n",
       "2018-09-20 17:21:03       16574679          5.0"
      ]
     },
     "execution_count": 29,
     "metadata": {},
     "output_type": "execute_result"
    }
   ],
   "source": [
    "# filter reviews dataset so that it only shows the 2018 reviews\n",
    "reviews_df_2018 = reviews_df[reviews_df.review_date.dt.year == 2018]\n",
    "reviews_df_2018 = reviews_df_2018[['restaurant_id','review_date', 'star_rating']]\n",
    "reviews_df_2018.set_index('review_date',inplace=True)\n",
    "reviews_df_2018.head()"
   ]
  },
  {
   "cell_type": "code",
   "execution_count": 30,
   "metadata": {
    "scrolled": true
   },
   "outputs": [
    {
     "data": {
      "image/png": "[encoded data removed]",
      "text/plain": [
       "<Figure size 1080x360 with 1 Axes>"
      ]
     },
     "metadata": {},
     "output_type": "display_data"
    }
   ],
   "source": [
    "# latest 2018 ratings for a given restaurant \n",
    "rest_id = 16578793 # Patricia Coffee Brewers\n",
    "rest_name = businesses_df[businesses_df.restaurant_id==rest_id]['name'].values[0]\n",
    "per_restaurant_ratings_timeseries = reviews_df_2018[reviews_df_2018.restaurant_id==rest_id]\n",
    "per_restaurant_ratings_timeseries.index = per_restaurant_ratings_timeseries.index.date\n",
    "# plot star_rating for a particular restaurant\n",
    "sns_plot(plot_type='scatter', x=per_restaurant_ratings_timeseries.index, y=per_restaurant_ratings_timeseries.star_rating, \n",
    "         xlabel='Date', ylabel='Rating', title=rest_name + '\\n' + 'Star Ratings for 2018', figsize=(15,5))\n",
    "#per_restaurant_ratings_timeseries.sort_index().head(25)"
   ]
  },
  {
   "cell_type": "code",
   "execution_count": 31,
   "metadata": {},
   "outputs": [
    {
     "data": {
      "image/png": "[encoded data removed]",
      "text/plain": [
       "<Figure size 720x360 with 1 Axes>"
      ]
     },
     "metadata": {},
     "output_type": "display_data"
    }
   ],
   "source": [
    "# plot distribution for the star ratings for a restaurant in 2018\n",
    "sns_plot(plot_type='dist', x=per_restaurant_ratings_timeseries.star_rating, xlabel='Star Ratings', ylabel='Frequency', title=rest_name + '\\nStar Ratings Distribution for 2018',bins=10)"
   ]
  },
  {
   "cell_type": "code",
   "execution_count": 32,
   "metadata": {},
   "outputs": [
    {
     "data": {
      "image/png": "[encoded data removed]",
      "text/plain": [
       "<Figure size 1080x360 with 1 Axes>"
      ]
     },
     "metadata": {},
     "output_type": "display_data"
    }
   ],
   "source": [
    "# latest 2018 ratings for a given restaurant \n",
    "rest_id = 16577492 # Chin Chin\n",
    "rest_name = businesses_df[businesses_df.restaurant_id==rest_id]['name'].values[0]\n",
    "per_restaurant_ratings_timeseries = reviews_df_2018[reviews_df_2018.restaurant_id==rest_id]\n",
    "per_restaurant_ratings_timeseries.index = per_restaurant_ratings_timeseries.index.date\n",
    "# plot star_rating for a particular restaurant\n",
    "sns_plot(plot_type='scatter', x=per_restaurant_ratings_timeseries.index, y=per_restaurant_ratings_timeseries.star_rating, \n",
    "         xlabel='Date', ylabel='Rating', title=rest_name + '\\n' + 'Star Ratings for 2018', figsize=(15,5))"
   ]
  },
  {
   "cell_type": "code",
   "execution_count": 33,
   "metadata": {},
   "outputs": [
    {
     "data": {
      "image/png": "[encoded data removed]",
      "text/plain": [
       "<Figure size 720x360 with 1 Axes>"
      ]
     },
     "metadata": {},
     "output_type": "display_data"
    }
   ],
   "source": [
    "# plot distribution for the star ratings for a restaurant in 2018\n",
    "sns_plot(plot_type='dist', x=per_restaurant_ratings_timeseries.star_rating, xlabel='Star Ratings', ylabel='Frequency', title=rest_name + '\\nStar Ratings Distribution for 2018',bins=10)"
   ]
  },
  {
   "cell_type": "code",
   "execution_count": 34,
   "metadata": {},
   "outputs": [
    {
     "data": {
      "image/png": "[encoded data removed]",
      "text/plain": [
       "<Figure size 1080x360 with 1 Axes>"
      ]
     },
     "metadata": {},
     "output_type": "display_data"
    }
   ],
   "source": [
    "# checking correlation between a user's # of reviews IN the dataset and the user's average rating\n",
    "review_count_per_user = reviews_df.groupby('user_id')['review_id'].count()\n",
    "average_rating_per_user = reviews_df.groupby('user_id')['star_rating'].mean()\n",
    "average_rating_review_count = pd.merge(pd.DataFrame(average_rating_per_user), pd.DataFrame(review_count_per_user), left_on='user_id', right_on='user_id')\n",
    "sns_plot(plot_type='scatter', x=average_rating_review_count.review_id, y=average_rating_review_count.star_rating,\n",
    "         xlabel='Total # of Reviews Per User', ylabel='Average Rating', title='User Review Count vs. Average Rating\\nReview Count - total within Dataset', figsize=(15,5))"
   ]
  },
  {
   "cell_type": "code",
   "execution_count": 35,
   "metadata": {},
   "outputs": [
    {
     "data": {
      "image/png": "[encoded data removed]",
      "text/plain": [
       "<Figure size 1080x360 with 1 Axes>"
      ]
     },
     "metadata": {},
     "output_type": "display_data"
    }
   ],
   "source": [
    "# checking correlation between a user's # of reviews (profiled as overall total in Zomato) and the user's average rating\n",
    "average_rating_per_user = pd.DataFrame(reviews_df.groupby('user_id')['star_rating'].mean())\n",
    "average_rating_per_user['total_review_count'] = average_rating_per_user.index.map(lambda x: np.max(reviews_df[reviews_df.user_id == x]['user_review_count']))\n",
    "sns_plot(plot_type='scatter', x=average_rating_per_user.total_review_count, y=average_rating_per_user.star_rating,\n",
    "         xlabel='Total # of Reviews Per User', ylabel='Average Rating', title=\"User Review Count vs. Average Rating\\nReview Count - User's Total in Zomato\", figsize=(15,5))"
   ]
  },
  {
   "cell_type": "code",
   "execution_count": 37,
   "metadata": {},
   "outputs": [
    {
     "data": {
      "image/png": "[encoded data removed]",
      "text/plain": [
       "<Figure size 720x360 with 1 Axes>"
      ]
     },
     "metadata": {},
     "output_type": "display_data"
    }
   ],
   "source": [
    "# plot distribution for the average star ratings of all restaurants in the dataset\n",
    "rating_mean_df = reviews_df.groupby('restaurant_id')['star_rating'].mean()\n",
    "sns_plot(plot_type='dist', x=rating_mean_df, xlabel='Average Star Ratings per Restaurant', ylabel='Frequency', title=\"Average Star Ratings Distribution\\n All Restaurants in 'Best of Melbourne' collection\",bins=10)\n"
   ]
  },
  {
   "cell_type": "code",
   "execution_count": 38,
   "metadata": {},
   "outputs": [
    {
     "data": {
      "image/png": "[encoded data removed]",
      "text/plain": [
       "<Figure size 720x360 with 1 Axes>"
      ]
     },
     "metadata": {},
     "output_type": "display_data"
    }
   ],
   "source": [
    "# plot distribution for the average followers count of all users in the dataset\n",
    "rating_mean_df = reviews_df.groupby('user_id')['user_followers_count'].mean()\n",
    "sns_plot(plot_type='dist', x=rating_mean_df, xlabel='# of Followers', ylabel='Frequency', title=\"# of Followers Per User\",bins=10)"
   ]
  },
  {
   "cell_type": "code",
   "execution_count": 39,
   "metadata": {},
   "outputs": [
    {
     "data": {
      "image/png": "[encoded data removed]",
      "text/plain": [
       "<Figure size 720x360 with 1 Axes>"
      ]
     },
     "metadata": {},
     "output_type": "display_data"
    }
   ],
   "source": [
    "# plot distribution for the average followers count of all users in the dataset\n",
    "followers_mean_df = reviews_df[reviews_df.user_followers_count>=1000].groupby('user_id')['user_followers_count'].mean()\n",
    "sns_plot(plot_type='dist', x=followers_mean_df, xlabel='# of Followers', ylabel='Frequency', title=\"# of Followers > 1000 Per User\",bins=10)"
   ]
  },
  {
   "cell_type": "code",
   "execution_count": 41,
   "metadata": {},
   "outputs": [
    {
     "data": {
      "text/plain": [
       "<matplotlib.axes._subplots.AxesSubplot at 0x1f6041fa8d0>"
      ]
     },
     "execution_count": 41,
     "metadata": {},
     "output_type": "execute_result"
    },
    {
     "data": {
      "image/png": "[encoded data removed]",
      "text/plain": [
       "<Figure size 432x288 with 2 Axes>"
      ]
     },
     "metadata": {},
     "output_type": "display_data"
    }
   ],
   "source": [
    "# heatmap shows there is virtually no correlation between average rating per user and total review count per user, even when setting # of reviews greater than 650\n",
    "sns.heatmap(average_rating_per_user[average_rating_per_user.total_review_count > 650].corr(), annot=True, cmap=\"coolwarm\",fmt='.2f',\n",
    "                 linewidths=.05)"
   ]
  },
  {
   "cell_type": "code",
   "execution_count": 42,
   "metadata": {},
   "outputs": [
    {
     "data": {
      "image/png": "[encoded data removed]",
      "text/plain": [
       "<Figure size 1080x360 with 1 Axes>"
      ]
     },
     "metadata": {},
     "output_type": "display_data"
    }
   ],
   "source": [
    "# checking correlation between a user's # of followers (profiled as overall total in Zomato) and the user's average rating\n",
    "average_rating_follower_per_user = pd.DataFrame(reviews_df.groupby('user_id')['star_rating'].mean())\n",
    "average_rating_follower_per_user['total_follower_count'] = average_rating_follower_per_user.index.map(lambda x: np.max(reviews_df[reviews_df.user_id == x]['user_followers_count']))\n",
    "sns_plot(plot_type='scatter', x=average_rating_follower_per_user.total_follower_count, y=average_rating_follower_per_user.star_rating,\n",
    "         xlabel='Total # of Followers Per User', ylabel='Average Rating', title=\"User Follower Count vs. Average Rating\\nFollower Count - User's Total in Zomato\", figsize=(15,5))"
   ]
  },
  {
   "cell_type": "code",
   "execution_count": 43,
   "metadata": {},
   "outputs": [
    {
     "data": {
      "text/plain": [
       "<matplotlib.axes._subplots.AxesSubplot at 0x1f6057e6748>"
      ]
     },
     "execution_count": 43,
     "metadata": {},
     "output_type": "execute_result"
    },
    {
     "data": {
      "image/png": "[encoded data removed]",
      "text/plain": [
       "<Figure size 432x288 with 2 Axes>"
      ]
     },
     "metadata": {},
     "output_type": "display_data"
    }
   ],
   "source": [
    "# heatmap shows a slight correlation between star rating and total follower count of a user, even when # of followers is greater than 1000\n",
    "# testing the effect to star ratings provided when the # of followers is high - very slight correlation exists\n",
    "sns.heatmap(average_rating_follower_per_user[average_rating_follower_per_user.total_follower_count > 1000].corr(), annot=True, cmap=\"coolwarm\",fmt='.2f',\n",
    "                 linewidths=.05)"
   ]
  },
  {
   "cell_type": "code",
   "execution_count": 44,
   "metadata": {
    "scrolled": true
   },
   "outputs": [
    {
     "data": {
      "text/plain": [
       "<matplotlib.axes._subplots.AxesSubplot at 0x1f60541d6d8>"
      ]
     },
     "execution_count": 44,
     "metadata": {},
     "output_type": "execute_result"
    },
    {
     "data": {
      "image/png": "[encoded data removed]",
      "text/plain": [
       "<Figure size 432x288 with 2 Axes>"
      ]
     },
     "metadata": {},
     "output_type": "display_data"
    }
   ],
   "source": [
    "# heatmap below shows good correlation between user_review_count and user_follower_count;\n",
    "# it also shows no correlation between star_rating and the each of the former 2 features\n",
    "sns.heatmap(reviews_df[['user_review_count','user_followers_count','star_rating']].corr(), annot=True, cmap=\"coolwarm\",fmt='.2f',\n",
    "                 linewidths=.05)"
   ]
  },
  {
   "cell_type": "code",
   "execution_count": 45,
   "metadata": {},
   "outputs": [],
   "source": [
    "# combine 2 dataframes by column, retaining the index of the left dataframe\n",
    "def append_dataframes_by_column_retain_left_index(df_left, df_right):\n",
    "\n",
    "    # change right dataframe's index to be the same as the left dataframe\n",
    "    df_right.set_index(df_left.index,inplace=True)\n",
    "    # concatenate the 2 dataframes by the columns\n",
    "    df_left = pd.concat([df_left,df_right],axis=1)\n",
    "\n",
    "    return df_left"
   ]
  },
  {
   "cell_type": "code",
   "execution_count": 46,
   "metadata": {},
   "outputs": [],
   "source": [
    "def dummify_columns(df, columns_to_dummify_list):\n",
    "\n",
    "    # for every column to dummify\n",
    "    for column in columns_to_dummify_list:\n",
    "\n",
    "        # fit labelbinarizer to job_category_1 column\n",
    "        lb = preprocessing.LabelBinarizer(sparse_output=True)\n",
    "        dummies_sparse = lb.fit_transform(df[column])\n",
    "\n",
    "        # dummify values to a matrix and load on to a dataframe\n",
    "        column_names = [(column + '_' + dummy_class) for dummy_class in lb.classes_]\n",
    "        df_dummies = pd.DataFrame(dummies_sparse.todense(), columns=column_names)\n",
    "        # drop last column for dummies (to dummify - 1)\n",
    "        df_dummies.drop(df_dummies.columns[-1], axis=1, inplace=True)\n",
    "        # drop the original column (the one dummies were based on)\n",
    "        df.drop(column, axis=1, inplace=True)\n",
    "        # combine the 2 dataframes, retaining the left dataframe's index\n",
    "        df = append_dataframes_by_column_retain_left_index(df,df_dummies)\n",
    "    \n",
    "    return df"
   ]
  },
  {
   "cell_type": "markdown",
   "metadata": {},
   "source": [
    "### Slicing the dataset\n",
    "Trimming the dataset down may be necessary to increase the relevance of the results generated from a recommender system. \n",
    "\n",
    "As an example, if the restaurants were filtered to those that have at least 20 reviews, thus disregarding those that have less than 20 reviews and effectively impacting the number of users and reviews left in the dataset, then the recommender would be able to provide more useful recommendations. These recommendations are ideally calculated with user-item and item-item collaborative filtering methods."
   ]
  },
  {
   "cell_type": "code",
   "execution_count": 47,
   "metadata": {},
   "outputs": [],
   "source": [
    "# assess the impact of slicing the dataset by analyzing the resulting number of restaurants, users, and ratings\n",
    "def assess_slice_dataset(minimum_count, slice_on_feature, reviews_df):\n",
    "    \n",
    "    reviews_sliced = reviews_df.copy()\n",
    "\n",
    "    # if slicing is based on the feature restaurant_id\n",
    "    if slice_on_feature == 'restaurant_id':\n",
    "        \n",
    "        # get the count of reviews per restaurant\n",
    "        review_count_per_restaurant = reviews_sliced.groupby('restaurant_id')['restaurant_id'].count()\n",
    "        # filter to restaurants that satisfy the minimum # of reviews requirement\n",
    "        review_count_per_restaurant = review_count_per_restaurant[review_count_per_restaurant>=minimum_count]\n",
    "        # get the restaurant_id's\n",
    "        feature_ids = list(review_count_per_restaurant.index)\n",
    "\n",
    "        # apply filter to dataset\n",
    "        reviews_sliced = reviews_sliced[reviews_sliced.restaurant_id.isin(feature_ids)]\n",
    "\n",
    "        # count # of restaurants\n",
    "        restaurant_count = len(feature_ids)\n",
    "        # count # of users who left review(s) to one or more of these restaurants\n",
    "        user_count = reviews_sliced.user_id.nunique()\n",
    "        \n",
    "    # if slicing is based on the feature user_id\n",
    "    elif slice_on_feature == 'user_id':\n",
    "        # get the count of reviews per user\n",
    "        review_count_per_user = reviews_sliced.groupby('user_id')['user_id'].count()\n",
    "        # filter to users that satisfy the minimum # of reviews requirement\n",
    "        review_count_per_user = review_count_per_user[review_count_per_user>=minimum_count]\n",
    "        # get the user_id's\n",
    "        feature_ids = list(review_count_per_user.index)\n",
    "\n",
    "        # apply filter to dataset\n",
    "        reviews_sliced = reviews_sliced[reviews_sliced.user_id.isin(feature_ids)]    \n",
    "\n",
    "        # count # of restaurants\n",
    "        restaurant_count = reviews_sliced.restaurant_id.nunique()\n",
    "        # count # of users who left review(s) to one or more of these restaurants\n",
    "        user_count = len(feature_ids)\n",
    "    \n",
    "    # count # of reviews for these restaurants\n",
    "    review_count = reviews_sliced.review_id.count()\n",
    "\n",
    "    display('Sliced by ' + slice_on_feature + '; minimum count at ' + str(minimum_count))\n",
    "    display('Remaining # of restaurants: ' + str(restaurant_count))\n",
    "    display('Remaining # of users: ' + str(user_count))\n",
    "    display('Remaining # of reviews: ' + str(review_count))\n",
    "    display('Reviews to matrix size ratio: ' + str(review_count / (restaurant_count * user_count)))\n",
    "    display('-' * 20)\n",
    "    return reviews_sliced"
   ]
  },
  {
   "cell_type": "code",
   "execution_count": null,
   "metadata": {},
   "outputs": [],
   "source": [
    "# # slice the dataset with these criteria\n",
    "\n",
    "# # slice dataset to filter to restaurants with 25 or more reviews\n",
    "# reviews_sliced = assess_slice_dataset(25, 'restaurant_id', reviews_df)\n",
    "# # slice dataset to filter to users with 5 or more reviews in the dataset\n",
    "# reviews_sliced = assess_slice_dataset(10, 'user_id', reviews_sliced)\n",
    "# reviews_sliced = assess_slice_dataset(5, 'restaurant_id', reviews_sliced)"
   ]
  },
  {
   "cell_type": "code",
   "execution_count": null,
   "metadata": {},
   "outputs": [],
   "source": [
    "# # slice the dataset with these criteria\n",
    "\n",
    "# #reviews_sliced = assess_slice_dataset(25, 'restaurant_id', reviews_df)\n",
    "# reviews_sliced = assess_slice_dataset(10, 'user_id', reviews_df)\n",
    "# reviews_sliced = assess_slice_dataset(10, 'restaurant_id', reviews_sliced)\n",
    "# reviews_sliced = assess_slice_dataset(5, 'user_id', reviews_sliced)"
   ]
  },
  {
   "cell_type": "markdown",
   "metadata": {},
   "source": [
    "### Train-Dev-Test split the dataset"
   ]
  },
  {
   "cell_type": "code",
   "execution_count": 48,
   "metadata": {},
   "outputs": [
    {
     "name": "stdout",
     "output_type": "stream",
     "text": [
      "Full data :  (28491, 9)\n",
      "Train set :  (18233, 9)\n",
      "Dev set :  (4559, 9)\n",
      "Test set :  (5699, 9)\n"
     ]
    }
   ],
   "source": [
    "# split into to train and test sets\n",
    "train_reviews_df, test_reviews_df = train_test_split(reviews_df, test_size=0.2, random_state=42)\n",
    "\n",
    "# split train further into train and dev sets\n",
    "train_reviews_df, dev_reviews_df = train_test_split(train_reviews_df, test_size=0.2, random_state=42)\n",
    "\n",
    "# display shapes\n",
    "print('Full data : ',  reviews_df.shape)\n",
    "print('Train set : ', train_reviews_df.shape)\n",
    "print('Dev set : ',  dev_reviews_df.shape)\n",
    "print('Test set : ', test_reviews_df.shape)"
   ]
  },
  {
   "cell_type": "code",
   "execution_count": 49,
   "metadata": {},
   "outputs": [
    {
     "data": {
      "text/html": [
       "<div>\n",
       "<style scoped>\n",
       "    .dataframe tbody tr th:only-of-type {\n",
       "        vertical-align: middle;\n",
       "    }\n",
       "\n",
       "    .dataframe tbody tr th {\n",
       "        vertical-align: top;\n",
       "    }\n",
       "\n",
       "    .dataframe thead th {\n",
       "        text-align: right;\n",
       "    }\n",
       "</style>\n",
       "<table border=\"1\" class=\"dataframe\">\n",
       "  <thead>\n",
       "    <tr style=\"text-align: right;\">\n",
       "      <th></th>\n",
       "      <th># of Restaurants</th>\n",
       "      <th># of Users</th>\n",
       "      <th># of Reviews</th>\n",
       "    </tr>\n",
       "  </thead>\n",
       "  <tbody>\n",
       "    <tr>\n",
       "      <th>Total before Split</th>\n",
       "      <td>253</td>\n",
       "      <td>12349</td>\n",
       "      <td>28491</td>\n",
       "    </tr>\n",
       "  </tbody>\n",
       "</table>\n",
       "</div>"
      ],
      "text/plain": [
       "                    # of Restaurants  # of Users  # of Reviews\n",
       "Total before Split               253       12349         28491"
      ]
     },
     "metadata": {},
     "output_type": "display_data"
    },
    {
     "data": {
      "text/html": [
       "<div>\n",
       "<style scoped>\n",
       "    .dataframe tbody tr th:only-of-type {\n",
       "        vertical-align: middle;\n",
       "    }\n",
       "\n",
       "    .dataframe tbody tr th {\n",
       "        vertical-align: top;\n",
       "    }\n",
       "\n",
       "    .dataframe thead th {\n",
       "        text-align: right;\n",
       "    }\n",
       "</style>\n",
       "<table border=\"1\" class=\"dataframe\">\n",
       "  <thead>\n",
       "    <tr style=\"text-align: right;\">\n",
       "      <th></th>\n",
       "      <th># of Restaurants</th>\n",
       "      <th># of Users</th>\n",
       "      <th># of Reviews</th>\n",
       "    </tr>\n",
       "  </thead>\n",
       "  <tbody>\n",
       "    <tr>\n",
       "      <th>Total for Train set</th>\n",
       "      <td>253</td>\n",
       "      <td>9035</td>\n",
       "      <td>18233</td>\n",
       "    </tr>\n",
       "  </tbody>\n",
       "</table>\n",
       "</div>"
      ],
      "text/plain": [
       "                     # of Restaurants  # of Users  # of Reviews\n",
       "Total for Train set               253        9035         18233"
      ]
     },
     "metadata": {},
     "output_type": "display_data"
    },
    {
     "data": {
      "text/html": [
       "<div>\n",
       "<style scoped>\n",
       "    .dataframe tbody tr th:only-of-type {\n",
       "        vertical-align: middle;\n",
       "    }\n",
       "\n",
       "    .dataframe tbody tr th {\n",
       "        vertical-align: top;\n",
       "    }\n",
       "\n",
       "    .dataframe thead th {\n",
       "        text-align: right;\n",
       "    }\n",
       "</style>\n",
       "<table border=\"1\" class=\"dataframe\">\n",
       "  <thead>\n",
       "    <tr style=\"text-align: right;\">\n",
       "      <th></th>\n",
       "      <th># of Restaurants</th>\n",
       "      <th># of Users</th>\n",
       "      <th># of Reviews</th>\n",
       "    </tr>\n",
       "  </thead>\n",
       "  <tbody>\n",
       "    <tr>\n",
       "      <th>Total for Dev set</th>\n",
       "      <td>243</td>\n",
       "      <td>3249</td>\n",
       "      <td>4559</td>\n",
       "    </tr>\n",
       "  </tbody>\n",
       "</table>\n",
       "</div>"
      ],
      "text/plain": [
       "                   # of Restaurants  # of Users  # of Reviews\n",
       "Total for Dev set               243        3249          4559"
      ]
     },
     "metadata": {},
     "output_type": "display_data"
    },
    {
     "data": {
      "text/html": [
       "<div>\n",
       "<style scoped>\n",
       "    .dataframe tbody tr th:only-of-type {\n",
       "        vertical-align: middle;\n",
       "    }\n",
       "\n",
       "    .dataframe tbody tr th {\n",
       "        vertical-align: top;\n",
       "    }\n",
       "\n",
       "    .dataframe thead th {\n",
       "        text-align: right;\n",
       "    }\n",
       "</style>\n",
       "<table border=\"1\" class=\"dataframe\">\n",
       "  <thead>\n",
       "    <tr style=\"text-align: right;\">\n",
       "      <th></th>\n",
       "      <th># of Restaurants</th>\n",
       "      <th># of Users</th>\n",
       "      <th># of Reviews</th>\n",
       "    </tr>\n",
       "  </thead>\n",
       "  <tbody>\n",
       "    <tr>\n",
       "      <th>Total for Test set</th>\n",
       "      <td>242</td>\n",
       "      <td>3859</td>\n",
       "      <td>5699</td>\n",
       "    </tr>\n",
       "  </tbody>\n",
       "</table>\n",
       "</div>"
      ],
      "text/plain": [
       "                    # of Restaurants  # of Users  # of Reviews\n",
       "Total for Test set               242        3859          5699"
      ]
     },
     "metadata": {},
     "output_type": "display_data"
    }
   ],
   "source": [
    "# total # of unique restaurants, users, and reviews before dataset split\n",
    "stat_before_split = pd.DataFrame([[len(reviews_df.restaurant_id.unique())], [len(reviews_df.user_id.unique())], [reviews_df.review_id.count()]], columns=['Total before Split'], index = ['# of Restaurants', '# of Users', '# of Reviews']).T\n",
    "display(stat_before_split.head())\n",
    "# total # of unique restaurants, users, and reviews for train dataset\n",
    "stat_train = pd.DataFrame([[len(train_reviews_df.restaurant_id.unique())], [len(train_reviews_df.user_id.unique())], [train_reviews_df.review_id.count()]], columns=['Total for Train set'], index = ['# of Restaurants', '# of Users', '# of Reviews']).T\n",
    "display(stat_train.head())\n",
    "# total # of unique restaurants, users, and reviews for dev dataset\n",
    "stat_dev = pd.DataFrame([[len(dev_reviews_df.restaurant_id.unique())], [len(dev_reviews_df.user_id.unique())], [dev_reviews_df.review_id.count()]], columns=['Total for Dev set'], index = ['# of Restaurants', '# of Users', '# of Reviews']).T\n",
    "display(stat_dev.head())\n",
    "# total # of unique restaurants, users, and reviews for test dataset\n",
    "stat_test = pd.DataFrame([[len(test_reviews_df.restaurant_id.unique())], [len(test_reviews_df.user_id.unique())], [test_reviews_df.review_id.count()]], columns=['Total for Test set'], index = ['# of Restaurants', '# of Users', '# of Reviews']).T\n",
    "display(stat_test.head())"
   ]
  },
  {
   "cell_type": "code",
   "execution_count": 50,
   "metadata": {},
   "outputs": [],
   "source": [
    "# prepare matrices for the recommender system (change null rating to 2.5)\n",
    "main_matrix = reviews_df.pivot_table(values='star_rating', columns='restaurant_id', index='user_id').fillna(2.5)\n",
    "train_matrix = train_reviews_df.pivot_table(values='star_rating', columns='restaurant_id', index='user_id').fillna(2.5)\n",
    "dev_matrix = dev_reviews_df.pivot_table(values='star_rating', columns='restaurant_id', index='user_id').fillna(2.5)\n",
    "test_matrix = test_reviews_df.pivot_table(values='star_rating', columns='restaurant_id', index='user_id').fillna(2.5)"
   ]
  },
  {
   "cell_type": "code",
   "execution_count": 51,
   "metadata": {},
   "outputs": [
    {
     "data": {
      "text/html": [
       "<div>\n",
       "<style scoped>\n",
       "    .dataframe tbody tr th:only-of-type {\n",
       "        vertical-align: middle;\n",
       "    }\n",
       "\n",
       "    .dataframe tbody tr th {\n",
       "        vertical-align: top;\n",
       "    }\n",
       "\n",
       "    .dataframe thead th {\n",
       "        text-align: right;\n",
       "    }\n",
       "</style>\n",
       "<table border=\"1\" class=\"dataframe\">\n",
       "  <thead>\n",
       "    <tr style=\"text-align: right;\">\n",
       "      <th></th>\n",
       "      <th># of Rows</th>\n",
       "      <th># of Columns:</th>\n",
       "    </tr>\n",
       "  </thead>\n",
       "  <tbody>\n",
       "    <tr>\n",
       "      <th>Full matrix</th>\n",
       "      <td>12349</td>\n",
       "      <td>253</td>\n",
       "    </tr>\n",
       "    <tr>\n",
       "      <th>Train matrix</th>\n",
       "      <td>9035</td>\n",
       "      <td>253</td>\n",
       "    </tr>\n",
       "    <tr>\n",
       "      <th>Dev matrix</th>\n",
       "      <td>3249</td>\n",
       "      <td>243</td>\n",
       "    </tr>\n",
       "    <tr>\n",
       "      <th>Test matrix</th>\n",
       "      <td>3859</td>\n",
       "      <td>242</td>\n",
       "    </tr>\n",
       "  </tbody>\n",
       "</table>\n",
       "</div>"
      ],
      "text/plain": [
       "              # of Rows  # of Columns:\n",
       "Full matrix       12349            253\n",
       "Train matrix       9035            253\n",
       "Dev matrix         3249            243\n",
       "Test matrix        3859            242"
      ]
     },
     "execution_count": 51,
     "metadata": {},
     "output_type": "execute_result"
    }
   ],
   "source": [
    "matrix_shape_list = [main_matrix.shape,train_matrix.shape,dev_matrix.shape,test_matrix.shape]\n",
    "row_list = []\n",
    "column_list = []\n",
    "for shape_row, shape_column in matrix_shape_list:\n",
    "    row_list.append(shape_row)\n",
    "    column_list.append(shape_column)\n",
    "\n",
    "matrix_shapes_df = pd.DataFrame({'# of Rows':row_list, '# of Columns:':column_list}, index=['Full matrix','Train matrix','Dev matrix','Test matrix'])\n",
    "matrix_shapes_df.head()"
   ]
  },
  {
   "cell_type": "code",
   "execution_count": 52,
   "metadata": {
    "scrolled": true
   },
   "outputs": [],
   "source": [
    "# check sparsity level of a matrix-form dataset\n",
    "def get_matrix_sparsity(matrix_df, desc):\n",
    "    sparsity = round((matrix_df==2.5).sum().sum() / float(matrix_df.shape[0]*matrix_df.shape[1]),3) * 100\n",
    "    print(\"The sparsity level of \" + desc + \" dataset is \" +  str(sparsity) + '%')\n",
    "    return sparsity"
   ]
  },
  {
   "cell_type": "code",
   "execution_count": 53,
   "metadata": {},
   "outputs": [
    {
     "name": "stdout",
     "output_type": "stream",
     "text": [
      "The sparsity level of Best of Melbourne - main dataset is 99.1%\n",
      "The sparsity level of Best of Melbourne - train dataset is 99.2%\n",
      "The sparsity level of Best of Melbourne - dev dataset is 99.4%\n",
      "The sparsity level of Best of Melbourne - test dataset is 99.4%\n"
     ]
    }
   ],
   "source": [
    "# check sparsity level of the matrices\n",
    "sparsity_list = [get_matrix_sparsity(main_matrix,'Best of Melbourne - main'), get_matrix_sparsity(train_matrix, 'Best of Melbourne - train'), get_matrix_sparsity(dev_matrix, 'Best of Melbourne - dev'), get_matrix_sparsity(test_matrix, 'Best of Melbourne - test')]"
   ]
  },
  {
   "cell_type": "code",
   "execution_count": 54,
   "metadata": {},
   "outputs": [],
   "source": [
    "# get the top n restaurants with the most # of m ratings, where m can be a single or a list of ratings \n",
    "def get_n_restaurants_with_m_ratings(assess_reviews_df, restaurant_count, ratings_list):    \n",
    "    top_n_restaurants_with_m_ratings = assess_reviews_df[assess_reviews_df.star_rating.isin(ratings_list)].groupby('restaurant_id')['restaurant_id'].count().sort_values(ascending=False).head(restaurant_count)\n",
    "    top_n_restaurants_df = businesses_df[businesses_df.restaurant_id.isin(top_n_restaurants_with_m_ratings.index[:restaurant_count])][['restaurant_id','name']].set_index('restaurant_id')\n",
    "    top_n_restaurants_df = top_n_restaurants_df.join(top_n_restaurants_with_m_ratings, how='inner')\n",
    "\n",
    "    star_column_label = ''\n",
    "    for rating in ratings_list:\n",
    "        if ratings_list[0]==rating:\n",
    "            star_column_label = str(rating)\n",
    "        else:\n",
    "            star_column_label += '/' + str(rating)\n",
    "    star_column_label += ' Star Rating Count'\n",
    "\n",
    "    top_n_restaurants_df.rename(columns={'name': 'Name', 'restaurant_id': star_column_label},inplace=True)\n",
    "    return top_n_restaurants_df.sort_values(star_column_label, ascending=False)"
   ]
  },
  {
   "cell_type": "code",
   "execution_count": 55,
   "metadata": {},
   "outputs": [],
   "source": [
    "# select a random restaurant from the ratings matrix\n",
    "def get_random_restaurant_from_matrix(top_n_restaurants_df):\n",
    "    random_index = np.random.choice(np.arange(0, top_n_restaurants_df.shape[0]), size=1)\n",
    "    subject_restaurant = pd.DataFrame(train_matrix.loc[:,top_n_restaurants_df.index[random_index[0]]])\n",
    "    return subject_restaurant"
   ]
  },
  {
   "cell_type": "markdown",
   "metadata": {},
   "source": [
    "### Personal Favorites-Based Recommendation\n",
    "The objective is to generate a Top-N Recommended Restaurants list based on a user's history of 5 star rated restaurants, sorted chronologically. This basically reminds the user of the restaurants that he/she previously rated highly and thus can be revisited."
   ]
  },
  {
   "cell_type": "code",
   "execution_count": 56,
   "metadata": {},
   "outputs": [
    {
     "data": {
      "text/plain": [
       "user_id\n",
       "37495749    79\n",
       "25511321    75\n",
       "41473737    69\n",
       "30863711    66\n",
       "47875655    63\n",
       "Name: restaurant_id, dtype: int64"
      ]
     },
     "execution_count": 56,
     "metadata": {},
     "output_type": "execute_result"
    }
   ],
   "source": [
    "# list # of reviews per user (to spot the most active reviewers) in the dataset\n",
    "# choose one user in this list to test the personal favorites-based recommendation\n",
    "reviews_df.groupby('user_id')['restaurant_id'].count().sort_values(ascending=False).head()"
   ]
  },
  {
   "cell_type": "code",
   "execution_count": 57,
   "metadata": {},
   "outputs": [
    {
     "data": {
      "text/plain": [
       "'User Name: Good Food Good Mood'"
      ]
     },
     "metadata": {},
     "output_type": "display_data"
    },
    {
     "data": {
      "text/plain": [
       "'Personal Favorites: 5 Star Rated Restaurants sorted chronologically (entire dataset):'"
      ]
     },
     "metadata": {},
     "output_type": "display_data"
    },
    {
     "data": {
      "text/html": [
       "<div>\n",
       "<style scoped>\n",
       "    .dataframe tbody tr th:only-of-type {\n",
       "        vertical-align: middle;\n",
       "    }\n",
       "\n",
       "    .dataframe tbody tr th {\n",
       "        vertical-align: top;\n",
       "    }\n",
       "\n",
       "    .dataframe thead th {\n",
       "        text-align: right;\n",
       "    }\n",
       "</style>\n",
       "<table border=\"1\" class=\"dataframe\">\n",
       "  <thead>\n",
       "    <tr style=\"text-align: right;\">\n",
       "      <th></th>\n",
       "      <th>Restaurant Name</th>\n",
       "      <th>Star Rating</th>\n",
       "      <th>Review</th>\n",
       "    </tr>\n",
       "    <tr>\n",
       "      <th>Review Date</th>\n",
       "      <th></th>\n",
       "      <th></th>\n",
       "      <th></th>\n",
       "    </tr>\n",
       "  </thead>\n",
       "  <tbody>\n",
       "    <tr>\n",
       "      <th>2018-11-05 03:55:06</th>\n",
       "      <td>Fourth Chapter</td>\n",
       "      <td>5.0</td>\n",
       "      <td>We were invited to Fourth Chapter today and we...</td>\n",
       "    </tr>\n",
       "    <tr>\n",
       "      <th>2018-10-08 04:52:15</th>\n",
       "      <td>Roasting Warehouse</td>\n",
       "      <td>5.0</td>\n",
       "      <td>We were invited to Roasting Warehouse on Satur...</td>\n",
       "    </tr>\n",
       "    <tr>\n",
       "      <th>2018-09-29 04:15:12</th>\n",
       "      <td>Dish &amp; Spoon</td>\n",
       "      <td>5.0</td>\n",
       "      <td>We were invited to Dish and Spoon yesterday an...</td>\n",
       "    </tr>\n",
       "    <tr>\n",
       "      <th>2018-09-25 11:11:18</th>\n",
       "      <td>Old School Pizza</td>\n",
       "      <td>5.0</td>\n",
       "      <td>I was so excited to be invited to Old School p...</td>\n",
       "    </tr>\n",
       "    <tr>\n",
       "      <th>2018-09-17 10:16:33</th>\n",
       "      <td>Project 281 Cafe</td>\n",
       "      <td>5.0</td>\n",
       "      <td>We were invited to Project 281 and wow what an...</td>\n",
       "    </tr>\n",
       "    <tr>\n",
       "      <th>2018-08-21 03:55:43</th>\n",
       "      <td>Izakaya Kuuraku</td>\n",
       "      <td>5.0</td>\n",
       "      <td>We were invited to Izakaya Kuuraku last night,...</td>\n",
       "    </tr>\n",
       "    <tr>\n",
       "      <th>2018-07-28 12:27:58</th>\n",
       "      <td>Burger Shurger</td>\n",
       "      <td>5.0</td>\n",
       "      <td>Being a massive butter chicken fan I was thril...</td>\n",
       "    </tr>\n",
       "    <tr>\n",
       "      <th>2018-07-28 12:07:51</th>\n",
       "      <td>The White Elephant Sri Lankan Cuisine</td>\n",
       "      <td>5.0</td>\n",
       "      <td>When I received the invitation to visit White ...</td>\n",
       "    </tr>\n",
       "    <tr>\n",
       "      <th>2018-07-15 07:04:04</th>\n",
       "      <td>No.19</td>\n",
       "      <td>5.0</td>\n",
       "      <td>I was invited to No19 this morning and it was ...</td>\n",
       "    </tr>\n",
       "    <tr>\n",
       "      <th>2018-05-10 10:35:46</th>\n",
       "      <td>Au79</td>\n",
       "      <td>5.0</td>\n",
       "      <td>UPDATE I was delighted to be invited to Au79 t...</td>\n",
       "    </tr>\n",
       "  </tbody>\n",
       "</table>\n",
       "</div>"
      ],
      "text/plain": [
       "                                           Restaurant Name  Star Rating  \\\n",
       "Review Date                                                               \n",
       "2018-11-05 03:55:06                         Fourth Chapter          5.0   \n",
       "2018-10-08 04:52:15                     Roasting Warehouse          5.0   \n",
       "2018-09-29 04:15:12                           Dish & Spoon          5.0   \n",
       "2018-09-25 11:11:18                       Old School Pizza          5.0   \n",
       "2018-09-17 10:16:33                       Project 281 Cafe          5.0   \n",
       "2018-08-21 03:55:43                        Izakaya Kuuraku          5.0   \n",
       "2018-07-28 12:27:58                         Burger Shurger          5.0   \n",
       "2018-07-28 12:07:51  The White Elephant Sri Lankan Cuisine          5.0   \n",
       "2018-07-15 07:04:04                                  No.19          5.0   \n",
       "2018-05-10 10:35:46                                   Au79          5.0   \n",
       "\n",
       "                                                                Review  \n",
       "Review Date                                                             \n",
       "2018-11-05 03:55:06  We were invited to Fourth Chapter today and we...  \n",
       "2018-10-08 04:52:15  We were invited to Roasting Warehouse on Satur...  \n",
       "2018-09-29 04:15:12  We were invited to Dish and Spoon yesterday an...  \n",
       "2018-09-25 11:11:18  I was so excited to be invited to Old School p...  \n",
       "2018-09-17 10:16:33  We were invited to Project 281 and wow what an...  \n",
       "2018-08-21 03:55:43  We were invited to Izakaya Kuuraku last night,...  \n",
       "2018-07-28 12:27:58  Being a massive butter chicken fan I was thril...  \n",
       "2018-07-28 12:07:51  When I received the invitation to visit White ...  \n",
       "2018-07-15 07:04:04  I was invited to No19 this morning and it was ...  \n",
       "2018-05-10 10:35:46  UPDATE I was delighted to be invited to Au79 t...  "
      ]
     },
     "metadata": {},
     "output_type": "display_data"
    }
   ],
   "source": [
    "# Get the subject user's 5-star rated srestaurants, sorted chronologically\n",
    "# performing this against the entire dataset, rather than limiting it to the training set,\n",
    "# for the purpose of maximizing the entire list of reviews of a given user and, thus, yield more insightful results\n",
    "\n",
    "# choose subject user\n",
    "subject_user = train_matrix.sample()\n",
    "subject_user.head()\n",
    "# for testing: set subject user to the one with the highest # of reviews in the dataset\n",
    "subject_user = train_matrix[train_matrix.index==37495749]\n",
    "\n",
    "# get the restaurants rated with 5 stars by subject user\n",
    "personal_favorites_df = reviews_df[(reviews_df.user_id==subject_user.index[0]) & (reviews_df.star_rating.isin([5]))][['restaurant_id','user_id','user_name','review_date','star_rating','textual_review']].sort_values('review_date',ascending=False).set_index('user_id')\n",
    "user_name = personal_favorites_df.iloc[0,1]\n",
    "\n",
    "#businesses_df[['restaurant_id', 'name']].set_index('restaurant_id')\n",
    "\n",
    "personal_favorites_df = personal_favorites_df.merge(businesses_df[['restaurant_id','name']], on='restaurant_id') #left_on=personal_favorites_df.index, right_on='restaurant_id')\n",
    "personal_favorites_df = personal_favorites_df[['review_date','name','star_rating','textual_review']]\n",
    "personal_favorites_df = personal_favorites_df.rename(columns={'review_date':'Review Date', 'name':'Restaurant Name', 'star_rating':'Star Rating', 'textual_review': 'Review'}).set_index('Review Date')\n",
    "\n",
    "# Get the top 10 restaurants in the entire dataset with the most # of 5-Star Ratings\n",
    "\n",
    "display('User Name: ' + str(user_name))\n",
    "display('Personal Favorites: 5 Star Rated Restaurants sorted chronologically (entire dataset):')\n",
    "display(personal_favorites_df.head(10))"
   ]
  },
  {
   "cell_type": "markdown",
   "metadata": {},
   "source": [
    "### Popularity-Based Recommendation\n",
    "The objective is to generate a Top-N Recommended Restaurants list for the restaurants with the highest number of 5-star ratings. "
   ]
  },
  {
   "cell_type": "code",
   "execution_count": 58,
   "metadata": {},
   "outputs": [
    {
     "data": {
      "text/plain": [
       "'Popularity-Based: Top 10 Restaurants with most 5-Star Ratings (entire dataset):'"
      ]
     },
     "metadata": {},
     "output_type": "display_data"
    },
    {
     "data": {
      "text/html": [
       "<div>\n",
       "<style scoped>\n",
       "    .dataframe tbody tr th:only-of-type {\n",
       "        vertical-align: middle;\n",
       "    }\n",
       "\n",
       "    .dataframe tbody tr th {\n",
       "        vertical-align: top;\n",
       "    }\n",
       "\n",
       "    .dataframe thead th {\n",
       "        text-align: right;\n",
       "    }\n",
       "</style>\n",
       "<table border=\"1\" class=\"dataframe\">\n",
       "  <thead>\n",
       "    <tr style=\"text-align: right;\">\n",
       "      <th></th>\n",
       "      <th>Name</th>\n",
       "      <th>5 Star Rating Count</th>\n",
       "    </tr>\n",
       "    <tr>\n",
       "      <th>restaurant_id</th>\n",
       "      <th></th>\n",
       "      <th></th>\n",
       "    </tr>\n",
       "  </thead>\n",
       "  <tbody>\n",
       "    <tr>\n",
       "      <th>16586502</th>\n",
       "      <td>Full Turn Kitchen Bar</td>\n",
       "      <td>139</td>\n",
       "    </tr>\n",
       "    <tr>\n",
       "      <th>17881527</th>\n",
       "      <td>Dexter</td>\n",
       "      <td>125</td>\n",
       "    </tr>\n",
       "    <tr>\n",
       "      <th>18418602</th>\n",
       "      <td>Shanklin Cafe</td>\n",
       "      <td>125</td>\n",
       "    </tr>\n",
       "    <tr>\n",
       "      <th>16582770</th>\n",
       "      <td>Rice Workshop</td>\n",
       "      <td>118</td>\n",
       "    </tr>\n",
       "    <tr>\n",
       "      <th>16570775</th>\n",
       "      <td>Attica</td>\n",
       "      <td>110</td>\n",
       "    </tr>\n",
       "    <tr>\n",
       "      <th>17849355</th>\n",
       "      <td>Urban Projuice</td>\n",
       "      <td>110</td>\n",
       "    </tr>\n",
       "    <tr>\n",
       "      <th>18106852</th>\n",
       "      <td>Dinner by Heston Blumenthal</td>\n",
       "      <td>107</td>\n",
       "    </tr>\n",
       "    <tr>\n",
       "      <th>16583098</th>\n",
       "      <td>Lune Croissanterie</td>\n",
       "      <td>104</td>\n",
       "    </tr>\n",
       "    <tr>\n",
       "      <th>16586014</th>\n",
       "      <td>Minamishima</td>\n",
       "      <td>96</td>\n",
       "    </tr>\n",
       "    <tr>\n",
       "      <th>18564046</th>\n",
       "      <td>Homi Noodle Bar</td>\n",
       "      <td>94</td>\n",
       "    </tr>\n",
       "  </tbody>\n",
       "</table>\n",
       "</div>"
      ],
      "text/plain": [
       "                                      Name  5 Star Rating Count\n",
       "restaurant_id                                                  \n",
       "16586502             Full Turn Kitchen Bar                  139\n",
       "17881527                            Dexter                  125\n",
       "18418602                     Shanklin Cafe                  125\n",
       "16582770                     Rice Workshop                  118\n",
       "16570775                            Attica                  110\n",
       "17849355                    Urban Projuice                  110\n",
       "18106852       Dinner by Heston Blumenthal                  107\n",
       "16583098                Lune Croissanterie                  104\n",
       "16586014                       Minamishima                   96\n",
       "18564046                   Homi Noodle Bar                   94"
      ]
     },
     "metadata": {},
     "output_type": "display_data"
    }
   ],
   "source": [
    "# Get the top 10 restaurants in the entire dataset with the most # of 5-Star Ratings\n",
    "restaurant_count=10\n",
    "ratings_list=[5]\n",
    "top_n_restaurants_df = get_n_restaurants_with_m_ratings(reviews_df, restaurant_count, ratings_list)\n",
    "display('Popularity-Based: Top 10 Restaurants with most 5-Star Ratings (entire dataset):')\n",
    "display(top_n_restaurants_df.head(restaurant_count))"
   ]
  },
  {
   "cell_type": "code",
   "execution_count": 59,
   "metadata": {},
   "outputs": [
    {
     "data": {
      "text/plain": [
       "'Popularity-Based: Top 10 Restaurants with most 5-Star Ratings (train set):'"
      ]
     },
     "metadata": {},
     "output_type": "display_data"
    },
    {
     "data": {
      "text/html": [
       "<div>\n",
       "<style scoped>\n",
       "    .dataframe tbody tr th:only-of-type {\n",
       "        vertical-align: middle;\n",
       "    }\n",
       "\n",
       "    .dataframe tbody tr th {\n",
       "        vertical-align: top;\n",
       "    }\n",
       "\n",
       "    .dataframe thead th {\n",
       "        text-align: right;\n",
       "    }\n",
       "</style>\n",
       "<table border=\"1\" class=\"dataframe\">\n",
       "  <thead>\n",
       "    <tr style=\"text-align: right;\">\n",
       "      <th></th>\n",
       "      <th>Name</th>\n",
       "      <th>5 Star Rating Count</th>\n",
       "    </tr>\n",
       "    <tr>\n",
       "      <th>restaurant_id</th>\n",
       "      <th></th>\n",
       "      <th></th>\n",
       "    </tr>\n",
       "  </thead>\n",
       "  <tbody>\n",
       "    <tr>\n",
       "      <th>16586502</th>\n",
       "      <td>Full Turn Kitchen Bar</td>\n",
       "      <td>95</td>\n",
       "    </tr>\n",
       "    <tr>\n",
       "      <th>16582770</th>\n",
       "      <td>Rice Workshop</td>\n",
       "      <td>79</td>\n",
       "    </tr>\n",
       "    <tr>\n",
       "      <th>17881527</th>\n",
       "      <td>Dexter</td>\n",
       "      <td>77</td>\n",
       "    </tr>\n",
       "    <tr>\n",
       "      <th>17849355</th>\n",
       "      <td>Urban Projuice</td>\n",
       "      <td>74</td>\n",
       "    </tr>\n",
       "    <tr>\n",
       "      <th>16583098</th>\n",
       "      <td>Lune Croissanterie</td>\n",
       "      <td>72</td>\n",
       "    </tr>\n",
       "    <tr>\n",
       "      <th>18106852</th>\n",
       "      <td>Dinner by Heston Blumenthal</td>\n",
       "      <td>71</td>\n",
       "    </tr>\n",
       "    <tr>\n",
       "      <th>18418602</th>\n",
       "      <td>Shanklin Cafe</td>\n",
       "      <td>71</td>\n",
       "    </tr>\n",
       "    <tr>\n",
       "      <th>16570775</th>\n",
       "      <td>Attica</td>\n",
       "      <td>67</td>\n",
       "    </tr>\n",
       "    <tr>\n",
       "      <th>16586014</th>\n",
       "      <td>Minamishima</td>\n",
       "      <td>61</td>\n",
       "    </tr>\n",
       "    <tr>\n",
       "      <th>17989264</th>\n",
       "      <td>Faraday's Cage</td>\n",
       "      <td>60</td>\n",
       "    </tr>\n",
       "  </tbody>\n",
       "</table>\n",
       "</div>"
      ],
      "text/plain": [
       "                                      Name  5 Star Rating Count\n",
       "restaurant_id                                                  \n",
       "16586502             Full Turn Kitchen Bar                   95\n",
       "16582770                     Rice Workshop                   79\n",
       "17881527                            Dexter                   77\n",
       "17849355                    Urban Projuice                   74\n",
       "16583098                Lune Croissanterie                   72\n",
       "18106852       Dinner by Heston Blumenthal                   71\n",
       "18418602                     Shanklin Cafe                   71\n",
       "16570775                            Attica                   67\n",
       "16586014                       Minamishima                   61\n",
       "17989264                    Faraday's Cage                   60"
      ]
     },
     "metadata": {},
     "output_type": "display_data"
    }
   ],
   "source": [
    "# Get the top 10 restaurants in the train set with the most # of 5-Star Ratings\n",
    "restaurant_count=10\n",
    "ratings_list=[5]\n",
    "top_n_restaurants_df = get_n_restaurants_with_m_ratings(train_reviews_df, restaurant_count, ratings_list)\n",
    "display('Popularity-Based: Top 10 Restaurants with most 5-Star Ratings (train set):')\n",
    "display(top_n_restaurants_df.head(restaurant_count))"
   ]
  },
  {
   "cell_type": "code",
   "execution_count": 60,
   "metadata": {},
   "outputs": [
    {
     "data": {
      "text/plain": [
       "'Popularity-Based: Top 10 Restaurants with most 5-Star Ratings (dev set):'"
      ]
     },
     "metadata": {},
     "output_type": "display_data"
    },
    {
     "data": {
      "text/html": [
       "<div>\n",
       "<style scoped>\n",
       "    .dataframe tbody tr th:only-of-type {\n",
       "        vertical-align: middle;\n",
       "    }\n",
       "\n",
       "    .dataframe tbody tr th {\n",
       "        vertical-align: top;\n",
       "    }\n",
       "\n",
       "    .dataframe thead th {\n",
       "        text-align: right;\n",
       "    }\n",
       "</style>\n",
       "<table border=\"1\" class=\"dataframe\">\n",
       "  <thead>\n",
       "    <tr style=\"text-align: right;\">\n",
       "      <th></th>\n",
       "      <th>Name</th>\n",
       "      <th>5 Star Rating Count</th>\n",
       "    </tr>\n",
       "    <tr>\n",
       "      <th>restaurant_id</th>\n",
       "      <th></th>\n",
       "      <th></th>\n",
       "    </tr>\n",
       "  </thead>\n",
       "  <tbody>\n",
       "    <tr>\n",
       "      <th>18418602</th>\n",
       "      <td>Shanklin Cafe</td>\n",
       "      <td>30</td>\n",
       "    </tr>\n",
       "    <tr>\n",
       "      <th>18106852</th>\n",
       "      <td>Dinner by Heston Blumenthal</td>\n",
       "      <td>22</td>\n",
       "    </tr>\n",
       "    <tr>\n",
       "      <th>16586502</th>\n",
       "      <td>Full Turn Kitchen Bar</td>\n",
       "      <td>20</td>\n",
       "    </tr>\n",
       "    <tr>\n",
       "      <th>16570775</th>\n",
       "      <td>Attica</td>\n",
       "      <td>19</td>\n",
       "    </tr>\n",
       "    <tr>\n",
       "      <th>16582770</th>\n",
       "      <td>Rice Workshop</td>\n",
       "      <td>19</td>\n",
       "    </tr>\n",
       "    <tr>\n",
       "      <th>17849355</th>\n",
       "      <td>Urban Projuice</td>\n",
       "      <td>17</td>\n",
       "    </tr>\n",
       "    <tr>\n",
       "      <th>17989264</th>\n",
       "      <td>Faraday's Cage</td>\n",
       "      <td>16</td>\n",
       "    </tr>\n",
       "    <tr>\n",
       "      <th>17881527</th>\n",
       "      <td>Dexter</td>\n",
       "      <td>16</td>\n",
       "    </tr>\n",
       "    <tr>\n",
       "      <th>16583098</th>\n",
       "      <td>Lune Croissanterie</td>\n",
       "      <td>16</td>\n",
       "    </tr>\n",
       "    <tr>\n",
       "      <th>18564046</th>\n",
       "      <td>Homi Noodle Bar</td>\n",
       "      <td>15</td>\n",
       "    </tr>\n",
       "  </tbody>\n",
       "</table>\n",
       "</div>"
      ],
      "text/plain": [
       "                                      Name  5 Star Rating Count\n",
       "restaurant_id                                                  \n",
       "18418602                     Shanklin Cafe                   30\n",
       "18106852       Dinner by Heston Blumenthal                   22\n",
       "16586502             Full Turn Kitchen Bar                   20\n",
       "16570775                            Attica                   19\n",
       "16582770                     Rice Workshop                   19\n",
       "17849355                    Urban Projuice                   17\n",
       "17989264                    Faraday's Cage                   16\n",
       "17881527                            Dexter                   16\n",
       "16583098                Lune Croissanterie                   16\n",
       "18564046                   Homi Noodle Bar                   15"
      ]
     },
     "metadata": {},
     "output_type": "display_data"
    }
   ],
   "source": [
    "# Get the top 10 restaurants in the dev set with the most # of 5-Star Ratings\n",
    "restaurant_count=10\n",
    "ratings_list=[5]\n",
    "top_n_restaurants_df = get_n_restaurants_with_m_ratings(dev_reviews_df, restaurant_count, ratings_list)\n",
    "display('Popularity-Based: Top 10 Restaurants with most 5-Star Ratings (dev set):')\n",
    "display(top_n_restaurants_df.head(restaurant_count))"
   ]
  },
  {
   "cell_type": "code",
   "execution_count": 61,
   "metadata": {},
   "outputs": [
    {
     "data": {
      "text/plain": [
       "'Popularity-Based: Top 10 Restaurants with most 5-Star Ratings (test set):'"
      ]
     },
     "metadata": {},
     "output_type": "display_data"
    },
    {
     "data": {
      "text/html": [
       "<div>\n",
       "<style scoped>\n",
       "    .dataframe tbody tr th:only-of-type {\n",
       "        vertical-align: middle;\n",
       "    }\n",
       "\n",
       "    .dataframe tbody tr th {\n",
       "        vertical-align: top;\n",
       "    }\n",
       "\n",
       "    .dataframe thead th {\n",
       "        text-align: right;\n",
       "    }\n",
       "</style>\n",
       "<table border=\"1\" class=\"dataframe\">\n",
       "  <thead>\n",
       "    <tr style=\"text-align: right;\">\n",
       "      <th></th>\n",
       "      <th>Name</th>\n",
       "      <th>5 Star Rating Count</th>\n",
       "    </tr>\n",
       "    <tr>\n",
       "      <th>restaurant_id</th>\n",
       "      <th></th>\n",
       "      <th></th>\n",
       "    </tr>\n",
       "  </thead>\n",
       "  <tbody>\n",
       "    <tr>\n",
       "      <th>17881527</th>\n",
       "      <td>Dexter</td>\n",
       "      <td>32</td>\n",
       "    </tr>\n",
       "    <tr>\n",
       "      <th>16570775</th>\n",
       "      <td>Attica</td>\n",
       "      <td>24</td>\n",
       "    </tr>\n",
       "    <tr>\n",
       "      <th>16586502</th>\n",
       "      <td>Full Turn Kitchen Bar</td>\n",
       "      <td>24</td>\n",
       "    </tr>\n",
       "    <tr>\n",
       "      <th>18418602</th>\n",
       "      <td>Shanklin Cafe</td>\n",
       "      <td>24</td>\n",
       "    </tr>\n",
       "    <tr>\n",
       "      <th>16586014</th>\n",
       "      <td>Minamishima</td>\n",
       "      <td>23</td>\n",
       "    </tr>\n",
       "    <tr>\n",
       "      <th>18564046</th>\n",
       "      <td>Homi Noodle Bar</td>\n",
       "      <td>22</td>\n",
       "    </tr>\n",
       "    <tr>\n",
       "      <th>18397850</th>\n",
       "      <td>Aunty Franklee</td>\n",
       "      <td>21</td>\n",
       "    </tr>\n",
       "    <tr>\n",
       "      <th>16582573</th>\n",
       "      <td>Mr. Miyagi</td>\n",
       "      <td>21</td>\n",
       "    </tr>\n",
       "    <tr>\n",
       "      <th>16578793</th>\n",
       "      <td>Patricia Coffee Brewers</td>\n",
       "      <td>21</td>\n",
       "    </tr>\n",
       "    <tr>\n",
       "      <th>16577212</th>\n",
       "      <td>Beatrix</td>\n",
       "      <td>20</td>\n",
       "    </tr>\n",
       "  </tbody>\n",
       "</table>\n",
       "</div>"
      ],
      "text/plain": [
       "                                  Name  5 Star Rating Count\n",
       "restaurant_id                                              \n",
       "17881527                        Dexter                   32\n",
       "16570775                        Attica                   24\n",
       "16586502         Full Turn Kitchen Bar                   24\n",
       "18418602                 Shanklin Cafe                   24\n",
       "16586014                   Minamishima                   23\n",
       "18564046               Homi Noodle Bar                   22\n",
       "18397850                Aunty Franklee                   21\n",
       "16582573                    Mr. Miyagi                   21\n",
       "16578793       Patricia Coffee Brewers                   21\n",
       "16577212                       Beatrix                   20"
      ]
     },
     "metadata": {},
     "output_type": "display_data"
    }
   ],
   "source": [
    "# Get the top 10 restaurants in the test set with the most # of 5-Star Ratings\n",
    "restaurant_count=10\n",
    "ratings_list=[5]\n",
    "top_n_restaurants_df = get_n_restaurants_with_m_ratings(test_reviews_df, restaurant_count, ratings_list)\n",
    "display('Popularity-Based: Top 10 Restaurants with most 5-Star Ratings (test set):')\n",
    "display(top_n_restaurants_df.head(restaurant_count))"
   ]
  },
  {
   "cell_type": "markdown",
   "metadata": {},
   "source": [
    "### Content-Based Filtering\n",
    "The objective is to generate a Top-N Recommended Restaurants list based on the proximity (distance) of the restaurant from the user's current address. This will be updated to accommodate user input, but for now, the user address is set statically for demo purposes."
   ]
  },
  {
   "cell_type": "code",
   "execution_count": 62,
   "metadata": {},
   "outputs": [],
   "source": [
    "# extract location dictionary into separate columns\n",
    "businesses_df['location_address'] = businesses_df['location'].apply(lambda x: x['address'])\n",
    "businesses_df['location_locality'] = businesses_df['location'].apply(lambda x: x['locality'])\n",
    "businesses_df['location_city'] = businesses_df['location'].apply(lambda x: x['city'])\n",
    "businesses_df['location_latitude'] = businesses_df['location'].apply(lambda x: x['latitude'])\n",
    "businesses_df['location_longitude'] = businesses_df['location'].apply(lambda x: x['longitude'])\n",
    "businesses_df['location_zipcode'] = businesses_df['location'].apply(lambda x: x['zipcode'])\n",
    "businesses_df['location_country_id'] = businesses_df['location'].apply(lambda x: x['country_id'])\n",
    "# drop location column\n",
    "businesses_df.drop(columns='location',inplace=True)"
   ]
  },
  {
   "cell_type": "code",
   "execution_count": 63,
   "metadata": {},
   "outputs": [],
   "source": [
    "# obtain the latitude/longitude for a given address\n",
    "def get_lat_long_given_address(current_address):\n",
    "    geolocator = Nominatim(user_agent=\"zmatorecsys\")\n",
    "    location = geolocator.geocode(current_address)\n",
    "    current_lat_long = (location.latitude, location.longitude)\n",
    "    #print(current_lat_long)    \n",
    "    return current_lat_long"
   ]
  },
  {
   "cell_type": "code",
   "execution_count": 64,
   "metadata": {},
   "outputs": [],
   "source": [
    "# compare distances from current location to each of the restaurants in the given dataframe, get top n closest\n",
    "def get_distance_to_restaurants(assess_businesses_df, current_lat_long):\n",
    "\n",
    "    restaurant_id_list = []\n",
    "    distance_to_restaurants_list = []\n",
    "\n",
    "    # get distance to each restaurant\n",
    "    for key, restaurant in assess_businesses_df.iterrows():\n",
    "        # get geodesic distance between 2 locations    \n",
    "        #print(restaurant)\n",
    "        dest_loc=(restaurant.location_latitude, restaurant.location_longitude)\n",
    "        distance_to_restaurants_list.append(round(geodesic(current_lat_long, dest_loc).kilometers, 2))\n",
    "        restaurant_id_list.append(restaurant.restaurant_id)\n",
    "\n",
    "    # save restaurant_id's and their respective distances to a dataframe\n",
    "    distance_to_restaurants_df = pd.DataFrame({'restaurant_id': restaurant_id_list, 'Distance(km)': distance_to_restaurants_list})\n",
    "    distance_to_restaurants_df = assess_businesses_df[['restaurant_id','name']].merge(distance_to_restaurants_df, left_on='restaurant_id', right_on='restaurant_id')\n",
    "    distance_to_restaurants_df.rename(columns={'name': 'Name'}, inplace=True)\n",
    "    distance_to_restaurants_df.set_index('restaurant_id', inplace=True);\n",
    "    \n",
    "    return distance_to_restaurants_df"
   ]
  },
  {
   "cell_type": "code",
   "execution_count": 65,
   "metadata": {},
   "outputs": [
    {
     "name": "stdout",
     "output_type": "stream",
     "text": [
      "[-37.75, 145.017]\n"
     ]
    }
   ],
   "source": [
    "# Using Geocoder - test only - get current position's lat and long\n",
    "# location is based on ip - if ip is not static, location may refer back to an exchange/node or address related to the ISP\n",
    "import geocoder\n",
    "g = geocoder.ip('me')\n",
    "print(g.latlng)"
   ]
  },
  {
   "cell_type": "code",
   "execution_count": 66,
   "metadata": {},
   "outputs": [
    {
     "data": {
      "text/plain": [
       "'Current Location: 45 William St Melbourne'"
      ]
     },
     "metadata": {},
     "output_type": "display_data"
    },
    {
     "data": {
      "text/plain": [
       "'Content-Based Filtering: \"Restaurants that are Nearby\"'"
      ]
     },
     "metadata": {},
     "output_type": "display_data"
    },
    {
     "data": {
      "text/html": [
       "<div>\n",
       "<style scoped>\n",
       "    .dataframe tbody tr th:only-of-type {\n",
       "        vertical-align: middle;\n",
       "    }\n",
       "\n",
       "    .dataframe tbody tr th {\n",
       "        vertical-align: top;\n",
       "    }\n",
       "\n",
       "    .dataframe thead th {\n",
       "        text-align: right;\n",
       "    }\n",
       "</style>\n",
       "<table border=\"1\" class=\"dataframe\">\n",
       "  <thead>\n",
       "    <tr style=\"text-align: right;\">\n",
       "      <th></th>\n",
       "      <th>Name</th>\n",
       "      <th>Distance(km)</th>\n",
       "    </tr>\n",
       "    <tr>\n",
       "      <th>restaurant_id</th>\n",
       "      <th></th>\n",
       "      <th></th>\n",
       "    </tr>\n",
       "  </thead>\n",
       "  <tbody>\n",
       "    <tr>\n",
       "      <th>16578480</th>\n",
       "      <td>The Lui Bar</td>\n",
       "      <td>0.13</td>\n",
       "    </tr>\n",
       "    <tr>\n",
       "      <th>16583589</th>\n",
       "      <td>Goz City</td>\n",
       "      <td>0.22</td>\n",
       "    </tr>\n",
       "    <tr>\n",
       "      <th>16573759</th>\n",
       "      <td>Le Petit Gateau</td>\n",
       "      <td>0.24</td>\n",
       "    </tr>\n",
       "    <tr>\n",
       "      <th>18279069</th>\n",
       "      <td>Massi</td>\n",
       "      <td>0.24</td>\n",
       "    </tr>\n",
       "    <tr>\n",
       "      <th>16581462</th>\n",
       "      <td>The Grain Store</td>\n",
       "      <td>0.26</td>\n",
       "    </tr>\n",
       "    <tr>\n",
       "      <th>16571812</th>\n",
       "      <td>Maha Restaurant</td>\n",
       "      <td>0.31</td>\n",
       "    </tr>\n",
       "    <tr>\n",
       "      <th>16576105</th>\n",
       "      <td>Guhng</td>\n",
       "      <td>0.41</td>\n",
       "    </tr>\n",
       "    <tr>\n",
       "      <th>16576477</th>\n",
       "      <td>Purple Peanuts Japanese Cafe</td>\n",
       "      <td>0.41</td>\n",
       "    </tr>\n",
       "    <tr>\n",
       "      <th>16572201</th>\n",
       "      <td>Red Spice Road</td>\n",
       "      <td>0.41</td>\n",
       "    </tr>\n",
       "    <tr>\n",
       "      <th>16578793</th>\n",
       "      <td>Patricia Coffee Brewers</td>\n",
       "      <td>0.42</td>\n",
       "    </tr>\n",
       "  </tbody>\n",
       "</table>\n",
       "</div>"
      ],
      "text/plain": [
       "                                       Name  Distance(km)\n",
       "restaurant_id                                            \n",
       "16578480                        The Lui Bar          0.13\n",
       "16583589                           Goz City          0.22\n",
       "16573759                    Le Petit Gateau          0.24\n",
       "18279069                              Massi          0.24\n",
       "16581462                    The Grain Store          0.26\n",
       "16571812                    Maha Restaurant          0.31\n",
       "16576105                              Guhng          0.41\n",
       "16576477       Purple Peanuts Japanese Cafe          0.41\n",
       "16572201                     Red Spice Road          0.41\n",
       "16578793            Patricia Coffee Brewers          0.42"
      ]
     },
     "execution_count": 66,
     "metadata": {},
     "output_type": "execute_result"
    }
   ],
   "source": [
    "# set current address\n",
    "current_address = \"45 William St Melbourne\"\n",
    "\n",
    "# get current location coordinates\n",
    "current_lat_long = get_lat_long_given_address(current_address)\n",
    "\n",
    "# get distances from current address to all restaurants in the dataset\n",
    "distance_to_restaurants_df = get_distance_to_restaurants(businesses_df, current_lat_long)\n",
    "\n",
    "display('Current Location: ' + current_address)\n",
    "display('Content-Based Filtering: \"Restaurants that are Nearby\"')\n",
    "distance_to_restaurants_df.sort_values('Distance(km)').head(10)"
   ]
  },
  {
   "cell_type": "code",
   "execution_count": 67,
   "metadata": {},
   "outputs": [
    {
     "data": {
      "text/plain": [
       "'Geo data for closest restaurant via Google Maps:'"
      ]
     },
     "metadata": {},
     "output_type": "display_data"
    },
    {
     "data": {
      "text/html": [
       "<div>\n",
       "<style scoped>\n",
       "    .dataframe tbody tr th:only-of-type {\n",
       "        vertical-align: middle;\n",
       "    }\n",
       "\n",
       "    .dataframe tbody tr th {\n",
       "        vertical-align: top;\n",
       "    }\n",
       "\n",
       "    .dataframe thead th {\n",
       "        text-align: right;\n",
       "    }\n",
       "</style>\n",
       "<table border=\"1\" class=\"dataframe\">\n",
       "  <thead>\n",
       "    <tr style=\"text-align: right;\">\n",
       "      <th></th>\n",
       "      <th>Name</th>\n",
       "      <th>Distance(km)</th>\n",
       "    </tr>\n",
       "    <tr>\n",
       "      <th>restaurant_id</th>\n",
       "      <th></th>\n",
       "      <th></th>\n",
       "    </tr>\n",
       "  </thead>\n",
       "  <tbody>\n",
       "    <tr>\n",
       "      <th>16578480</th>\n",
       "      <td>The Lui Bar</td>\n",
       "      <td>0.13</td>\n",
       "    </tr>\n",
       "  </tbody>\n",
       "</table>\n",
       "</div>"
      ],
      "text/plain": [
       "                      Name  Distance(km)\n",
       "restaurant_id                           \n",
       "16578480       The Lui Bar          0.13"
      ]
     },
     "metadata": {},
     "output_type": "display_data"
    },
    {
     "data": {
      "text/plain": [
       "{'destination_addresses': ['520 Collins St, Melbourne VIC 3000, Australia'],\n",
       " 'origin_addresses': ['45 William St, Melbourne VIC 3000, Australia'],\n",
       " 'rows': [{'elements': [{'distance': {'text': '0.3 km', 'value': 305},\n",
       "     'duration': {'text': '2 mins', 'value': 94},\n",
       "     'duration_in_traffic': {'text': '2 mins', 'value': 92},\n",
       "     'status': 'OK'}]}],\n",
       " 'status': 'OK'}"
      ]
     },
     "metadata": {},
     "output_type": "display_data"
    }
   ],
   "source": [
    "# Google Maps API - get distance, duration of travel, duration of travel with traffic\n",
    "# use Google Maps API sparingly, limit it to the 'last leg' of the distance computation, due to its pay-after-n-calls\n",
    "# once the top results (closest restaurants, in this case) are obtained through geopy's geocode, recompute the Google Map Client's geocode for both the source location and destination location \n",
    "# (refer to google map's own lat long data given the address, as lat/long coordinates are inconsistent between geopy and Google Maps)\n",
    "api_key = <api-key-here>\n",
    "gm_client = googlemaps.Client(key=api_key)\n",
    "\n",
    "# get current location lat/long using Google Maps API\n",
    "gm_geocode = gm_client.geocode(current_address)\n",
    "gm_current_lat_long = tuple(gm_geocode[0]['geometry']['location'].values())\n",
    "# get destination location lat/long using Google Maps API\n",
    "\n",
    "# get address and lat/long data of closest restaurant\n",
    "closest_restaurant_id = distance_to_restaurants_df.sort_values('Distance(km)').head(1).index[0]\n",
    "dest_address = businesses_df[businesses_df.restaurant_id==closest_restaurant_id]['location_address'].values[0]\n",
    "gm_geocode = gm_client.geocode(dest_address)\n",
    "gm_dest_lat_long = tuple(gm_geocode[0]['geometry']['location'].values())\n",
    "\n",
    "# get and display distance details\n",
    "display('Geo data for closest restaurant via Google Maps:')\n",
    "display(distance_to_restaurants_df.sort_values('Distance(km)').head(1))\n",
    "display(gm_client.distance_matrix(gm_current_lat_long, gm_dest_lat_long, departure_time=datetime.datetime.now()))"
   ]
  },
  {
   "cell_type": "code",
   "execution_count": 68,
   "metadata": {
    "scrolled": true
   },
   "outputs": [
    {
     "data": {
      "text/html": [
       "<div>\n",
       "<style scoped>\n",
       "    .dataframe tbody tr th:only-of-type {\n",
       "        vertical-align: middle;\n",
       "    }\n",
       "\n",
       "    .dataframe tbody tr th {\n",
       "        vertical-align: top;\n",
       "    }\n",
       "\n",
       "    .dataframe thead th {\n",
       "        text-align: right;\n",
       "    }\n",
       "</style>\n",
       "<table border=\"1\" class=\"dataframe\">\n",
       "  <thead>\n",
       "    <tr style=\"text-align: right;\">\n",
       "      <th></th>\n",
       "      <th>price_range</th>\n",
       "      <th>average_cost_for_two</th>\n",
       "    </tr>\n",
       "  </thead>\n",
       "  <tbody>\n",
       "    <tr>\n",
       "      <th>185</th>\n",
       "      <td>4</td>\n",
       "      <td>100</td>\n",
       "    </tr>\n",
       "    <tr>\n",
       "      <th>54</th>\n",
       "      <td>4</td>\n",
       "      <td>100</td>\n",
       "    </tr>\n",
       "    <tr>\n",
       "      <th>138</th>\n",
       "      <td>4</td>\n",
       "      <td>100</td>\n",
       "    </tr>\n",
       "    <tr>\n",
       "      <th>193</th>\n",
       "      <td>4</td>\n",
       "      <td>100</td>\n",
       "    </tr>\n",
       "    <tr>\n",
       "      <th>159</th>\n",
       "      <td>4</td>\n",
       "      <td>100</td>\n",
       "    </tr>\n",
       "    <tr>\n",
       "      <th>123</th>\n",
       "      <td>4</td>\n",
       "      <td>100</td>\n",
       "    </tr>\n",
       "    <tr>\n",
       "      <th>158</th>\n",
       "      <td>4</td>\n",
       "      <td>100</td>\n",
       "    </tr>\n",
       "    <tr>\n",
       "      <th>175</th>\n",
       "      <td>4</td>\n",
       "      <td>100</td>\n",
       "    </tr>\n",
       "    <tr>\n",
       "      <th>41</th>\n",
       "      <td>4</td>\n",
       "      <td>100</td>\n",
       "    </tr>\n",
       "    <tr>\n",
       "      <th>172</th>\n",
       "      <td>4</td>\n",
       "      <td>110</td>\n",
       "    </tr>\n",
       "    <tr>\n",
       "      <th>2</th>\n",
       "      <td>4</td>\n",
       "      <td>110</td>\n",
       "    </tr>\n",
       "    <tr>\n",
       "      <th>94</th>\n",
       "      <td>4</td>\n",
       "      <td>110</td>\n",
       "    </tr>\n",
       "    <tr>\n",
       "      <th>118</th>\n",
       "      <td>4</td>\n",
       "      <td>120</td>\n",
       "    </tr>\n",
       "    <tr>\n",
       "      <th>113</th>\n",
       "      <td>4</td>\n",
       "      <td>120</td>\n",
       "    </tr>\n",
       "    <tr>\n",
       "      <th>188</th>\n",
       "      <td>4</td>\n",
       "      <td>120</td>\n",
       "    </tr>\n",
       "    <tr>\n",
       "      <th>198</th>\n",
       "      <td>4</td>\n",
       "      <td>120</td>\n",
       "    </tr>\n",
       "    <tr>\n",
       "      <th>119</th>\n",
       "      <td>4</td>\n",
       "      <td>120</td>\n",
       "    </tr>\n",
       "    <tr>\n",
       "      <th>79</th>\n",
       "      <td>4</td>\n",
       "      <td>120</td>\n",
       "    </tr>\n",
       "    <tr>\n",
       "      <th>75</th>\n",
       "      <td>4</td>\n",
       "      <td>120</td>\n",
       "    </tr>\n",
       "    <tr>\n",
       "      <th>9</th>\n",
       "      <td>4</td>\n",
       "      <td>120</td>\n",
       "    </tr>\n",
       "    <tr>\n",
       "      <th>220</th>\n",
       "      <td>4</td>\n",
       "      <td>120</td>\n",
       "    </tr>\n",
       "    <tr>\n",
       "      <th>179</th>\n",
       "      <td>4</td>\n",
       "      <td>120</td>\n",
       "    </tr>\n",
       "    <tr>\n",
       "      <th>120</th>\n",
       "      <td>4</td>\n",
       "      <td>125</td>\n",
       "    </tr>\n",
       "    <tr>\n",
       "      <th>149</th>\n",
       "      <td>4</td>\n",
       "      <td>125</td>\n",
       "    </tr>\n",
       "    <tr>\n",
       "      <th>170</th>\n",
       "      <td>4</td>\n",
       "      <td>130</td>\n",
       "    </tr>\n",
       "    <tr>\n",
       "      <th>152</th>\n",
       "      <td>4</td>\n",
       "      <td>130</td>\n",
       "    </tr>\n",
       "    <tr>\n",
       "      <th>210</th>\n",
       "      <td>4</td>\n",
       "      <td>130</td>\n",
       "    </tr>\n",
       "    <tr>\n",
       "      <th>226</th>\n",
       "      <td>4</td>\n",
       "      <td>130</td>\n",
       "    </tr>\n",
       "    <tr>\n",
       "      <th>211</th>\n",
       "      <td>4</td>\n",
       "      <td>135</td>\n",
       "    </tr>\n",
       "    <tr>\n",
       "      <th>74</th>\n",
       "      <td>4</td>\n",
       "      <td>135</td>\n",
       "    </tr>\n",
       "    <tr>\n",
       "      <th>...</th>\n",
       "      <td>...</td>\n",
       "      <td>...</td>\n",
       "    </tr>\n",
       "    <tr>\n",
       "      <th>155</th>\n",
       "      <td>4</td>\n",
       "      <td>150</td>\n",
       "    </tr>\n",
       "    <tr>\n",
       "      <th>125</th>\n",
       "      <td>4</td>\n",
       "      <td>150</td>\n",
       "    </tr>\n",
       "    <tr>\n",
       "      <th>190</th>\n",
       "      <td>4</td>\n",
       "      <td>150</td>\n",
       "    </tr>\n",
       "    <tr>\n",
       "      <th>201</th>\n",
       "      <td>4</td>\n",
       "      <td>150</td>\n",
       "    </tr>\n",
       "    <tr>\n",
       "      <th>202</th>\n",
       "      <td>4</td>\n",
       "      <td>150</td>\n",
       "    </tr>\n",
       "    <tr>\n",
       "      <th>21</th>\n",
       "      <td>4</td>\n",
       "      <td>150</td>\n",
       "    </tr>\n",
       "    <tr>\n",
       "      <th>238</th>\n",
       "      <td>4</td>\n",
       "      <td>150</td>\n",
       "    </tr>\n",
       "    <tr>\n",
       "      <th>107</th>\n",
       "      <td>4</td>\n",
       "      <td>150</td>\n",
       "    </tr>\n",
       "    <tr>\n",
       "      <th>30</th>\n",
       "      <td>4</td>\n",
       "      <td>160</td>\n",
       "    </tr>\n",
       "    <tr>\n",
       "      <th>225</th>\n",
       "      <td>4</td>\n",
       "      <td>160</td>\n",
       "    </tr>\n",
       "    <tr>\n",
       "      <th>161</th>\n",
       "      <td>4</td>\n",
       "      <td>160</td>\n",
       "    </tr>\n",
       "    <tr>\n",
       "      <th>0</th>\n",
       "      <td>4</td>\n",
       "      <td>170</td>\n",
       "    </tr>\n",
       "    <tr>\n",
       "      <th>109</th>\n",
       "      <td>4</td>\n",
       "      <td>170</td>\n",
       "    </tr>\n",
       "    <tr>\n",
       "      <th>141</th>\n",
       "      <td>4</td>\n",
       "      <td>180</td>\n",
       "    </tr>\n",
       "    <tr>\n",
       "      <th>117</th>\n",
       "      <td>4</td>\n",
       "      <td>180</td>\n",
       "    </tr>\n",
       "    <tr>\n",
       "      <th>217</th>\n",
       "      <td>4</td>\n",
       "      <td>190</td>\n",
       "    </tr>\n",
       "    <tr>\n",
       "      <th>245</th>\n",
       "      <td>4</td>\n",
       "      <td>200</td>\n",
       "    </tr>\n",
       "    <tr>\n",
       "      <th>35</th>\n",
       "      <td>4</td>\n",
       "      <td>200</td>\n",
       "    </tr>\n",
       "    <tr>\n",
       "      <th>101</th>\n",
       "      <td>4</td>\n",
       "      <td>200</td>\n",
       "    </tr>\n",
       "    <tr>\n",
       "      <th>52</th>\n",
       "      <td>4</td>\n",
       "      <td>220</td>\n",
       "    </tr>\n",
       "    <tr>\n",
       "      <th>129</th>\n",
       "      <td>4</td>\n",
       "      <td>250</td>\n",
       "    </tr>\n",
       "    <tr>\n",
       "      <th>171</th>\n",
       "      <td>4</td>\n",
       "      <td>250</td>\n",
       "    </tr>\n",
       "    <tr>\n",
       "      <th>157</th>\n",
       "      <td>4</td>\n",
       "      <td>300</td>\n",
       "    </tr>\n",
       "    <tr>\n",
       "      <th>145</th>\n",
       "      <td>4</td>\n",
       "      <td>300</td>\n",
       "    </tr>\n",
       "    <tr>\n",
       "      <th>76</th>\n",
       "      <td>4</td>\n",
       "      <td>370</td>\n",
       "    </tr>\n",
       "    <tr>\n",
       "      <th>8</th>\n",
       "      <td>4</td>\n",
       "      <td>380</td>\n",
       "    </tr>\n",
       "    <tr>\n",
       "      <th>99</th>\n",
       "      <td>4</td>\n",
       "      <td>450</td>\n",
       "    </tr>\n",
       "    <tr>\n",
       "      <th>23</th>\n",
       "      <td>4</td>\n",
       "      <td>450</td>\n",
       "    </tr>\n",
       "    <tr>\n",
       "      <th>88</th>\n",
       "      <td>4</td>\n",
       "      <td>450</td>\n",
       "    </tr>\n",
       "    <tr>\n",
       "      <th>29</th>\n",
       "      <td>4</td>\n",
       "      <td>600</td>\n",
       "    </tr>\n",
       "  </tbody>\n",
       "</table>\n",
       "<p>66 rows × 2 columns</p>\n",
       "</div>"
      ],
      "text/plain": [
       "     price_range  average_cost_for_two\n",
       "185            4                   100\n",
       "54             4                   100\n",
       "138            4                   100\n",
       "193            4                   100\n",
       "159            4                   100\n",
       "123            4                   100\n",
       "158            4                   100\n",
       "175            4                   100\n",
       "41             4                   100\n",
       "172            4                   110\n",
       "2              4                   110\n",
       "94             4                   110\n",
       "118            4                   120\n",
       "113            4                   120\n",
       "188            4                   120\n",
       "198            4                   120\n",
       "119            4                   120\n",
       "79             4                   120\n",
       "75             4                   120\n",
       "9              4                   120\n",
       "220            4                   120\n",
       "179            4                   120\n",
       "120            4                   125\n",
       "149            4                   125\n",
       "170            4                   130\n",
       "152            4                   130\n",
       "210            4                   130\n",
       "226            4                   130\n",
       "211            4                   135\n",
       "74             4                   135\n",
       "..           ...                   ...\n",
       "155            4                   150\n",
       "125            4                   150\n",
       "190            4                   150\n",
       "201            4                   150\n",
       "202            4                   150\n",
       "21             4                   150\n",
       "238            4                   150\n",
       "107            4                   150\n",
       "30             4                   160\n",
       "225            4                   160\n",
       "161            4                   160\n",
       "0              4                   170\n",
       "109            4                   170\n",
       "141            4                   180\n",
       "117            4                   180\n",
       "217            4                   190\n",
       "245            4                   200\n",
       "35             4                   200\n",
       "101            4                   200\n",
       "52             4                   220\n",
       "129            4                   250\n",
       "171            4                   250\n",
       "157            4                   300\n",
       "145            4                   300\n",
       "76             4                   370\n",
       "8              4                   380\n",
       "99             4                   450\n",
       "23             4                   450\n",
       "88             4                   450\n",
       "29             4                   600\n",
       "\n",
       "[66 rows x 2 columns]"
      ]
     },
     "execution_count": 68,
     "metadata": {},
     "output_type": "execute_result"
    }
   ],
   "source": [
    "# To-Do: enhance Content-Based Recommendation by incorporating price range  \n",
    "businesses_df[businesses_df.price_range==4][['price_range', 'average_cost_for_two']].sort_values('average_cost_for_two')\n",
    "#businesses_df.price_range, businesses_df.average_cost_for_two"
   ]
  },
  {
   "cell_type": "markdown",
   "metadata": {},
   "source": [
    "### Memory-Based Collaborative Filtering\n",
    "#### Memory-Based Techniques explored below are as follows:\n",
    "1. User-Item Collaborative Filtering via User Similarity (pairwise-cosine distance)\n",
    "2. Item-Item Collaborative Filtering via Item Similarity (pairwise-cosine distance)\n",
    "3. Item-Item Collaborative Filtering via Item Similarity with Rating Prediction (pairwise-cosine distance)\n",
    "4. Item-Item Collaborative Filtering via Item Similarity with Rating Prediction (pairwise-cosine SIMILARITY)"
   ]
  },
  {
   "cell_type": "code",
   "execution_count": 69,
   "metadata": {},
   "outputs": [],
   "source": [
    "# generate user-based and item-based similarity matrices\n",
    "user_similarity = pairwise_distances(train_matrix, metric='cosine')\n",
    "# get pairwise distances for item-item similarity using cosine as metric\n",
    "item_similarity = pairwise_distances(train_matrix.T, metric='cosine')"
   ]
  },
  {
   "cell_type": "markdown",
   "metadata": {},
   "source": [
    "### User-Item Collaborative Filtering - (pairwise-cosine distance)\n",
    "The objective is to generate a Top-N Recommended Restaurants list based on a user's similarity of rating behavior with other users. To do this, cosine distance is used as a metric."
   ]
  },
  {
   "cell_type": "code",
   "execution_count": 70,
   "metadata": {
    "code_folding": []
   },
   "outputs": [
    {
     "data": {
      "text/html": [
       "<div>\n",
       "<style scoped>\n",
       "    .dataframe tbody tr th:only-of-type {\n",
       "        vertical-align: middle;\n",
       "    }\n",
       "\n",
       "    .dataframe tbody tr th {\n",
       "        vertical-align: top;\n",
       "    }\n",
       "\n",
       "    .dataframe thead th {\n",
       "        text-align: right;\n",
       "    }\n",
       "</style>\n",
       "<table border=\"1\" class=\"dataframe\">\n",
       "  <thead>\n",
       "    <tr style=\"text-align: right;\">\n",
       "      <th>restaurant_id</th>\n",
       "      <th>16570683</th>\n",
       "      <th>16570741</th>\n",
       "      <th>16570775</th>\n",
       "      <th>16570776</th>\n",
       "      <th>16570811</th>\n",
       "      <th>16570910</th>\n",
       "      <th>16570927</th>\n",
       "      <th>16571138</th>\n",
       "      <th>16571144</th>\n",
       "      <th>16571189</th>\n",
       "      <th>...</th>\n",
       "      <th>18628562</th>\n",
       "      <th>18632069</th>\n",
       "      <th>18638034</th>\n",
       "      <th>18650646</th>\n",
       "      <th>18651260</th>\n",
       "      <th>18668223</th>\n",
       "      <th>18668229</th>\n",
       "      <th>18702410</th>\n",
       "      <th>18704117</th>\n",
       "      <th>18708512</th>\n",
       "    </tr>\n",
       "    <tr>\n",
       "      <th>user_id</th>\n",
       "      <th></th>\n",
       "      <th></th>\n",
       "      <th></th>\n",
       "      <th></th>\n",
       "      <th></th>\n",
       "      <th></th>\n",
       "      <th></th>\n",
       "      <th></th>\n",
       "      <th></th>\n",
       "      <th></th>\n",
       "      <th></th>\n",
       "      <th></th>\n",
       "      <th></th>\n",
       "      <th></th>\n",
       "      <th></th>\n",
       "      <th></th>\n",
       "      <th></th>\n",
       "      <th></th>\n",
       "      <th></th>\n",
       "      <th></th>\n",
       "      <th></th>\n",
       "    </tr>\n",
       "  </thead>\n",
       "  <tbody>\n",
       "    <tr>\n",
       "      <th>29692095</th>\n",
       "      <td>2.5</td>\n",
       "      <td>2.5</td>\n",
       "      <td>2.5</td>\n",
       "      <td>2.5</td>\n",
       "      <td>2.5</td>\n",
       "      <td>2.5</td>\n",
       "      <td>2.5</td>\n",
       "      <td>2.5</td>\n",
       "      <td>2.5</td>\n",
       "      <td>2.5</td>\n",
       "      <td>...</td>\n",
       "      <td>2.5</td>\n",
       "      <td>2.5</td>\n",
       "      <td>2.5</td>\n",
       "      <td>2.5</td>\n",
       "      <td>2.5</td>\n",
       "      <td>2.5</td>\n",
       "      <td>2.5</td>\n",
       "      <td>2.5</td>\n",
       "      <td>2.5</td>\n",
       "      <td>2.5</td>\n",
       "    </tr>\n",
       "  </tbody>\n",
       "</table>\n",
       "<p>1 rows × 253 columns</p>\n",
       "</div>"
      ],
      "text/plain": [
       "restaurant_id  16570683  16570741  16570775  16570776  16570811  16570910  \\\n",
       "user_id                                                                     \n",
       "29692095            2.5       2.5       2.5       2.5       2.5       2.5   \n",
       "\n",
       "restaurant_id  16570927  16571138  16571144  16571189    ...     18628562  \\\n",
       "user_id                                                  ...                \n",
       "29692095            2.5       2.5       2.5       2.5    ...          2.5   \n",
       "\n",
       "restaurant_id  18632069  18638034  18650646  18651260  18668223  18668229  \\\n",
       "user_id                                                                     \n",
       "29692095            2.5       2.5       2.5       2.5       2.5       2.5   \n",
       "\n",
       "restaurant_id  18702410  18704117  18708512  \n",
       "user_id                                      \n",
       "29692095            2.5       2.5       2.5  \n",
       "\n",
       "[1 rows x 253 columns]"
      ]
     },
     "execution_count": 70,
     "metadata": {},
     "output_type": "execute_result"
    }
   ],
   "source": [
    "# choose subject user\n",
    "subject_user = train_matrix.sample()\n",
    "subject_user.head()"
   ]
  },
  {
   "cell_type": "code",
   "execution_count": 71,
   "metadata": {
    "scrolled": true
   },
   "outputs": [
    {
     "data": {
      "text/html": [
       "<div>\n",
       "<style scoped>\n",
       "    .dataframe tbody tr th:only-of-type {\n",
       "        vertical-align: middle;\n",
       "    }\n",
       "\n",
       "    .dataframe tbody tr th {\n",
       "        vertical-align: top;\n",
       "    }\n",
       "\n",
       "    .dataframe thead th {\n",
       "        text-align: right;\n",
       "    }\n",
       "</style>\n",
       "<table border=\"1\" class=\"dataframe\">\n",
       "  <thead>\n",
       "    <tr style=\"text-align: right;\">\n",
       "      <th></th>\n",
       "      <th>review_id</th>\n",
       "      <th>restaurant_id</th>\n",
       "      <th>user_id</th>\n",
       "      <th>user_name</th>\n",
       "      <th>user_review_count</th>\n",
       "      <th>user_followers_count</th>\n",
       "      <th>review_date</th>\n",
       "      <th>star_rating</th>\n",
       "      <th>textual_review</th>\n",
       "    </tr>\n",
       "  </thead>\n",
       "  <tbody>\n",
       "    <tr>\n",
       "      <th>9442</th>\n",
       "      <td>28519169</td>\n",
       "      <td>16586014</td>\n",
       "      <td>29692095</td>\n",
       "      <td>Rachel Zhou</td>\n",
       "      <td>23</td>\n",
       "      <td>16.0</td>\n",
       "      <td>2016-10-19 15:03:41</td>\n",
       "      <td>5.0</td>\n",
       "      <td>Wonderful place for sushi and love the atmosph...</td>\n",
       "    </tr>\n",
       "    <tr>\n",
       "      <th>16057</th>\n",
       "      <td>29506538</td>\n",
       "      <td>16574818</td>\n",
       "      <td>29692095</td>\n",
       "      <td>Rachel Zhou</td>\n",
       "      <td>23</td>\n",
       "      <td>16.0</td>\n",
       "      <td>2017-02-16 08:59:50</td>\n",
       "      <td>4.0</td>\n",
       "      <td>Open environment and bright settings. Really e...</td>\n",
       "    </tr>\n",
       "    <tr>\n",
       "      <th>10742</th>\n",
       "      <td>31003541</td>\n",
       "      <td>18397850</td>\n",
       "      <td>29692095</td>\n",
       "      <td>Rachel Zhou</td>\n",
       "      <td>23</td>\n",
       "      <td>16.0</td>\n",
       "      <td>2017-07-12 12:54:46</td>\n",
       "      <td>4.0</td>\n",
       "      <td>Hands down the best Bak Kut Teh I had in Melbo...</td>\n",
       "    </tr>\n",
       "    <tr>\n",
       "      <th>19101</th>\n",
       "      <td>31763545</td>\n",
       "      <td>18340002</td>\n",
       "      <td>29692095</td>\n",
       "      <td>Rachel Zhou</td>\n",
       "      <td>23</td>\n",
       "      <td>16.0</td>\n",
       "      <td>2017-09-17 13:16:26</td>\n",
       "      <td>4.0</td>\n",
       "      <td>I loved the freshness and juicy taste of their...</td>\n",
       "    </tr>\n",
       "  </tbody>\n",
       "</table>\n",
       "</div>"
      ],
      "text/plain": [
       "       review_id  restaurant_id   user_id    user_name  user_review_count  \\\n",
       "9442    28519169       16586014  29692095  Rachel Zhou                 23   \n",
       "16057   29506538       16574818  29692095  Rachel Zhou                 23   \n",
       "10742   31003541       18397850  29692095  Rachel Zhou                 23   \n",
       "19101   31763545       18340002  29692095  Rachel Zhou                 23   \n",
       "\n",
       "       user_followers_count         review_date  star_rating  \\\n",
       "9442                   16.0 2016-10-19 15:03:41          5.0   \n",
       "16057                  16.0 2017-02-16 08:59:50          4.0   \n",
       "10742                  16.0 2017-07-12 12:54:46          4.0   \n",
       "19101                  16.0 2017-09-17 13:16:26          4.0   \n",
       "\n",
       "                                          textual_review  \n",
       "9442   Wonderful place for sushi and love the atmosph...  \n",
       "16057  Open environment and bright settings. Really e...  \n",
       "10742  Hands down the best Bak Kut Teh I had in Melbo...  \n",
       "19101  I loved the freshness and juicy taste of their...  "
      ]
     },
     "execution_count": 71,
     "metadata": {},
     "output_type": "execute_result"
    }
   ],
   "source": [
    "# list the subject user's reviews\n",
    "train_reviews_df[train_reviews_df.user_id == subject_user.index[0]]"
   ]
  },
  {
   "cell_type": "code",
   "execution_count": 72,
   "metadata": {},
   "outputs": [],
   "source": [
    "# perform pairwise distance - subject user and user-item matrix\n",
    "per_user_similarity = pairwise_distances(subject_user.values.reshape(1,-1), train_matrix,  metric='cosine')"
   ]
  },
  {
   "cell_type": "code",
   "execution_count": 73,
   "metadata": {},
   "outputs": [],
   "source": [
    "# list and sort (by highest to lowest similarity) the users relative to the subject user\n",
    "per_user_similarity_series = pd.Series(per_user_similarity.flatten(), index=train_matrix.index)"
   ]
  },
  {
   "cell_type": "code",
   "execution_count": 74,
   "metadata": {},
   "outputs": [],
   "source": [
    "# get mean value for each column\n",
    "def get_mean_per_column(x):\n",
    "    # change 2.5 (un-rated) to zero\n",
    "    x.replace(2.5,0, inplace=True)\n",
    "    if (x != 0).sum()>0: \n",
    "        return x.sum()/(x != 0).sum()\n",
    "    else:\n",
    "        return 0 "
   ]
  },
  {
   "cell_type": "code",
   "execution_count": 75,
   "metadata": {},
   "outputs": [
    {
     "data": {
      "text/html": [
       "<div>\n",
       "<style scoped>\n",
       "    .dataframe tbody tr th:only-of-type {\n",
       "        vertical-align: middle;\n",
       "    }\n",
       "\n",
       "    .dataframe tbody tr th {\n",
       "        vertical-align: top;\n",
       "    }\n",
       "\n",
       "    .dataframe thead th {\n",
       "        text-align: right;\n",
       "    }\n",
       "</style>\n",
       "<table border=\"1\" class=\"dataframe\">\n",
       "  <thead>\n",
       "    <tr style=\"text-align: right;\">\n",
       "      <th></th>\n",
       "      <th>restaurant_id</th>\n",
       "      <th>name</th>\n",
       "      <th>overall_rating</th>\n",
       "    </tr>\n",
       "  </thead>\n",
       "  <tbody>\n",
       "    <tr>\n",
       "      <th>0</th>\n",
       "      <td>16574679</td>\n",
       "      <td>Highline</td>\n",
       "      <td>4.6</td>\n",
       "    </tr>\n",
       "    <tr>\n",
       "      <th>1</th>\n",
       "      <td>18274417</td>\n",
       "      <td>Vaporetto Bar &amp; Eatery</td>\n",
       "      <td>4.5</td>\n",
       "    </tr>\n",
       "    <tr>\n",
       "      <th>2</th>\n",
       "      <td>18577082</td>\n",
       "      <td>Fujitei</td>\n",
       "      <td>4.8</td>\n",
       "    </tr>\n",
       "    <tr>\n",
       "      <th>3</th>\n",
       "      <td>18420698</td>\n",
       "      <td>Le Clec</td>\n",
       "      <td>4.7</td>\n",
       "    </tr>\n",
       "    <tr>\n",
       "      <th>4</th>\n",
       "      <td>16584360</td>\n",
       "      <td>Suda</td>\n",
       "      <td>4.5</td>\n",
       "    </tr>\n",
       "  </tbody>\n",
       "</table>\n",
       "</div>"
      ],
      "text/plain": [
       "   restaurant_id                    name overall_rating\n",
       "0       16574679                Highline            4.6\n",
       "1       18274417  Vaporetto Bar & Eatery            4.5\n",
       "2       18577082                 Fujitei            4.8\n",
       "3       18420698                 Le Clec            4.7\n",
       "4       16584360                    Suda            4.5"
      ]
     },
     "execution_count": 75,
     "metadata": {},
     "output_type": "execute_result"
    }
   ],
   "source": [
    "# prepare businesses key columns, for merging with recommender df\n",
    "restaurant_names_df = businesses_df[['restaurant_id','name']]\n",
    "restaurant_names_df['overall_rating'] = businesses_df.user_rating.apply(lambda x: x['aggregate_rating'])\n",
    "restaurant_names_df.head()"
   ]
  },
  {
   "cell_type": "code",
   "execution_count": 127,
   "metadata": {
    "scrolled": true
   },
   "outputs": [
    {
     "name": "stdout",
     "output_type": "stream",
     "text": [
      "User-Item Collaborative Filtering (pairwise-cosine distance)\n"
     ]
    },
    {
     "data": {
      "text/html": [
       "<div>\n",
       "<style scoped>\n",
       "    .dataframe tbody tr th:only-of-type {\n",
       "        vertical-align: middle;\n",
       "    }\n",
       "\n",
       "    .dataframe tbody tr th {\n",
       "        vertical-align: top;\n",
       "    }\n",
       "\n",
       "    .dataframe thead th {\n",
       "        text-align: right;\n",
       "    }\n",
       "</style>\n",
       "<table border=\"1\" class=\"dataframe\">\n",
       "  <thead>\n",
       "    <tr style=\"text-align: right;\">\n",
       "      <th></th>\n",
       "      <th>Name</th>\n",
       "      <th>Restaurant Overall Rating</th>\n",
       "      <th>Similarity (High to Low)</th>\n",
       "    </tr>\n",
       "    <tr>\n",
       "      <th>User-Item CF: Top 5 Restaurants</th>\n",
       "      <th></th>\n",
       "      <th></th>\n",
       "      <th></th>\n",
       "    </tr>\n",
       "  </thead>\n",
       "  <tbody>\n",
       "    <tr>\n",
       "      <th>16570683</th>\n",
       "      <td>A1 Bakery</td>\n",
       "      <td>4.5</td>\n",
       "      <td>0.0</td>\n",
       "    </tr>\n",
       "    <tr>\n",
       "      <th>16586688</th>\n",
       "      <td>Sir Charles</td>\n",
       "      <td>4.6</td>\n",
       "      <td>0.0</td>\n",
       "    </tr>\n",
       "    <tr>\n",
       "      <th>16598244</th>\n",
       "      <td>Phuoc Thanh</td>\n",
       "      <td>4.7</td>\n",
       "      <td>0.0</td>\n",
       "    </tr>\n",
       "    <tr>\n",
       "      <th>16713155</th>\n",
       "      <td>Mörk Chocolate Brew House</td>\n",
       "      <td>4.7</td>\n",
       "      <td>0.0</td>\n",
       "    </tr>\n",
       "    <tr>\n",
       "      <th>16713366</th>\n",
       "      <td>Smith and Deli</td>\n",
       "      <td>4.7</td>\n",
       "      <td>0.0</td>\n",
       "    </tr>\n",
       "    <tr>\n",
       "      <th>16713686</th>\n",
       "      <td>Laneway Greens</td>\n",
       "      <td>4.5</td>\n",
       "      <td>0.0</td>\n",
       "    </tr>\n",
       "    <tr>\n",
       "      <th>16713830</th>\n",
       "      <td>Bibelot</td>\n",
       "      <td>4.8</td>\n",
       "      <td>0.0</td>\n",
       "    </tr>\n",
       "    <tr>\n",
       "      <th>17849355</th>\n",
       "      <td>Urban Projuice</td>\n",
       "      <td>4.6</td>\n",
       "      <td>0.0</td>\n",
       "    </tr>\n",
       "    <tr>\n",
       "      <th>17849463</th>\n",
       "      <td>Goodovening</td>\n",
       "      <td>4.5</td>\n",
       "      <td>0.0</td>\n",
       "    </tr>\n",
       "    <tr>\n",
       "      <th>17849659</th>\n",
       "      <td>YOMG - Yo My Goodness</td>\n",
       "      <td>4.5</td>\n",
       "      <td>0.0</td>\n",
       "    </tr>\n",
       "  </tbody>\n",
       "</table>\n",
       "</div>"
      ],
      "text/plain": [
       "                                                      Name  \\\n",
       "User-Item CF: Top 5 Restaurants                              \n",
       "16570683                                         A1 Bakery   \n",
       "16586688                                       Sir Charles   \n",
       "16598244                                       Phuoc Thanh   \n",
       "16713155                         Mörk Chocolate Brew House   \n",
       "16713366                                    Smith and Deli   \n",
       "16713686                                    Laneway Greens   \n",
       "16713830                                           Bibelot   \n",
       "17849355                                    Urban Projuice   \n",
       "17849463                                       Goodovening   \n",
       "17849659                             YOMG - Yo My Goodness   \n",
       "\n",
       "                                Restaurant Overall Rating  \\\n",
       "User-Item CF: Top 5 Restaurants                             \n",
       "16570683                                              4.5   \n",
       "16586688                                              4.6   \n",
       "16598244                                              4.7   \n",
       "16713155                                              4.7   \n",
       "16713366                                              4.7   \n",
       "16713686                                              4.5   \n",
       "16713830                                              4.8   \n",
       "17849355                                              4.6   \n",
       "17849463                                              4.5   \n",
       "17849659                                              4.5   \n",
       "\n",
       "                                 Similarity (High to Low)  \n",
       "User-Item CF: Top 5 Restaurants                            \n",
       "16570683                                              0.0  \n",
       "16586688                                              0.0  \n",
       "16598244                                              0.0  \n",
       "16713155                                              0.0  \n",
       "16713366                                              0.0  \n",
       "16713686                                              0.0  \n",
       "16713830                                              0.0  \n",
       "17849355                                              0.0  \n",
       "17849463                                              0.0  \n",
       "17849659                                              0.0  "
      ]
     },
     "execution_count": 127,
     "metadata": {},
     "output_type": "execute_result"
    }
   ],
   "source": [
    "# choose top n most similar users to subject user\n",
    "top_similar_users = per_user_similarity_series.sort_values().iloc[:100]\n",
    "\n",
    "# get their restaurant ratings\n",
    "top_similar_users = train_matrix[train_matrix.index.isin(top_similar_users.index)]\n",
    "\n",
    "# filter to those restaurants that subject user hasn't rated\n",
    "user_item_recommended_restaurants_df = top_similar_users.loc[:, (subject_user == 2.5).values.flatten()]\n",
    "\n",
    "# convert 2.5's to zero and get the mean of the ratings per restaurant that subject user hasn't tried/rated\n",
    "user_item_recommended_restaurants_df = pd.DataFrame(user_item_recommended_restaurants_df.apply(get_mean_per_column), columns=['Similarity (High to Low)'])\n",
    "\n",
    "# show top 5 recommended, append restaurant name\n",
    "user_item_recommended_restaurants_df = user_item_recommended_restaurants_df.merge(restaurant_names_df, left_on=user_item_recommended_restaurants_df.index, right_on='restaurant_id')\n",
    "user_item_recommended_restaurants_df.set_index('restaurant_id',inplace=True)\n",
    "user_item_recommended_restaurants_df.index.name = 'User-Item CF: Top 5 Restaurants'\n",
    "user_item_recommended_restaurants_df = user_item_recommended_restaurants_df[['name', 'overall_rating', 'Similarity (High to Low)']]\n",
    "user_item_recommended_restaurants_df.rename(columns={'name': 'Name', 'overall_rating': 'Restaurant Overall Rating'}, inplace=True)\n",
    "print('User-Item Collaborative Filtering (pairwise-cosine distance)')\n",
    "user_item_recommended_restaurants_df.sort_values('Similarity (High to Low)', ascending=True).head(10)"
   ]
  },
  {
   "cell_type": "markdown",
   "metadata": {},
   "source": [
    "### Item-Item Collaborative Filtering - (pairwise-cosine distance)\n",
    "The objective is to generate a Top-N Recommended Restaurants list based on a user's list of high-rated items, as well as their similarity with the list of ratings of other items. Items in this case are restaurants. If a user hasn't rated any restaurants with a high rating (4-star or 5-star), one of the popular restaurants is used instead for the similarity computation. To do this, cosine distance is used as a metric."
   ]
  },
  {
   "cell_type": "code",
   "execution_count": 77,
   "metadata": {},
   "outputs": [
    {
     "data": {
      "text/html": [
       "<div>\n",
       "<style scoped>\n",
       "    .dataframe tbody tr th:only-of-type {\n",
       "        vertical-align: middle;\n",
       "    }\n",
       "\n",
       "    .dataframe tbody tr th {\n",
       "        vertical-align: top;\n",
       "    }\n",
       "\n",
       "    .dataframe thead th {\n",
       "        text-align: right;\n",
       "    }\n",
       "</style>\n",
       "<table border=\"1\" class=\"dataframe\">\n",
       "  <thead>\n",
       "    <tr style=\"text-align: right;\">\n",
       "      <th>restaurant_id</th>\n",
       "      <th>16570683</th>\n",
       "      <th>16570741</th>\n",
       "      <th>16570775</th>\n",
       "      <th>16570776</th>\n",
       "      <th>16570811</th>\n",
       "      <th>16570910</th>\n",
       "      <th>16570927</th>\n",
       "      <th>16571138</th>\n",
       "      <th>16571144</th>\n",
       "      <th>16571189</th>\n",
       "      <th>...</th>\n",
       "      <th>18628562</th>\n",
       "      <th>18632069</th>\n",
       "      <th>18638034</th>\n",
       "      <th>18650646</th>\n",
       "      <th>18651260</th>\n",
       "      <th>18668223</th>\n",
       "      <th>18668229</th>\n",
       "      <th>18702410</th>\n",
       "      <th>18704117</th>\n",
       "      <th>18708512</th>\n",
       "    </tr>\n",
       "    <tr>\n",
       "      <th>user_id</th>\n",
       "      <th></th>\n",
       "      <th></th>\n",
       "      <th></th>\n",
       "      <th></th>\n",
       "      <th></th>\n",
       "      <th></th>\n",
       "      <th></th>\n",
       "      <th></th>\n",
       "      <th></th>\n",
       "      <th></th>\n",
       "      <th></th>\n",
       "      <th></th>\n",
       "      <th></th>\n",
       "      <th></th>\n",
       "      <th></th>\n",
       "      <th></th>\n",
       "      <th></th>\n",
       "      <th></th>\n",
       "      <th></th>\n",
       "      <th></th>\n",
       "      <th></th>\n",
       "    </tr>\n",
       "  </thead>\n",
       "  <tbody>\n",
       "    <tr>\n",
       "      <th>30022844</th>\n",
       "      <td>2.5</td>\n",
       "      <td>2.5</td>\n",
       "      <td>2.5</td>\n",
       "      <td>2.5</td>\n",
       "      <td>2.5</td>\n",
       "      <td>2.5</td>\n",
       "      <td>2.5</td>\n",
       "      <td>2.5</td>\n",
       "      <td>2.5</td>\n",
       "      <td>2.5</td>\n",
       "      <td>...</td>\n",
       "      <td>2.5</td>\n",
       "      <td>2.5</td>\n",
       "      <td>2.5</td>\n",
       "      <td>2.5</td>\n",
       "      <td>2.5</td>\n",
       "      <td>2.5</td>\n",
       "      <td>2.5</td>\n",
       "      <td>2.5</td>\n",
       "      <td>2.5</td>\n",
       "      <td>2.5</td>\n",
       "    </tr>\n",
       "  </tbody>\n",
       "</table>\n",
       "<p>1 rows × 253 columns</p>\n",
       "</div>"
      ],
      "text/plain": [
       "restaurant_id  16570683  16570741  16570775  16570776  16570811  16570910  \\\n",
       "user_id                                                                     \n",
       "30022844            2.5       2.5       2.5       2.5       2.5       2.5   \n",
       "\n",
       "restaurant_id  16570927  16571138  16571144  16571189    ...     18628562  \\\n",
       "user_id                                                  ...                \n",
       "30022844            2.5       2.5       2.5       2.5    ...          2.5   \n",
       "\n",
       "restaurant_id  18632069  18638034  18650646  18651260  18668223  18668229  \\\n",
       "user_id                                                                     \n",
       "30022844            2.5       2.5       2.5       2.5       2.5       2.5   \n",
       "\n",
       "restaurant_id  18702410  18704117  18708512  \n",
       "user_id                                      \n",
       "30022844            2.5       2.5       2.5  \n",
       "\n",
       "[1 rows x 253 columns]"
      ]
     },
     "execution_count": 77,
     "metadata": {},
     "output_type": "execute_result"
    }
   ],
   "source": [
    "# choose subject user\n",
    "subject_user = train_matrix.sample()\n",
    "subject_user.head()"
   ]
  },
  {
   "cell_type": "code",
   "execution_count": 78,
   "metadata": {},
   "outputs": [
    {
     "data": {
      "text/html": [
       "<div>\n",
       "<style scoped>\n",
       "    .dataframe tbody tr th:only-of-type {\n",
       "        vertical-align: middle;\n",
       "    }\n",
       "\n",
       "    .dataframe tbody tr th {\n",
       "        vertical-align: top;\n",
       "    }\n",
       "\n",
       "    .dataframe thead th {\n",
       "        text-align: right;\n",
       "    }\n",
       "</style>\n",
       "<table border=\"1\" class=\"dataframe\">\n",
       "  <thead>\n",
       "    <tr style=\"text-align: right;\">\n",
       "      <th></th>\n",
       "      <th>review_id</th>\n",
       "      <th>restaurant_id</th>\n",
       "      <th>user_id</th>\n",
       "      <th>user_name</th>\n",
       "      <th>user_review_count</th>\n",
       "      <th>user_followers_count</th>\n",
       "      <th>review_date</th>\n",
       "      <th>star_rating</th>\n",
       "      <th>textual_review</th>\n",
       "    </tr>\n",
       "  </thead>\n",
       "  <tbody>\n",
       "    <tr>\n",
       "      <th>7396</th>\n",
       "      <td>33578657</td>\n",
       "      <td>16580334</td>\n",
       "      <td>30022844</td>\n",
       "      <td>Darren Shaw</td>\n",
       "      <td>11</td>\n",
       "      <td>24.0</td>\n",
       "      <td>2018-02-17 10:12:41</td>\n",
       "      <td>5.0</td>\n",
       "      <td>Stopped in for breakfast/lunch on way to stati...</td>\n",
       "    </tr>\n",
       "  </tbody>\n",
       "</table>\n",
       "</div>"
      ],
      "text/plain": [
       "      review_id  restaurant_id   user_id    user_name  user_review_count  \\\n",
       "7396   33578657       16580334  30022844  Darren Shaw                 11   \n",
       "\n",
       "      user_followers_count         review_date  star_rating  \\\n",
       "7396                  24.0 2018-02-17 10:12:41          5.0   \n",
       "\n",
       "                                         textual_review  \n",
       "7396  Stopped in for breakfast/lunch on way to stati...  "
      ]
     },
     "execution_count": 78,
     "metadata": {},
     "output_type": "execute_result"
    }
   ],
   "source": [
    "# reviews posted, or restaurants rated, by the user\n",
    "train_reviews_df[train_reviews_df.user_id == subject_user.index[0]]"
   ]
  },
  {
   "cell_type": "code",
   "execution_count": 79,
   "metadata": {
    "scrolled": true
   },
   "outputs": [
    {
     "name": "stdout",
     "output_type": "stream",
     "text": [
      "user has 1 high rated restaurant\n"
     ]
    }
   ],
   "source": [
    "# get list of restaurants that the subject user rated with 4 stars or 5 stars (basically, its the restaurants the subject user has rated positively)\n",
    "subject_user_high_rated_restaurants = subject_user.T\n",
    "subject_user_high_rated_restaurants = subject_user_high_rated_restaurants[(subject_user_high_rated_restaurants.values==5) | (subject_user_high_rated_restaurants.values==4)]\n",
    "\n",
    "# if user has rated multiple restaurants with a 4-star or a 5-star rating, randomly select one among the list\n",
    "if len(subject_user_high_rated_restaurants) > 1:\n",
    "    # do random choice between the high rated restaurants\n",
    "    print('user has more than 1 high rated restaurant')\n",
    "    subject_restaurant = get_random_restaurant_from_matrix(subject_user_high_rated_restaurants)\n",
    "    \n",
    "# if user has rated only 1 restaurant with a 4-star or a 5-star rating, choose this 1 restaurant\n",
    "elif len(subject_user_high_rated_restaurants) == 1:\n",
    "    # choose the restaurant as the subject restaurant\n",
    "    print('user has 1 high rated restaurant')\n",
    "    subject_restaurant = pd.DataFrame(train_matrix.loc[:,subject_user_high_rated_restaurants.index[0]])\n",
    "    subject_restaurant.head()\n",
    "    \n",
    "# if user hasn't rated any restaurant with a 4-star or a 5-star rating, choose randomly among the most popular restaurants based on other people's ratings\n",
    "elif len(subject_user_high_rated_restaurants) == 0:\n",
    "    # return a random restaurant out of list of most popular restaurants\n",
    "    # get a random restaurant out of the 10 most popular in Zomato's Best of Melbourne' collection \n",
    "    # (most popular in this case refers to the restaurant with the highest # of 4 or 5 star ratings)\n",
    "    print('user has no high rated restaurant')\n",
    "    restaurant_count=10\n",
    "    ratings_list=[4,5]\n",
    "    top_n_restaurants_df = get_n_restaurants_with_m_ratings(train_reviews_df, restaurant_count, ratings_list)\n",
    "    subject_restaurant = get_random_restaurant_from_matrix(top_n_restaurants_df)"
   ]
  },
  {
   "cell_type": "code",
   "execution_count": 80,
   "metadata": {},
   "outputs": [
    {
     "data": {
      "text/html": [
       "<div>\n",
       "<style scoped>\n",
       "    .dataframe tbody tr th:only-of-type {\n",
       "        vertical-align: middle;\n",
       "    }\n",
       "\n",
       "    .dataframe tbody tr th {\n",
       "        vertical-align: top;\n",
       "    }\n",
       "\n",
       "    .dataframe thead th {\n",
       "        text-align: right;\n",
       "    }\n",
       "</style>\n",
       "<table border=\"1\" class=\"dataframe\">\n",
       "  <thead>\n",
       "    <tr style=\"text-align: right;\">\n",
       "      <th>user_id</th>\n",
       "      <th>30022844</th>\n",
       "    </tr>\n",
       "    <tr>\n",
       "      <th>restaurant_id</th>\n",
       "      <th></th>\n",
       "    </tr>\n",
       "  </thead>\n",
       "  <tbody>\n",
       "    <tr>\n",
       "      <th>16580334</th>\n",
       "      <td>5.0</td>\n",
       "    </tr>\n",
       "  </tbody>\n",
       "</table>\n",
       "</div>"
      ],
      "text/plain": [
       "user_id        30022844\n",
       "restaurant_id          \n",
       "16580334            5.0"
      ]
     },
     "execution_count": 80,
     "metadata": {},
     "output_type": "execute_result"
    }
   ],
   "source": [
    "# show subject user's list of restaurants rated as 4 or 5 stars, if there's any\n",
    "subject_user_high_rated_restaurants.head()"
   ]
  },
  {
   "cell_type": "code",
   "execution_count": 81,
   "metadata": {},
   "outputs": [
    {
     "data": {
      "text/html": [
       "<div>\n",
       "<style scoped>\n",
       "    .dataframe tbody tr th:only-of-type {\n",
       "        vertical-align: middle;\n",
       "    }\n",
       "\n",
       "    .dataframe tbody tr th {\n",
       "        vertical-align: top;\n",
       "    }\n",
       "\n",
       "    .dataframe thead th {\n",
       "        text-align: right;\n",
       "    }\n",
       "</style>\n",
       "<table border=\"1\" class=\"dataframe\">\n",
       "  <thead>\n",
       "    <tr style=\"text-align: right;\">\n",
       "      <th></th>\n",
       "      <th>16580334</th>\n",
       "    </tr>\n",
       "    <tr>\n",
       "      <th>user_id</th>\n",
       "      <th></th>\n",
       "    </tr>\n",
       "  </thead>\n",
       "  <tbody>\n",
       "    <tr>\n",
       "      <th>4672</th>\n",
       "      <td>2.5</td>\n",
       "    </tr>\n",
       "    <tr>\n",
       "      <th>37250</th>\n",
       "      <td>2.5</td>\n",
       "    </tr>\n",
       "    <tr>\n",
       "      <th>42717</th>\n",
       "      <td>2.5</td>\n",
       "    </tr>\n",
       "    <tr>\n",
       "      <th>102326</th>\n",
       "      <td>2.5</td>\n",
       "    </tr>\n",
       "    <tr>\n",
       "      <th>103242</th>\n",
       "      <td>2.5</td>\n",
       "    </tr>\n",
       "  </tbody>\n",
       "</table>\n",
       "</div>"
      ],
      "text/plain": [
       "         16580334\n",
       "user_id          \n",
       "4672          2.5\n",
       "37250         2.5\n",
       "42717         2.5\n",
       "102326        2.5\n",
       "103242        2.5"
      ]
     },
     "execution_count": 81,
     "metadata": {},
     "output_type": "execute_result"
    }
   ],
   "source": [
    "# show subject restaurant to be used for item-item similarity\n",
    "subject_restaurant.head()"
   ]
  },
  {
   "cell_type": "code",
   "execution_count": 82,
   "metadata": {},
   "outputs": [
    {
     "data": {
      "text/html": [
       "<div>\n",
       "<style scoped>\n",
       "    .dataframe tbody tr th:only-of-type {\n",
       "        vertical-align: middle;\n",
       "    }\n",
       "\n",
       "    .dataframe tbody tr th {\n",
       "        vertical-align: top;\n",
       "    }\n",
       "\n",
       "    .dataframe thead th {\n",
       "        text-align: right;\n",
       "    }\n",
       "</style>\n",
       "<table border=\"1\" class=\"dataframe\">\n",
       "  <thead>\n",
       "    <tr style=\"text-align: right;\">\n",
       "      <th></th>\n",
       "      <th>restaurant_id</th>\n",
       "      <th>name</th>\n",
       "    </tr>\n",
       "  </thead>\n",
       "  <tbody>\n",
       "    <tr>\n",
       "      <th>62</th>\n",
       "      <td>16580334</td>\n",
       "      <td>The Left-Handed Chef</td>\n",
       "    </tr>\n",
       "  </tbody>\n",
       "</table>\n",
       "</div>"
      ],
      "text/plain": [
       "    restaurant_id                  name\n",
       "62       16580334  The Left-Handed Chef"
      ]
     },
     "execution_count": 82,
     "metadata": {},
     "output_type": "execute_result"
    }
   ],
   "source": [
    "# out of the user's high-rated restaurants, or show the chosen subject restaurant out of the high-rated restaurants by the subject user, if there's any\n",
    "businesses_df[businesses_df.restaurant_id == subject_restaurant.columns[0]][['restaurant_id', 'name']]"
   ]
  },
  {
   "cell_type": "code",
   "execution_count": null,
   "metadata": {
    "scrolled": true
   },
   "outputs": [],
   "source": [
    "# perform pairwise distance - subject restaurant and user-item matrix\n",
    "per_item_similarity = pairwise_distances(subject_restaurant.values.reshape(1,-1), train_matrix.T,  metric='cosine')\n",
    "per_item_similarity"
   ]
  },
  {
   "cell_type": "code",
   "execution_count": 84,
   "metadata": {
    "scrolled": true
   },
   "outputs": [],
   "source": [
    "# list and sort by highest to lowest similarity the restaurants relative to the subject restaurant\n",
    "per_item_similarity_series = pd.Series(per_item_similarity.flatten(), index=train_matrix.columns)\n",
    "#per_item_similarity_series.sort_values()"
   ]
  },
  {
   "cell_type": "code",
   "execution_count": 104,
   "metadata": {
    "scrolled": false
   },
   "outputs": [
    {
     "name": "stdout",
     "output_type": "stream",
     "text": [
      "Item-Item Collaborative Filtering (pairwise-cosine distance)\n"
     ]
    },
    {
     "data": {
      "text/html": [
       "<div>\n",
       "<style scoped>\n",
       "    .dataframe tbody tr th:only-of-type {\n",
       "        vertical-align: middle;\n",
       "    }\n",
       "\n",
       "    .dataframe tbody tr th {\n",
       "        vertical-align: top;\n",
       "    }\n",
       "\n",
       "    .dataframe thead th {\n",
       "        text-align: right;\n",
       "    }\n",
       "</style>\n",
       "<table border=\"1\" class=\"dataframe\">\n",
       "  <thead>\n",
       "    <tr style=\"text-align: right;\">\n",
       "      <th></th>\n",
       "      <th>Name</th>\n",
       "      <th>Restaurant Overall Rating</th>\n",
       "      <th>Similarity (High to Low)</th>\n",
       "    </tr>\n",
       "    <tr>\n",
       "      <th>Item-Item CF: Top 10 Restaurants</th>\n",
       "      <th></th>\n",
       "      <th></th>\n",
       "      <th></th>\n",
       "    </tr>\n",
       "  </thead>\n",
       "  <tbody>\n",
       "    <tr>\n",
       "      <th>16580334</th>\n",
       "      <td>The Left-Handed Chef</td>\n",
       "      <td>4.5</td>\n",
       "      <td>0.000</td>\n",
       "    </tr>\n",
       "    <tr>\n",
       "      <th>18457183</th>\n",
       "      <td>@ The Catch Carnegie</td>\n",
       "      <td>4.8</td>\n",
       "      <td>0.003</td>\n",
       "    </tr>\n",
       "    <tr>\n",
       "      <th>16574687</th>\n",
       "      <td>Journeyman</td>\n",
       "      <td>4.7</td>\n",
       "      <td>0.003</td>\n",
       "    </tr>\n",
       "    <tr>\n",
       "      <th>17868098</th>\n",
       "      <td>Bahari The Hellenic Palate</td>\n",
       "      <td>4.7</td>\n",
       "      <td>0.003</td>\n",
       "    </tr>\n",
       "    <tr>\n",
       "      <th>18343871</th>\n",
       "      <td>Atlas Dining</td>\n",
       "      <td>4.7</td>\n",
       "      <td>0.003</td>\n",
       "    </tr>\n",
       "    <tr>\n",
       "      <th>18524215</th>\n",
       "      <td>Rustica</td>\n",
       "      <td>4.7</td>\n",
       "      <td>0.003</td>\n",
       "    </tr>\n",
       "    <tr>\n",
       "      <th>18580832</th>\n",
       "      <td>Syndicate Room</td>\n",
       "      <td>4.7</td>\n",
       "      <td>0.003</td>\n",
       "    </tr>\n",
       "    <tr>\n",
       "      <th>16570811</th>\n",
       "      <td>Bar Lourinhã</td>\n",
       "      <td>4.6</td>\n",
       "      <td>0.003</td>\n",
       "    </tr>\n",
       "    <tr>\n",
       "      <th>16574138</th>\n",
       "      <td>Suzuran</td>\n",
       "      <td>4.6</td>\n",
       "      <td>0.003</td>\n",
       "    </tr>\n",
       "    <tr>\n",
       "      <th>16577621</th>\n",
       "      <td>Komeyui</td>\n",
       "      <td>4.6</td>\n",
       "      <td>0.003</td>\n",
       "    </tr>\n",
       "  </tbody>\n",
       "</table>\n",
       "</div>"
      ],
      "text/plain": [
       "                                                        Name  \\\n",
       "Item-Item CF: Top 10 Restaurants                               \n",
       "16580334                                The Left-Handed Chef   \n",
       "18457183                                @ The Catch Carnegie   \n",
       "16574687                                          Journeyman   \n",
       "17868098                          Bahari The Hellenic Palate   \n",
       "18343871                                        Atlas Dining   \n",
       "18524215                                             Rustica   \n",
       "18580832                                      Syndicate Room   \n",
       "16570811                                        Bar Lourinhã   \n",
       "16574138                                             Suzuran   \n",
       "16577621                                             Komeyui   \n",
       "\n",
       "                                 Restaurant Overall Rating  \\\n",
       "Item-Item CF: Top 10 Restaurants                             \n",
       "16580334                                               4.5   \n",
       "18457183                                               4.8   \n",
       "16574687                                               4.7   \n",
       "17868098                                               4.7   \n",
       "18343871                                               4.7   \n",
       "18524215                                               4.7   \n",
       "18580832                                               4.7   \n",
       "16570811                                               4.6   \n",
       "16574138                                               4.6   \n",
       "16577621                                               4.6   \n",
       "\n",
       "                                  Similarity (High to Low)  \n",
       "Item-Item CF: Top 10 Restaurants                            \n",
       "16580334                                             0.000  \n",
       "18457183                                             0.003  \n",
       "16574687                                             0.003  \n",
       "17868098                                             0.003  \n",
       "18343871                                             0.003  \n",
       "18524215                                             0.003  \n",
       "18580832                                             0.003  \n",
       "16570811                                             0.003  \n",
       "16574138                                             0.003  \n",
       "16577621                                             0.003  "
      ]
     },
     "execution_count": 104,
     "metadata": {},
     "output_type": "execute_result"
    }
   ],
   "source": [
    "# show top 5 recommended restaurants\n",
    "\n",
    "# filter to the restaurants that the subject user has not rated\n",
    "restaurants_not_tried_list = subject_user[subject_user == 2.5].dropna(axis=1).columns\n",
    "item_item_recommended_restaurants_df = pd.DataFrame(round(per_item_similarity_series[per_item_similarity_series.index.isin(restaurants_not_tried_list)], 3), columns=['Similarity (High to Low)'])\n",
    "item_item_recommended_restaurants_df = item_item_recommended_restaurants_df.merge(restaurant_names_df, left_on=item_item_recommended_restaurants_df.index, right_on='restaurant_id')\n",
    "item_item_recommended_restaurants_df.set_index('restaurant_id',inplace=True)\n",
    "item_item_recommended_restaurants_df.index.name ='Item-Item CF: Top 10 Restaurants'\n",
    "item_item_recommended_restaurants_df = item_item_recommended_restaurants_df[['name','overall_rating','Similarity (High to Low)']]\n",
    "item_item_recommended_restaurants_df.rename(columns={'name': 'Name', 'overall_rating': 'Restaurant Overall Rating'}, inplace=True)\n",
    "print('Item-Item Collaborative Filtering (pairwise-cosine distance)')\n",
    "item_item_recommended_restaurants_df.sort_values(['Similarity (High to Low)','Restaurant Overall Rating'],ascending=[True,False]).head(10)"
   ]
  },
  {
   "cell_type": "markdown",
   "metadata": {},
   "source": [
    "### Item-Item Collaborative Filtering - Top-N Recommendation and Rating Prediction (pairwise cosine distance)\n",
    "The objective is to generate a Top-N Recommended Restaurants list based on the predicted ratings of a user for every restaurant in the dataset, with the highest predicted rating securing the top spot of the recommendation list. To do this, cosine distance is used as a metric."
   ]
  },
  {
   "cell_type": "code",
   "execution_count": 91,
   "metadata": {},
   "outputs": [],
   "source": [
    "# predict rating using cosine distance - dot product\n",
    "def make_prediction(ratings, similarity, cf_type='user', original_matrix_shape=None):\n",
    "    # if given rating is of an individual user\n",
    "    if cf_type == 'user' and ratings.shape[0]==1:\n",
    "        pred = ratings.dot(similarity) / np.array([np.abs(similarity).sum(axis=1)]) \n",
    "    # if given rating is of a matrix\n",
    "    elif cf_type == 'user' and ratings.shape[0]>1:\n",
    "        # check if rating matrix shape is identical to that of the similarity matrix\n",
    "        if ratings.shape[0] == original_matrix_shape[0] and ratings.shape[1] == original_matrix_shape[1]:\n",
    "            mean_user_rating = ratings.mean(axis=1)\n",
    "            ratings_diff = (ratings - mean_user_rating[:, np.newaxis]) \n",
    "            pred = mean_user_rating[:, np.newaxis] + similarity.dot(ratings_diff) / np.array([np.abs(similarity).sum(axis=1)]).T\n",
    "        else:\n",
    "            # make a matrix that is identical in shape to similarity matrix\n",
    "            pass    \n",
    "    elif cf_type == 'item':\n",
    "        pred = ratings.dot(similarity) / np.array([np.abs(similarity).sum(axis=1)])     \n",
    "    return pred"
   ]
  },
  {
   "cell_type": "code",
   "execution_count": 92,
   "metadata": {},
   "outputs": [],
   "source": [
    "# predict rating using cosine similarity - dot product\n",
    "def make_prediction_2(ratings, similarity, cf_type='user', original_matrix_shape=None):\n",
    "    \n",
    "    # get cosine similarity out of matrix of cosine distances (cosine_similarity = 1 - cosine_distance)\n",
    "    similarity = 1 - similarity\n",
    "    \n",
    "    # if given rating is of an individual user\n",
    "    if cf_type == 'user' and ratings.shape[0]==1:\n",
    "        pred = ratings.dot(similarity) / similarity.shape[0] \n",
    "    # if given rating is of a matrix\n",
    "    elif cf_type == 'user' and ratings.shape[0]>1:\n",
    "        # check if rating matrix shape is identical to that of the similarity matrix\n",
    "        if ratings.shape[0] == original_matrix_shape[0] and ratings.shape[1] == original_matrix_shape[1]:\n",
    "            mean_user_rating = ratings.mean(axis=1)\n",
    "            ratings_diff = (ratings - mean_user_rating[:, np.newaxis]) \n",
    "            pred = mean_user_rating[:, np.newaxis] + similarity.dot(ratings_diff) / similarity.shape[0]\n",
    "        else:\n",
    "            # make a matrix that is identical in shape to similarity matrix\n",
    "            pass    \n",
    "    elif cf_type == 'item':\n",
    "        pred = ratings.dot(similarity) / similarity.shape[0]   \n",
    "    return pred"
   ]
  },
  {
   "cell_type": "code",
   "execution_count": 86,
   "metadata": {},
   "outputs": [
    {
     "data": {
      "text/html": [
       "<div>\n",
       "<style scoped>\n",
       "    .dataframe tbody tr th:only-of-type {\n",
       "        vertical-align: middle;\n",
       "    }\n",
       "\n",
       "    .dataframe tbody tr th {\n",
       "        vertical-align: top;\n",
       "    }\n",
       "\n",
       "    .dataframe thead th {\n",
       "        text-align: right;\n",
       "    }\n",
       "</style>\n",
       "<table border=\"1\" class=\"dataframe\">\n",
       "  <thead>\n",
       "    <tr style=\"text-align: right;\">\n",
       "      <th>restaurant_id</th>\n",
       "      <th>16570683</th>\n",
       "      <th>16570741</th>\n",
       "      <th>16570775</th>\n",
       "      <th>16570776</th>\n",
       "      <th>16570811</th>\n",
       "      <th>16570910</th>\n",
       "      <th>16570927</th>\n",
       "      <th>16571138</th>\n",
       "      <th>16571144</th>\n",
       "      <th>16571189</th>\n",
       "      <th>...</th>\n",
       "      <th>18628562</th>\n",
       "      <th>18632069</th>\n",
       "      <th>18638034</th>\n",
       "      <th>18650646</th>\n",
       "      <th>18651260</th>\n",
       "      <th>18668223</th>\n",
       "      <th>18668229</th>\n",
       "      <th>18702410</th>\n",
       "      <th>18704117</th>\n",
       "      <th>18708512</th>\n",
       "    </tr>\n",
       "    <tr>\n",
       "      <th>user_id</th>\n",
       "      <th></th>\n",
       "      <th></th>\n",
       "      <th></th>\n",
       "      <th></th>\n",
       "      <th></th>\n",
       "      <th></th>\n",
       "      <th></th>\n",
       "      <th></th>\n",
       "      <th></th>\n",
       "      <th></th>\n",
       "      <th></th>\n",
       "      <th></th>\n",
       "      <th></th>\n",
       "      <th></th>\n",
       "      <th></th>\n",
       "      <th></th>\n",
       "      <th></th>\n",
       "      <th></th>\n",
       "      <th></th>\n",
       "      <th></th>\n",
       "      <th></th>\n",
       "    </tr>\n",
       "  </thead>\n",
       "  <tbody>\n",
       "    <tr>\n",
       "      <th>32394818</th>\n",
       "      <td>2.5</td>\n",
       "      <td>2.5</td>\n",
       "      <td>2.5</td>\n",
       "      <td>2.5</td>\n",
       "      <td>2.5</td>\n",
       "      <td>2.5</td>\n",
       "      <td>2.5</td>\n",
       "      <td>2.5</td>\n",
       "      <td>2.5</td>\n",
       "      <td>2.5</td>\n",
       "      <td>...</td>\n",
       "      <td>2.5</td>\n",
       "      <td>2.5</td>\n",
       "      <td>2.5</td>\n",
       "      <td>2.5</td>\n",
       "      <td>2.5</td>\n",
       "      <td>2.5</td>\n",
       "      <td>2.5</td>\n",
       "      <td>2.5</td>\n",
       "      <td>2.5</td>\n",
       "      <td>2.5</td>\n",
       "    </tr>\n",
       "  </tbody>\n",
       "</table>\n",
       "<p>1 rows × 253 columns</p>\n",
       "</div>"
      ],
      "text/plain": [
       "restaurant_id  16570683  16570741  16570775  16570776  16570811  16570910  \\\n",
       "user_id                                                                     \n",
       "32394818            2.5       2.5       2.5       2.5       2.5       2.5   \n",
       "\n",
       "restaurant_id  16570927  16571138  16571144  16571189    ...     18628562  \\\n",
       "user_id                                                  ...                \n",
       "32394818            2.5       2.5       2.5       2.5    ...          2.5   \n",
       "\n",
       "restaurant_id  18632069  18638034  18650646  18651260  18668223  18668229  \\\n",
       "user_id                                                                     \n",
       "32394818            2.5       2.5       2.5       2.5       2.5       2.5   \n",
       "\n",
       "restaurant_id  18702410  18704117  18708512  \n",
       "user_id                                      \n",
       "32394818            2.5       2.5       2.5  \n",
       "\n",
       "[1 rows x 253 columns]"
      ]
     },
     "execution_count": 86,
     "metadata": {},
     "output_type": "execute_result"
    }
   ],
   "source": [
    "# choose subject user\n",
    "subject_user = train_matrix.sample()\n",
    "subject_user.head()"
   ]
  },
  {
   "cell_type": "code",
   "execution_count": 87,
   "metadata": {},
   "outputs": [
    {
     "data": {
      "text/html": [
       "<div>\n",
       "<style scoped>\n",
       "    .dataframe tbody tr th:only-of-type {\n",
       "        vertical-align: middle;\n",
       "    }\n",
       "\n",
       "    .dataframe tbody tr th {\n",
       "        vertical-align: top;\n",
       "    }\n",
       "\n",
       "    .dataframe thead th {\n",
       "        text-align: right;\n",
       "    }\n",
       "</style>\n",
       "<table border=\"1\" class=\"dataframe\">\n",
       "  <thead>\n",
       "    <tr style=\"text-align: right;\">\n",
       "      <th></th>\n",
       "      <th>review_id</th>\n",
       "      <th>restaurant_id</th>\n",
       "      <th>user_id</th>\n",
       "      <th>user_name</th>\n",
       "      <th>user_review_count</th>\n",
       "      <th>user_followers_count</th>\n",
       "      <th>review_date</th>\n",
       "      <th>star_rating</th>\n",
       "      <th>textual_review</th>\n",
       "    </tr>\n",
       "  </thead>\n",
       "  <tbody>\n",
       "    <tr>\n",
       "      <th>21665</th>\n",
       "      <td>25507011</td>\n",
       "      <td>16574110</td>\n",
       "      <td>32394818</td>\n",
       "      <td>CraveForFood</td>\n",
       "      <td>5</td>\n",
       "      <td>0.0</td>\n",
       "      <td>2015-11-15 18:01:46</td>\n",
       "      <td>4.0</td>\n",
       "      <td>After few drinks in the city, we were looking ...</td>\n",
       "    </tr>\n",
       "  </tbody>\n",
       "</table>\n",
       "</div>"
      ],
      "text/plain": [
       "       review_id  restaurant_id   user_id     user_name  user_review_count  \\\n",
       "21665   25507011       16574110  32394818  CraveForFood                  5   \n",
       "\n",
       "       user_followers_count         review_date  star_rating  \\\n",
       "21665                   0.0 2015-11-15 18:01:46          4.0   \n",
       "\n",
       "                                          textual_review  \n",
       "21665  After few drinks in the city, we were looking ...  "
      ]
     },
     "execution_count": 87,
     "metadata": {},
     "output_type": "execute_result"
    }
   ],
   "source": [
    "# reviews posted, or restaurants rated, by the user\n",
    "train_reviews_df[train_reviews_df.user_id == subject_user.index[0]]"
   ]
  },
  {
   "cell_type": "code",
   "execution_count": 88,
   "metadata": {},
   "outputs": [
    {
     "data": {
      "text/html": [
       "<div>\n",
       "<style scoped>\n",
       "    .dataframe tbody tr th:only-of-type {\n",
       "        vertical-align: middle;\n",
       "    }\n",
       "\n",
       "    .dataframe tbody tr th {\n",
       "        vertical-align: top;\n",
       "    }\n",
       "\n",
       "    .dataframe thead th {\n",
       "        text-align: right;\n",
       "    }\n",
       "</style>\n",
       "<table border=\"1\" class=\"dataframe\">\n",
       "  <thead>\n",
       "    <tr style=\"text-align: right;\">\n",
       "      <th>restaurant_id</th>\n",
       "      <th>16570683</th>\n",
       "      <th>16570741</th>\n",
       "      <th>16570775</th>\n",
       "      <th>16570776</th>\n",
       "      <th>16570811</th>\n",
       "      <th>16570910</th>\n",
       "      <th>16570927</th>\n",
       "      <th>16571138</th>\n",
       "      <th>16571144</th>\n",
       "      <th>16571189</th>\n",
       "      <th>...</th>\n",
       "      <th>18628562</th>\n",
       "      <th>18632069</th>\n",
       "      <th>18638034</th>\n",
       "      <th>18650646</th>\n",
       "      <th>18651260</th>\n",
       "      <th>18668223</th>\n",
       "      <th>18668229</th>\n",
       "      <th>18702410</th>\n",
       "      <th>18704117</th>\n",
       "      <th>18708512</th>\n",
       "    </tr>\n",
       "    <tr>\n",
       "      <th>user_id</th>\n",
       "      <th></th>\n",
       "      <th></th>\n",
       "      <th></th>\n",
       "      <th></th>\n",
       "      <th></th>\n",
       "      <th></th>\n",
       "      <th></th>\n",
       "      <th></th>\n",
       "      <th></th>\n",
       "      <th></th>\n",
       "      <th></th>\n",
       "      <th></th>\n",
       "      <th></th>\n",
       "      <th></th>\n",
       "      <th></th>\n",
       "      <th></th>\n",
       "      <th></th>\n",
       "      <th></th>\n",
       "      <th></th>\n",
       "      <th></th>\n",
       "      <th></th>\n",
       "    </tr>\n",
       "  </thead>\n",
       "  <tbody>\n",
       "    <tr>\n",
       "      <th>32394818</th>\n",
       "      <td>2.5</td>\n",
       "      <td>2.5</td>\n",
       "      <td>2.5</td>\n",
       "      <td>2.5</td>\n",
       "      <td>2.5</td>\n",
       "      <td>2.5</td>\n",
       "      <td>2.5</td>\n",
       "      <td>2.5</td>\n",
       "      <td>2.5</td>\n",
       "      <td>2.5</td>\n",
       "      <td>...</td>\n",
       "      <td>2.5</td>\n",
       "      <td>2.5</td>\n",
       "      <td>2.5</td>\n",
       "      <td>2.5</td>\n",
       "      <td>2.5</td>\n",
       "      <td>2.5</td>\n",
       "      <td>2.5</td>\n",
       "      <td>2.5</td>\n",
       "      <td>2.5</td>\n",
       "      <td>2.5</td>\n",
       "    </tr>\n",
       "  </tbody>\n",
       "</table>\n",
       "<p>1 rows × 253 columns</p>\n",
       "</div>"
      ],
      "text/plain": [
       "restaurant_id  16570683  16570741  16570775  16570776  16570811  16570910  \\\n",
       "user_id                                                                     \n",
       "32394818            2.5       2.5       2.5       2.5       2.5       2.5   \n",
       "\n",
       "restaurant_id  16570927  16571138  16571144  16571189    ...     18628562  \\\n",
       "user_id                                                  ...                \n",
       "32394818            2.5       2.5       2.5       2.5    ...          2.5   \n",
       "\n",
       "restaurant_id  18632069  18638034  18650646  18651260  18668223  18668229  \\\n",
       "user_id                                                                     \n",
       "32394818            2.5       2.5       2.5       2.5       2.5       2.5   \n",
       "\n",
       "restaurant_id  18702410  18704117  18708512  \n",
       "user_id                                      \n",
       "32394818            2.5       2.5       2.5  \n",
       "\n",
       "[1 rows x 253 columns]"
      ]
     },
     "execution_count": 88,
     "metadata": {},
     "output_type": "execute_result"
    }
   ],
   "source": [
    "subject_user"
   ]
  },
  {
   "cell_type": "code",
   "execution_count": 93,
   "metadata": {},
   "outputs": [],
   "source": [
    "# predict restaurant ratings through the given item-based similarity matrix\n",
    "per_item_similarity_prediction = make_prediction(subject_user.values, item_similarity, 'item', train_matrix.shape)"
   ]
  },
  {
   "cell_type": "code",
   "execution_count": 94,
   "metadata": {},
   "outputs": [],
   "source": [
    "# list and sort by highest to lowest similarity the restaurants relative to the subject restaurant\n",
    "per_item_similarity_prediction_series = pd.Series(per_item_similarity_prediction.flatten(), index=train_matrix.columns)\n",
    "#per_item_similarity_dot_series.sort_values(ascending=False)"
   ]
  },
  {
   "cell_type": "code",
   "execution_count": 102,
   "metadata": {
    "scrolled": true
   },
   "outputs": [
    {
     "name": "stdout",
     "output_type": "stream",
     "text": [
      "Item-Item Collaborative Filtering with Rating Prediction (pairwise-cosine distance)\n"
     ]
    },
    {
     "data": {
      "text/html": [
       "<div>\n",
       "<style scoped>\n",
       "    .dataframe tbody tr th:only-of-type {\n",
       "        vertical-align: middle;\n",
       "    }\n",
       "\n",
       "    .dataframe tbody tr th {\n",
       "        vertical-align: top;\n",
       "    }\n",
       "\n",
       "    .dataframe thead th {\n",
       "        text-align: right;\n",
       "    }\n",
       "</style>\n",
       "<table border=\"1\" class=\"dataframe\">\n",
       "  <thead>\n",
       "    <tr style=\"text-align: right;\">\n",
       "      <th></th>\n",
       "      <th>Name</th>\n",
       "      <th>Restaurant Overall Rating</th>\n",
       "      <th>User's Predicted Rating</th>\n",
       "    </tr>\n",
       "    <tr>\n",
       "      <th>Item-Item CF: Top 10 Restaurants</th>\n",
       "      <th></th>\n",
       "      <th></th>\n",
       "      <th></th>\n",
       "    </tr>\n",
       "  </thead>\n",
       "  <tbody>\n",
       "    <tr>\n",
       "      <th>16582267</th>\n",
       "      <td>Bomba Downstairs</td>\n",
       "      <td>4.5</td>\n",
       "      <td>2.507</td>\n",
       "    </tr>\n",
       "    <tr>\n",
       "      <th>16581878</th>\n",
       "      <td>Mr. Ramen San</td>\n",
       "      <td>4.5</td>\n",
       "      <td>2.507</td>\n",
       "    </tr>\n",
       "    <tr>\n",
       "      <th>16713686</th>\n",
       "      <td>Laneway Greens</td>\n",
       "      <td>4.5</td>\n",
       "      <td>2.507</td>\n",
       "    </tr>\n",
       "    <tr>\n",
       "      <th>16586349</th>\n",
       "      <td>Little Rogue</td>\n",
       "      <td>4.6</td>\n",
       "      <td>2.507</td>\n",
       "    </tr>\n",
       "    <tr>\n",
       "      <th>16586257</th>\n",
       "      <td>Gojé Frozen Yogurt</td>\n",
       "      <td>4.5</td>\n",
       "      <td>2.507</td>\n",
       "    </tr>\n",
       "    <tr>\n",
       "      <th>16586156</th>\n",
       "      <td>The Grand Trailer Park Taverna</td>\n",
       "      <td>4.5</td>\n",
       "      <td>2.507</td>\n",
       "    </tr>\n",
       "    <tr>\n",
       "      <th>16585728</th>\n",
       "      <td>Miinot Gelato</td>\n",
       "      <td>4.5</td>\n",
       "      <td>2.507</td>\n",
       "    </tr>\n",
       "    <tr>\n",
       "      <th>16583864</th>\n",
       "      <td>Frozen by a Thousand Blessings</td>\n",
       "      <td>4.5</td>\n",
       "      <td>2.507</td>\n",
       "    </tr>\n",
       "    <tr>\n",
       "      <th>16583392</th>\n",
       "      <td>Baba Sus</td>\n",
       "      <td>4.5</td>\n",
       "      <td>2.507</td>\n",
       "    </tr>\n",
       "    <tr>\n",
       "      <th>16583154</th>\n",
       "      <td>Yo-Chi Frozen Yogurt</td>\n",
       "      <td>4.5</td>\n",
       "      <td>2.507</td>\n",
       "    </tr>\n",
       "  </tbody>\n",
       "</table>\n",
       "</div>"
      ],
      "text/plain": [
       "                                                            Name  \\\n",
       "Item-Item CF: Top 10 Restaurants                                   \n",
       "16582267                                        Bomba Downstairs   \n",
       "16581878                                           Mr. Ramen San   \n",
       "16713686                                          Laneway Greens   \n",
       "16586349                                            Little Rogue   \n",
       "16586257                                      Gojé Frozen Yogurt   \n",
       "16586156                          The Grand Trailer Park Taverna   \n",
       "16585728                                           Miinot Gelato   \n",
       "16583864                          Frozen by a Thousand Blessings   \n",
       "16583392                                                Baba Sus   \n",
       "16583154                                    Yo-Chi Frozen Yogurt   \n",
       "\n",
       "                                 Restaurant Overall Rating  \\\n",
       "Item-Item CF: Top 10 Restaurants                             \n",
       "16582267                                               4.5   \n",
       "16581878                                               4.5   \n",
       "16713686                                               4.5   \n",
       "16586349                                               4.6   \n",
       "16586257                                               4.5   \n",
       "16586156                                               4.5   \n",
       "16585728                                               4.5   \n",
       "16583864                                               4.5   \n",
       "16583392                                               4.5   \n",
       "16583154                                               4.5   \n",
       "\n",
       "                                  User's Predicted Rating  \n",
       "Item-Item CF: Top 10 Restaurants                           \n",
       "16582267                                            2.507  \n",
       "16581878                                            2.507  \n",
       "16713686                                            2.507  \n",
       "16586349                                            2.507  \n",
       "16586257                                            2.507  \n",
       "16586156                                            2.507  \n",
       "16585728                                            2.507  \n",
       "16583864                                            2.507  \n",
       "16583392                                            2.507  \n",
       "16583154                                            2.507  "
      ]
     },
     "execution_count": 102,
     "metadata": {},
     "output_type": "execute_result"
    }
   ],
   "source": [
    "# show top 5 recommended restaurants; filter to the restaurants that the subject user has not rated\n",
    "restaurants_not_tried_list = subject_user[subject_user == 2.5].dropna(axis=1).columns\n",
    "item_item_recommended_restaurants_rpcd_df = pd.DataFrame(round(per_item_similarity_prediction_series[per_item_similarity_prediction_series.index.isin(restaurants_not_tried_list)], 3), columns=[\"User's Predicted Rating\"])\n",
    "item_item_recommended_restaurants_rpcd_df = item_item_recommended_restaurants_rpcd_df.merge(restaurant_names_df, left_on=item_item_recommended_restaurants_rpcd_df.index, right_on='restaurant_id')\n",
    "item_item_recommended_restaurants_rpcd_df.set_index('restaurant_id',inplace=True)\n",
    "item_item_recommended_restaurants_rpcd_df.index.name ='Item-Item CF: Top 10 Restaurants'\n",
    "item_item_recommended_restaurants_rpcd_df = item_item_recommended_restaurants_rpcd_df[['name','overall_rating',\"User's Predicted Rating\"]]\n",
    "item_item_recommended_restaurants_rpcd_df.rename(columns={'name': 'Name', 'overall_rating': 'Restaurant Overall Rating'}, inplace=True)\n",
    "print('Item-Item Collaborative Filtering with Rating Prediction (pairwise-cosine distance)')\n",
    "item_item_recommended_restaurants_rpcd_df.sort_values(\"User's Predicted Rating\",ascending=False).head(10)"
   ]
  },
  {
   "cell_type": "markdown",
   "metadata": {},
   "source": [
    "### Item-Item Collaborative Filtering - Top-N Recommendation and Rating Prediction (pairwise cosine SIMILARITY)\n",
    "The objective is to generate a Top-N Recommended Restaurants list based on the predicted ratings of a user for every restaurant in the dataset, with the highest predicted rating securing the top spot of the recommendation list. To do this, cosine SIMILARITY is used as a metric."
   ]
  },
  {
   "cell_type": "code",
   "execution_count": 96,
   "metadata": {},
   "outputs": [],
   "source": [
    "# predict restaurant ratings through the given item-based similarity matrix\n",
    "per_item_similarity_prediction_2 = make_prediction_2(subject_user.values, item_similarity, 'item', train_matrix.shape)"
   ]
  },
  {
   "cell_type": "code",
   "execution_count": 97,
   "metadata": {},
   "outputs": [],
   "source": [
    "# list and sort by highest to lowest similarity the restaurants relative to the subject restaurant\n",
    "per_item_similarity_prediction_2_series = pd.Series(per_item_similarity_prediction_2.flatten(), index=train_matrix.columns)\n",
    "#per_item_similarity_dot_series.sort_values(ascending=False)"
   ]
  },
  {
   "cell_type": "code",
   "execution_count": 103,
   "metadata": {
    "scrolled": true
   },
   "outputs": [
    {
     "name": "stdout",
     "output_type": "stream",
     "text": [
      "Item-Item Collaborative Filtering with Rating Prediction (pairwise-cosine SIMILARITY)\n"
     ]
    },
    {
     "data": {
      "text/html": [
       "<div>\n",
       "<style scoped>\n",
       "    .dataframe tbody tr th:only-of-type {\n",
       "        vertical-align: middle;\n",
       "    }\n",
       "\n",
       "    .dataframe tbody tr th {\n",
       "        vertical-align: top;\n",
       "    }\n",
       "\n",
       "    .dataframe thead th {\n",
       "        text-align: right;\n",
       "    }\n",
       "</style>\n",
       "<table border=\"1\" class=\"dataframe\">\n",
       "  <thead>\n",
       "    <tr style=\"text-align: right;\">\n",
       "      <th></th>\n",
       "      <th>Name</th>\n",
       "      <th>Restaurant Overall Rating</th>\n",
       "      <th>User's Predicted Rating</th>\n",
       "    </tr>\n",
       "    <tr>\n",
       "      <th>Item-Item CF: Top 10 Restaurants</th>\n",
       "      <th></th>\n",
       "      <th></th>\n",
       "      <th></th>\n",
       "    </tr>\n",
       "  </thead>\n",
       "  <tbody>\n",
       "    <tr>\n",
       "      <th>16582267</th>\n",
       "      <td>Bomba Downstairs</td>\n",
       "      <td>4.5</td>\n",
       "      <td>2.5</td>\n",
       "    </tr>\n",
       "    <tr>\n",
       "      <th>18343871</th>\n",
       "      <td>Atlas Dining</td>\n",
       "      <td>4.7</td>\n",
       "      <td>2.5</td>\n",
       "    </tr>\n",
       "    <tr>\n",
       "      <th>18175359</th>\n",
       "      <td>48H Pizza &amp; Gnocchi Bar</td>\n",
       "      <td>4.5</td>\n",
       "      <td>2.5</td>\n",
       "    </tr>\n",
       "    <tr>\n",
       "      <th>18162512</th>\n",
       "      <td>Maker &amp; Monger</td>\n",
       "      <td>4.5</td>\n",
       "      <td>2.5</td>\n",
       "    </tr>\n",
       "    <tr>\n",
       "      <th>18024996</th>\n",
       "      <td>Particle Cafe</td>\n",
       "      <td>4.5</td>\n",
       "      <td>2.5</td>\n",
       "    </tr>\n",
       "    <tr>\n",
       "      <th>17868098</th>\n",
       "      <td>Bahari The Hellenic Palate</td>\n",
       "      <td>4.7</td>\n",
       "      <td>2.5</td>\n",
       "    </tr>\n",
       "    <tr>\n",
       "      <th>17849659</th>\n",
       "      <td>YOMG - Yo My Goodness</td>\n",
       "      <td>4.5</td>\n",
       "      <td>2.5</td>\n",
       "    </tr>\n",
       "    <tr>\n",
       "      <th>17849463</th>\n",
       "      <td>Goodovening</td>\n",
       "      <td>4.5</td>\n",
       "      <td>2.5</td>\n",
       "    </tr>\n",
       "    <tr>\n",
       "      <th>16713686</th>\n",
       "      <td>Laneway Greens</td>\n",
       "      <td>4.5</td>\n",
       "      <td>2.5</td>\n",
       "    </tr>\n",
       "    <tr>\n",
       "      <th>16586349</th>\n",
       "      <td>Little Rogue</td>\n",
       "      <td>4.6</td>\n",
       "      <td>2.5</td>\n",
       "    </tr>\n",
       "  </tbody>\n",
       "</table>\n",
       "</div>"
      ],
      "text/plain": [
       "                                                        Name  \\\n",
       "Item-Item CF: Top 10 Restaurants                               \n",
       "16582267                                    Bomba Downstairs   \n",
       "18343871                                        Atlas Dining   \n",
       "18175359                             48H Pizza & Gnocchi Bar   \n",
       "18162512                                      Maker & Monger   \n",
       "18024996                                       Particle Cafe   \n",
       "17868098                          Bahari The Hellenic Palate   \n",
       "17849659                               YOMG - Yo My Goodness   \n",
       "17849463                                         Goodovening   \n",
       "16713686                                      Laneway Greens   \n",
       "16586349                                        Little Rogue   \n",
       "\n",
       "                                 Restaurant Overall Rating  \\\n",
       "Item-Item CF: Top 10 Restaurants                             \n",
       "16582267                                               4.5   \n",
       "18343871                                               4.7   \n",
       "18175359                                               4.5   \n",
       "18162512                                               4.5   \n",
       "18024996                                               4.5   \n",
       "17868098                                               4.7   \n",
       "17849659                                               4.5   \n",
       "17849463                                               4.5   \n",
       "16713686                                               4.5   \n",
       "16586349                                               4.6   \n",
       "\n",
       "                                  User's Predicted Rating  \n",
       "Item-Item CF: Top 10 Restaurants                           \n",
       "16582267                                              2.5  \n",
       "18343871                                              2.5  \n",
       "18175359                                              2.5  \n",
       "18162512                                              2.5  \n",
       "18024996                                              2.5  \n",
       "17868098                                              2.5  \n",
       "17849659                                              2.5  \n",
       "17849463                                              2.5  \n",
       "16713686                                              2.5  \n",
       "16586349                                              2.5  "
      ]
     },
     "execution_count": 103,
     "metadata": {},
     "output_type": "execute_result"
    }
   ],
   "source": [
    "# show top 5 recommended restaurants; filter to the restaurants that the subject user has not rated\n",
    "restaurants_not_tried_list = subject_user[subject_user == 2.5].dropna(axis=1).columns\n",
    "item_item_recommended_restaurants_rpcs_df = pd.DataFrame(round(per_item_similarity_prediction_2_series[per_item_similarity_prediction_2_series.index.isin(restaurants_not_tried_list)], 3), columns=[\"User's Predicted Rating\"])\n",
    "item_item_recommended_restaurants_rpcs_df = item_item_recommended_restaurants_rpcs_df.merge(restaurant_names_df, left_on=item_item_recommended_restaurants_rpcs_df.index, right_on='restaurant_id')\n",
    "item_item_recommended_restaurants_rpcs_df.set_index('restaurant_id',inplace=True)\n",
    "item_item_recommended_restaurants_rpcs_df.index.name ='Item-Item CF: Top 10 Restaurants'\n",
    "item_item_recommended_restaurants_rpcs_df = item_item_recommended_restaurants_rpcs_df[['name','overall_rating',\"User's Predicted Rating\"]]\n",
    "item_item_recommended_restaurants_rpcs_df.rename(columns={'name': 'Name', 'overall_rating': 'Restaurant Overall Rating'}, inplace=True)\n",
    "print('Item-Item Collaborative Filtering with Rating Prediction (pairwise-cosine SIMILARITY)')\n",
    "item_item_recommended_restaurants_rpcs_df.sort_values(\"User's Predicted Rating\",ascending=False).head(10)"
   ]
  },
  {
   "cell_type": "markdown",
   "metadata": {},
   "source": [
    "### Hybrid Recommender - User-Item CF & Content- Based\n",
    "This combines the Contend-Based recommendation and the User-Item Collaborative Filtering (pairwise-cosine) recommendation in order to add a layer of contextual information to the user behavior based Collaborative Filtering recommendation."
   ]
  },
  {
   "cell_type": "code",
   "execution_count": 100,
   "metadata": {
    "scrolled": true
   },
   "outputs": [
    {
     "data": {
      "text/plain": [
       "'Current Location: 45 William St Melbourne'"
      ]
     },
     "metadata": {},
     "output_type": "display_data"
    },
    {
     "data": {
      "text/plain": [
       "'Hybrid Recommender (User-Item CF & Content-Based) : \"Restaurants that similar users liked, and are Nearby\"'"
      ]
     },
     "metadata": {},
     "output_type": "display_data"
    },
    {
     "data": {
      "text/html": [
       "<div>\n",
       "<style scoped>\n",
       "    .dataframe tbody tr th:only-of-type {\n",
       "        vertical-align: middle;\n",
       "    }\n",
       "\n",
       "    .dataframe tbody tr th {\n",
       "        vertical-align: top;\n",
       "    }\n",
       "\n",
       "    .dataframe thead th {\n",
       "        text-align: right;\n",
       "    }\n",
       "</style>\n",
       "<table border=\"1\" class=\"dataframe\">\n",
       "  <thead>\n",
       "    <tr style=\"text-align: right;\">\n",
       "      <th></th>\n",
       "      <th>Name</th>\n",
       "      <th>Restaurant Overall Rating</th>\n",
       "      <th>Similarity (High to Low)</th>\n",
       "      <th>Distance(km)</th>\n",
       "    </tr>\n",
       "    <tr>\n",
       "      <th>restaurant_id</th>\n",
       "      <th></th>\n",
       "      <th></th>\n",
       "      <th></th>\n",
       "      <th></th>\n",
       "    </tr>\n",
       "  </thead>\n",
       "  <tbody>\n",
       "    <tr>\n",
       "      <th>18106852</th>\n",
       "      <td>Dinner by Heston Blumenthal</td>\n",
       "      <td>4.9</td>\n",
       "      <td>4.5</td>\n",
       "      <td>0.43</td>\n",
       "    </tr>\n",
       "    <tr>\n",
       "      <th>16572701</th>\n",
       "      <td>Roule Galette</td>\n",
       "      <td>4.5</td>\n",
       "      <td>4.5</td>\n",
       "      <td>0.65</td>\n",
       "    </tr>\n",
       "    <tr>\n",
       "      <th>16582897</th>\n",
       "      <td>Supernormal</td>\n",
       "      <td>4.5</td>\n",
       "      <td>4.0</td>\n",
       "      <td>0.85</td>\n",
       "    </tr>\n",
       "    <tr>\n",
       "      <th>18538615</th>\n",
       "      <td>Bornga</td>\n",
       "      <td>4.6</td>\n",
       "      <td>4.5</td>\n",
       "      <td>0.99</td>\n",
       "    </tr>\n",
       "    <tr>\n",
       "      <th>17989264</th>\n",
       "      <td>Faraday's Cage</td>\n",
       "      <td>4.9</td>\n",
       "      <td>4.0</td>\n",
       "      <td>2.97</td>\n",
       "    </tr>\n",
       "    <tr>\n",
       "      <th>16571439</th>\n",
       "      <td>The Grand Richmond</td>\n",
       "      <td>4.5</td>\n",
       "      <td>4.5</td>\n",
       "      <td>4.31</td>\n",
       "    </tr>\n",
       "    <tr>\n",
       "      <th>18708512</th>\n",
       "      <td>Ton &amp; Co</td>\n",
       "      <td>4.5</td>\n",
       "      <td>4.0</td>\n",
       "      <td>4.59</td>\n",
       "    </tr>\n",
       "    <tr>\n",
       "      <th>17849669</th>\n",
       "      <td>Amok Restaurant</td>\n",
       "      <td>4.6</td>\n",
       "      <td>4.0</td>\n",
       "      <td>4.91</td>\n",
       "    </tr>\n",
       "    <tr>\n",
       "      <th>18473966</th>\n",
       "      <td>Shukah</td>\n",
       "      <td>4.6</td>\n",
       "      <td>4.0</td>\n",
       "      <td>4.97</td>\n",
       "    </tr>\n",
       "    <tr>\n",
       "      <th>16570775</th>\n",
       "      <td>Attica</td>\n",
       "      <td>4.8</td>\n",
       "      <td>4.0</td>\n",
       "      <td>7.31</td>\n",
       "    </tr>\n",
       "  </tbody>\n",
       "</table>\n",
       "</div>"
      ],
      "text/plain": [
       "                                      Name Restaurant Overall Rating  \\\n",
       "restaurant_id                                                          \n",
       "18106852       Dinner by Heston Blumenthal                       4.9   \n",
       "16572701                     Roule Galette                       4.5   \n",
       "16582897                       Supernormal                       4.5   \n",
       "18538615                            Bornga                       4.6   \n",
       "17989264                    Faraday's Cage                       4.9   \n",
       "16571439                The Grand Richmond                       4.5   \n",
       "18708512                          Ton & Co                       4.5   \n",
       "17849669                   Amok Restaurant                       4.6   \n",
       "18473966                            Shukah                       4.6   \n",
       "16570775                            Attica                       4.8   \n",
       "\n",
       "               Similarity (High to Low)  Distance(km)  \n",
       "restaurant_id                                          \n",
       "18106852                            4.5          0.43  \n",
       "16572701                            4.5          0.65  \n",
       "16582897                            4.0          0.85  \n",
       "18538615                            4.5          0.99  \n",
       "17989264                            4.0          2.97  \n",
       "16571439                            4.5          4.31  \n",
       "18708512                            4.0          4.59  \n",
       "17849669                            4.0          4.91  \n",
       "18473966                            4.0          4.97  \n",
       "16570775                            4.0          7.31  "
      ]
     },
     "execution_count": 100,
     "metadata": {},
     "output_type": "execute_result"
    }
   ],
   "source": [
    "# Content-Based component: we refer to the location attribute of the restaurants\n",
    "# Collaborative Filtering component: User-Item\n",
    "\n",
    "# set current address\n",
    "current_address = \"45 William St Melbourne\"\n",
    "\n",
    "# get current location coordinates\n",
    "current_lat_long = get_lat_long_given_address(current_address)\n",
    "\n",
    "# format the user-item cf dataframe to calculate distance to restaurants\n",
    "hybrid_user_item_df = user_item_recommended_restaurants_df.merge(businesses_df[['restaurant_id','location_latitude','location_longitude']],\n",
    "                                                       left_on=user_item_recommended_restaurants_df.index, right_on='restaurant_id').rename(columns={'Name': 'name'})\n",
    "\n",
    "# get distances from current address to the top 10 restaurants in the user-item CF dataframe\n",
    "# distance_to_restaurants_df = get_distance_to_restaurants(hybrid_user_item_df.sort_values('Average Rating(Similar Users)', ascending=False).head(10), current_lat_long)\n",
    "distance_to_restaurants_df = get_distance_to_restaurants(hybrid_user_item_df.sort_values('Similarity (High to Low)', ascending=False).head(10), current_lat_long)\n",
    "\n",
    "display('Current Location: ' + current_address)\n",
    "display('Hybrid Recommender (User-Item CF & Content-Based) : \"Restaurants that similar users liked, and are Nearby\"')\n",
    "\n",
    "# merge the User-Item CF dataframe with distance-to-restaurants dataframe to include the relevant columns\n",
    "hybrid_user_item_df = hybrid_user_item_df.set_index('restaurant_id').join(distance_to_restaurants_df, how='inner').drop(columns=['Name','location_latitude','location_longitude'], axis=1)\n",
    "hybrid_user_item_df = hybrid_user_item_df.rename(columns={'name': 'Name'})\n",
    "hybrid_user_item_df.sort_values('Distance(km)').head(10)"
   ]
  },
  {
   "cell_type": "markdown",
   "metadata": {},
   "source": [
    "### Hybrid Recommender - Item-Item CF & Content- Based\n",
    "This combines the Contend-Based recommendation and the Item-Item Collaborative Filtering recommendation in order to add a layer of contextual information to the user behavior based Collaborative Filtering recommendation."
   ]
  },
  {
   "cell_type": "code",
   "execution_count": 105,
   "metadata": {},
   "outputs": [
    {
     "data": {
      "text/plain": [
       "'Current Location: 45 William St Melbourne'"
      ]
     },
     "metadata": {},
     "output_type": "display_data"
    },
    {
     "data": {
      "text/plain": [
       "'Hybrid Recommender (Item-Item CF & Content-Based) : \"Restaurants that received similar ratings, and are Nearby\"'"
      ]
     },
     "metadata": {},
     "output_type": "display_data"
    },
    {
     "data": {
      "text/html": [
       "<div>\n",
       "<style scoped>\n",
       "    .dataframe tbody tr th:only-of-type {\n",
       "        vertical-align: middle;\n",
       "    }\n",
       "\n",
       "    .dataframe tbody tr th {\n",
       "        vertical-align: top;\n",
       "    }\n",
       "\n",
       "    .dataframe thead th {\n",
       "        text-align: right;\n",
       "    }\n",
       "</style>\n",
       "<table border=\"1\" class=\"dataframe\">\n",
       "  <thead>\n",
       "    <tr style=\"text-align: right;\">\n",
       "      <th></th>\n",
       "      <th>Name</th>\n",
       "      <th>Restaurant Overall Rating</th>\n",
       "      <th>Similarity (High to Low)</th>\n",
       "      <th>Distance(km)</th>\n",
       "    </tr>\n",
       "    <tr>\n",
       "      <th>restaurant_id</th>\n",
       "      <th></th>\n",
       "      <th></th>\n",
       "      <th></th>\n",
       "      <th></th>\n",
       "    </tr>\n",
       "  </thead>\n",
       "  <tbody>\n",
       "    <tr>\n",
       "      <th>17849463</th>\n",
       "      <td>Goodovening</td>\n",
       "      <td>4.5</td>\n",
       "      <td>0.003</td>\n",
       "      <td>0.52</td>\n",
       "    </tr>\n",
       "    <tr>\n",
       "      <th>16713686</th>\n",
       "      <td>Laneway Greens</td>\n",
       "      <td>4.5</td>\n",
       "      <td>0.003</td>\n",
       "      <td>0.63</td>\n",
       "    </tr>\n",
       "    <tr>\n",
       "      <th>16583864</th>\n",
       "      <td>Frozen by a Thousand Blessings</td>\n",
       "      <td>4.5</td>\n",
       "      <td>0.003</td>\n",
       "      <td>0.92</td>\n",
       "    </tr>\n",
       "    <tr>\n",
       "      <th>16580334</th>\n",
       "      <td>The Left-Handed Chef</td>\n",
       "      <td>4.5</td>\n",
       "      <td>0.000</td>\n",
       "      <td>1.89</td>\n",
       "    </tr>\n",
       "    <tr>\n",
       "      <th>17868098</th>\n",
       "      <td>Bahari The Hellenic Palate</td>\n",
       "      <td>4.7</td>\n",
       "      <td>0.003</td>\n",
       "      <td>3.47</td>\n",
       "    </tr>\n",
       "    <tr>\n",
       "      <th>16586257</th>\n",
       "      <td>Gojé Frozen Yogurt</td>\n",
       "      <td>4.5</td>\n",
       "      <td>0.003</td>\n",
       "      <td>6.08</td>\n",
       "    </tr>\n",
       "    <tr>\n",
       "      <th>18544665</th>\n",
       "      <td>Cuppa Turca</td>\n",
       "      <td>4.5</td>\n",
       "      <td>0.003</td>\n",
       "      <td>6.11</td>\n",
       "    </tr>\n",
       "    <tr>\n",
       "      <th>18553111</th>\n",
       "      <td>Burger Road</td>\n",
       "      <td>4.5</td>\n",
       "      <td>0.003</td>\n",
       "      <td>6.84</td>\n",
       "    </tr>\n",
       "    <tr>\n",
       "      <th>18024996</th>\n",
       "      <td>Particle Cafe</td>\n",
       "      <td>4.5</td>\n",
       "      <td>0.003</td>\n",
       "      <td>10.00</td>\n",
       "    </tr>\n",
       "    <tr>\n",
       "      <th>17849659</th>\n",
       "      <td>YOMG - Yo My Goodness</td>\n",
       "      <td>4.5</td>\n",
       "      <td>0.003</td>\n",
       "      <td>19.24</td>\n",
       "    </tr>\n",
       "  </tbody>\n",
       "</table>\n",
       "</div>"
      ],
      "text/plain": [
       "                                         Name Restaurant Overall Rating  \\\n",
       "restaurant_id                                                             \n",
       "17849463                          Goodovening                       4.5   \n",
       "16713686                       Laneway Greens                       4.5   \n",
       "16583864       Frozen by a Thousand Blessings                       4.5   \n",
       "16580334                 The Left-Handed Chef                       4.5   \n",
       "17868098           Bahari The Hellenic Palate                       4.7   \n",
       "16586257                   Gojé Frozen Yogurt                       4.5   \n",
       "18544665                          Cuppa Turca                       4.5   \n",
       "18553111                          Burger Road                       4.5   \n",
       "18024996                        Particle Cafe                       4.5   \n",
       "17849659                YOMG - Yo My Goodness                       4.5   \n",
       "\n",
       "               Similarity (High to Low)  Distance(km)  \n",
       "restaurant_id                                          \n",
       "17849463                          0.003          0.52  \n",
       "16713686                          0.003          0.63  \n",
       "16583864                          0.003          0.92  \n",
       "16580334                          0.000          1.89  \n",
       "17868098                          0.003          3.47  \n",
       "16586257                          0.003          6.08  \n",
       "18544665                          0.003          6.11  \n",
       "18553111                          0.003          6.84  \n",
       "18024996                          0.003         10.00  \n",
       "17849659                          0.003         19.24  "
      ]
     },
     "execution_count": 105,
     "metadata": {},
     "output_type": "execute_result"
    }
   ],
   "source": [
    "# Content-Based component: we refer to the location attribute of the restaurants\n",
    "# Collaborative Filtering component: Item-Item\n",
    "\n",
    "# set current address\n",
    "current_address = \"45 William St Melbourne\"\n",
    "\n",
    "# get current location coordinates\n",
    "current_lat_long = get_lat_long_given_address(current_address)\n",
    "\n",
    "# format the user-item cf dataframe to calculate distance to restaurants\n",
    "hybrid_item_item_df = item_item_recommended_restaurants_df.merge(businesses_df[['restaurant_id','location_latitude','location_longitude']],\n",
    "                                                       left_on=item_item_recommended_restaurants_df.index, right_on='restaurant_id').rename(columns={'Name': 'name'})\n",
    "\n",
    "# get distances from current address to the top 10 restaurants in the user-item CF dataframe\n",
    "distance_to_restaurants_df = get_distance_to_restaurants(hybrid_item_item_df.sort_values('Similarity (High to Low)').head(10), current_lat_long)\n",
    "\n",
    "display('Current Location: ' + current_address)\n",
    "display('Hybrid Recommender (Item-Item CF & Content-Based) : \"Restaurants that received similar ratings, and are Nearby\"')\n",
    "\n",
    "# merge the User-Item CF dataframe with distance-to-restaurants dataframe to include the relevant columns\n",
    "hybrid_item_item_df = hybrid_item_item_df.set_index('restaurant_id').join(distance_to_restaurants_df, how='inner').drop(columns=['Name','location_latitude','location_longitude'], axis=1)\n",
    "hybrid_item_item_df = hybrid_item_item_df.rename(columns={'name': 'Name'})\n",
    "hybrid_item_item_df.sort_values('Distance(km)').head(10)"
   ]
  },
  {
   "cell_type": "markdown",
   "metadata": {},
   "source": [
    "### Predict Ratings and Evaluate Prediction for Entire Matrices, using Memory-Based CF Methods\n",
    "Metric: RMSE\n",
    "\n",
    "CF Methods:\n",
    "1. Cosine Distance - Dot Product (User-Based CF)\n",
    "2. Cosine Distance - Dot Product (Item-Based CF)\n",
    "3. Cosine Similarity - Dot Product (User-Based CF)\n",
    "4. Cosine Similarity - Dot Product (Item-Based CF)\n",
    "\n",
    "Matrix:\n",
    "1. Entire Dataset\n",
    "2. Train Set\n",
    "3. Dev Set\n",
    "4. Test Set"
   ]
  },
  {
   "cell_type": "code",
   "execution_count": 106,
   "metadata": {},
   "outputs": [],
   "source": [
    "# serialize the restaurant_id's and user_id's, to prepare for setting up the matrices for prediction/evaluation\n",
    "main_restaurant_id_list = pd.Series(main_matrix.columns.unique())\n",
    "main_user_id_list = pd.Series(main_matrix.index)"
   ]
  },
  {
   "cell_type": "code",
   "execution_count": 107,
   "metadata": {},
   "outputs": [
    {
     "data": {
      "text/html": [
       "<div>\n",
       "<style scoped>\n",
       "    .dataframe tbody tr th:only-of-type {\n",
       "        vertical-align: middle;\n",
       "    }\n",
       "\n",
       "    .dataframe tbody tr th {\n",
       "        vertical-align: top;\n",
       "    }\n",
       "\n",
       "    .dataframe thead th {\n",
       "        text-align: right;\n",
       "    }\n",
       "</style>\n",
       "<table border=\"1\" class=\"dataframe\">\n",
       "  <thead>\n",
       "    <tr style=\"text-align: right;\">\n",
       "      <th></th>\n",
       "      <th>review_id</th>\n",
       "      <th>restaurant_id</th>\n",
       "      <th>user_id</th>\n",
       "      <th>user_name</th>\n",
       "      <th>user_review_count</th>\n",
       "      <th>user_followers_count</th>\n",
       "      <th>review_date</th>\n",
       "      <th>star_rating</th>\n",
       "      <th>textual_review</th>\n",
       "    </tr>\n",
       "  </thead>\n",
       "  <tbody>\n",
       "  </tbody>\n",
       "</table>\n",
       "</div>"
      ],
      "text/plain": [
       "Empty DataFrame\n",
       "Columns: [review_id, restaurant_id, user_id, user_name, user_review_count, user_followers_count, review_date, star_rating, textual_review]\n",
       "Index: []"
      ]
     },
     "execution_count": 107,
     "metadata": {},
     "output_type": "execute_result"
    }
   ],
   "source": [
    "reviews_df[reviews_df.star_rating.isnull()]"
   ]
  },
  {
   "cell_type": "code",
   "execution_count": 108,
   "metadata": {},
   "outputs": [],
   "source": [
    "# match the dimensions of individual matrices to enable matrix-based predictions using user-based CF and item-based CF\n",
    "train_matrix_for_prediction = np.zeros((main_matrix.shape[0], main_matrix.shape[1]))\n",
    "train_matrix_for_prediction[train_matrix_for_prediction == 0] = 2.5\n",
    "for line in train_reviews_df.itertuples():\n",
    "    row_index = main_user_id_list.loc[(main_user_id_list == line[3])].index[0]\n",
    "    column_index = main_restaurant_id_list.loc[(main_restaurant_id_list == line[2])].index[0]\n",
    "    train_matrix_for_prediction[row_index, column_index] = line[8]\n",
    "\n",
    "dev_matrix_for_prediction = np.zeros((main_matrix.shape[0], main_matrix.shape[1]))\n",
    "dev_matrix_for_prediction[dev_matrix_for_prediction == 0] = 2.5\n",
    "for line in dev_reviews_df.itertuples():\n",
    "    row_index = main_user_id_list.loc[(main_user_id_list == line[3])].index[0]\n",
    "    column_index = main_restaurant_id_list.loc[(main_restaurant_id_list == line[2])].index[0]\n",
    "    dev_matrix_for_prediction[row_index, column_index] = line[8]  \n",
    "\n",
    "test_matrix_for_prediction = np.zeros((main_matrix.shape[0], main_matrix.shape[1]))\n",
    "test_matrix_for_prediction[test_matrix_for_prediction == 0] = 2.5\n",
    "for line in test_reviews_df.itertuples():\n",
    "    row_index = main_user_id_list.loc[(main_user_id_list == line[3])].index[0]\n",
    "    column_index = main_restaurant_id_list.loc[(main_restaurant_id_list == line[2])].index[0]\n",
    "    test_matrix_for_prediction[row_index, column_index] = line[8]  "
   ]
  },
  {
   "cell_type": "code",
   "execution_count": 109,
   "metadata": {},
   "outputs": [],
   "source": [
    "from sklearn.metrics.pairwise import pairwise_distances\n",
    "user_similarity = pairwise_distances(train_matrix_for_prediction, metric='cosine')\n",
    "item_similarity = pairwise_distances(train_matrix_for_prediction.T, metric='cosine')"
   ]
  },
  {
   "cell_type": "code",
   "execution_count": 110,
   "metadata": {
    "scrolled": true
   },
   "outputs": [],
   "source": [
    "# predict ratings for each matrix using item-based and user-based CF (pairwise cosine distance - normalized dot product)\n",
    "main_item_prediction = make_prediction(main_matrix.values, item_similarity, 'item', main_matrix.shape)\n",
    "main_user_prediction = make_prediction(main_matrix.values, user_similarity, 'user', main_matrix.shape)\n",
    "train_item_prediction = make_prediction(train_matrix_for_prediction, item_similarity, 'item', train_matrix_for_prediction.shape)\n",
    "train_user_prediction = make_prediction(train_matrix_for_prediction, user_similarity, 'user', train_matrix_for_prediction.shape)\n",
    "dev_item_prediction = make_prediction(dev_matrix_for_prediction, item_similarity, 'item', dev_matrix_for_prediction.shape)\n",
    "dev_user_prediction = make_prediction(dev_matrix_for_prediction, user_similarity, 'user',dev_matrix_for_prediction.shape)\n",
    "test_item_prediction = make_prediction(test_matrix_for_prediction, item_similarity, 'item', test_matrix_for_prediction.shape)\n",
    "test_user_prediction = make_prediction(test_matrix_for_prediction, user_similarity, 'user', test_matrix_for_prediction.shape)"
   ]
  },
  {
   "cell_type": "code",
   "execution_count": 111,
   "metadata": {},
   "outputs": [],
   "source": [
    "# predict ratings for each matrix using item-based and user-based CF (cosine similarity - normalized dot product)\n",
    "main_item_prediction_2 = make_prediction_2(main_matrix.values, item_similarity, 'item', main_matrix.shape)\n",
    "main_user_prediction_2 = make_prediction_2(main_matrix.values, user_similarity, 'user', main_matrix.shape)\n",
    "train_item_prediction_2 = make_prediction_2(train_matrix_for_prediction, item_similarity, 'item', train_matrix_for_prediction.shape)\n",
    "train_user_prediction_2 = make_prediction_2(train_matrix_for_prediction, user_similarity, 'user', train_matrix_for_prediction.shape)\n",
    "dev_item_prediction_2 = make_prediction_2(dev_matrix_for_prediction, item_similarity, 'item', dev_matrix_for_prediction.shape)\n",
    "dev_user_prediction_2 = make_prediction_2(dev_matrix_for_prediction, user_similarity, 'user',dev_matrix_for_prediction.shape)\n",
    "test_item_prediction_2 = make_prediction_2(test_matrix_for_prediction, item_similarity, 'item', test_matrix_for_prediction.shape)\n",
    "test_user_prediction_2 = make_prediction_2(test_matrix_for_prediction, user_similarity, 'user', test_matrix_for_prediction.shape)"
   ]
  },
  {
   "cell_type": "code",
   "execution_count": 112,
   "metadata": {},
   "outputs": [],
   "source": [
    "# perform evaluation of prediction through RMSE\n",
    "def rmse(prediction, ground_truth):\n",
    "    return sqrt(mean_squared_error(prediction, ground_truth))"
   ]
  },
  {
   "cell_type": "code",
   "execution_count": 113,
   "metadata": {},
   "outputs": [
    {
     "name": "stdout",
     "output_type": "stream",
     "text": [
      "RMSE for Cosine Distance - norm. dot product:\n",
      "\n",
      "Full Dataset Evaluation:\n",
      "User-based CF RMSE: 0.17737305713222568\n",
      "Item-based CF RMSE: 0.17733732259887822\n",
      "\n",
      "Train Set Evaluation:\n",
      "User-based CF RMSE: 0.14271956580790005\n",
      "Item-based CF RMSE: 0.1425053131980386\n",
      "\n",
      "Dev Set Evaluation:\n",
      "User-based CF RMSE: 0.07132253455899154\n",
      "Item-based CF RMSE: 0.07164947081200586\n",
      "\n",
      "Test Set Evaluation:\n",
      "User-based CF RMSE: 0.07965907265068019\n",
      "Item-based CF RMSE: 0.0800290512197488\n"
     ]
    }
   ],
   "source": [
    "print('RMSE for Cosine Distance - norm. dot product:')\n",
    "print('\\nFull Dataset Evaluation:')\n",
    "print('User-based CF RMSE: ' + str(rmse(main_user_prediction, main_matrix.values)))\n",
    "print('Item-based CF RMSE: ' + str(rmse(main_item_prediction, main_matrix.values)))\n",
    "print('\\nTrain Set Evaluation:')\n",
    "print('User-based CF RMSE: ' + str(rmse(train_user_prediction, train_matrix_for_prediction)))\n",
    "print('Item-based CF RMSE: ' + str(rmse(train_item_prediction, train_matrix_for_prediction)))\n",
    "print('\\nDev Set Evaluation:')\n",
    "print('User-based CF RMSE: ' + str(rmse(dev_user_prediction, dev_matrix_for_prediction)))\n",
    "print('Item-based CF RMSE: ' + str(rmse(dev_item_prediction, dev_matrix_for_prediction)))\n",
    "print('\\nTest Set Evaluation:')\n",
    "print('User-based CF RMSE: ' + str(rmse(test_user_prediction, test_matrix_for_prediction)))\n",
    "print('Item-based CF RMSE: ' + str(rmse(test_item_prediction, test_matrix_for_prediction)))"
   ]
  },
  {
   "cell_type": "code",
   "execution_count": 114,
   "metadata": {},
   "outputs": [
    {
     "name": "stdout",
     "output_type": "stream",
     "text": [
      "RMSE for Cosine Similarity - norm. dot product:\n",
      "\n",
      "Full Dataset Evaluation:\n",
      "User-based CF RMSE: 0.17576258500452913\n",
      "Item-based CF RMSE: 0.1763863423754427\n",
      "\n",
      "Train Set Evaluation:\n",
      "User-based CF RMSE: 0.1414065049175383\n",
      "Item-based CF RMSE: 0.14191414579095188\n",
      "\n",
      "Dev Set Evaluation:\n",
      "User-based CF RMSE: 0.071234047726293\n",
      "Item-based CF RMSE: 0.07179027244439158\n",
      "\n",
      "Test Set Evaluation:\n",
      "User-based CF RMSE: 0.07955057830317148\n",
      "Item-based CF RMSE: 0.08007233562586659\n"
     ]
    }
   ],
   "source": [
    "print('RMSE for Cosine Similarity - norm. dot product:')\n",
    "print('\\nFull Dataset Evaluation:')\n",
    "print('User-based CF RMSE: ' + str(rmse(main_user_prediction_2, main_matrix.values)))\n",
    "print('Item-based CF RMSE: ' + str(rmse(main_item_prediction_2, main_matrix.values)))\n",
    "print('\\nTrain Set Evaluation:')\n",
    "print('User-based CF RMSE: ' + str(rmse(train_user_prediction_2, train_matrix_for_prediction)))\n",
    "print('Item-based CF RMSE: ' + str(rmse(train_item_prediction_2, train_matrix_for_prediction)))\n",
    "print('\\nDev Set Evaluation:')\n",
    "print('User-based CF RMSE: ' + str(rmse(dev_user_prediction_2, dev_matrix_for_prediction)))\n",
    "print('Item-based CF RMSE: ' + str(rmse(dev_item_prediction_2, dev_matrix_for_prediction)))\n",
    "print('\\nTest Set Evaluation:')\n",
    "print('User-based CF RMSE: ' + str(rmse(test_user_prediction_2, test_matrix_for_prediction)))\n",
    "print('Item-based CF RMSE: ' + str(rmse(test_item_prediction_2, test_matrix_for_prediction)))"
   ]
  },
  {
   "cell_type": "markdown",
   "metadata": {},
   "source": [
    "### Matrix Factorization - Singular Value Decomposition (SVD)\n",
    "\n",
    "#### Predict Ratings and Evaluate Prediction for Entire Matrices, using Scipy's SVDS\n",
    "\n",
    "Metric: RMSE\n",
    "\n",
    "Models:\n",
    "1. SVD\n",
    "\n",
    "Matrix:\n",
    "1. Entire Dataset\n",
    "2. Train Set\n",
    "3. Dev Set\n",
    "4. Test Set"
   ]
  },
  {
   "cell_type": "code",
   "execution_count": 115,
   "metadata": {},
   "outputs": [],
   "source": [
    "def svds_scipy_predict(matrix, k):\n",
    "    #get SVD components from train matrix. Choose k.\n",
    "    u, s, vt = svds(matrix.astype('float'), k = k)\n",
    "    s_diag_matrix=np.diag(s)\n",
    "    return np.dot(np.dot(u, s_diag_matrix), vt)"
   ]
  },
  {
   "cell_type": "code",
   "execution_count": 116,
   "metadata": {},
   "outputs": [
    {
     "name": "stdout",
     "output_type": "stream",
     "text": [
      "SVD - RMSE - full matrix: 0.15810047817333492\n",
      "SVD - RMSE - train matrix: 0.12773505532736767\n",
      "SVD - RMSE - dev matrix: 0.06430499234033658\n",
      "SVD - RMSE - test matrix: 0.07178012494899896\n"
     ]
    }
   ],
   "source": [
    "# predict ratings for each matrix through SVD (using scipy's svds function)\n",
    "full_svd_prediction = svds_scipy_predict(main_matrix.values, 20)\n",
    "train_svd_prediction = svds_scipy_predict(train_matrix_for_prediction, 20)\n",
    "dev_svd_prediction = svds_scipy_predict(dev_matrix_for_prediction, 20)\n",
    "test_svd_prediction = svds_scipy_predict(test_matrix_for_prediction, 20)\n",
    "\n",
    "print('SVD - RMSE - full matrix: ' + str(rmse(full_svd_prediction, main_matrix.values)))\n",
    "print('SVD - RMSE - train matrix: ' + str(rmse(train_svd_prediction, train_matrix_for_prediction)))\n",
    "print('SVD - RMSE - dev matrix: ' + str(rmse(dev_svd_prediction, dev_matrix_for_prediction)))\n",
    "print('SVD - RMSE - test matrix: ' + str(rmse(test_svd_prediction, test_matrix_for_prediction)))"
   ]
  },
  {
   "cell_type": "markdown",
   "metadata": {},
   "source": [
    "### Matrix Factorization - Singular Value Decomposition (SVD) \n",
    "\n",
    "#### Predict Ratings and Evaluate Prediction for a Single User, using Surprise SVD\n",
    "\n",
    "Metric: RMSE\n",
    "Models:\n",
    "1. SVD"
   ]
  },
  {
   "cell_type": "code",
   "execution_count": 117,
   "metadata": {},
   "outputs": [],
   "source": [
    "from surprise import SVD\n",
    "from surprise import Dataset, Reader\n",
    "from surprise.model_selection import cross_validate, train_test_split\n",
    "\n",
    "# setup Reader - range of ratings\n",
    "reader = Reader(rating_scale=(1, 5))"
   ]
  },
  {
   "cell_type": "code",
   "execution_count": 118,
   "metadata": {},
   "outputs": [],
   "source": [
    "# format df's as required by Surprise SVD\n",
    "svd_train_reviews_df = train_reviews_df[['user_id','restaurant_id','star_rating']]\n",
    "svd_dev_reviews_df = dev_reviews_df[['user_id','restaurant_id','star_rating']]\n",
    "svd_test_reviews_df = test_reviews_df[['user_id','restaurant_id','star_rating']]"
   ]
  },
  {
   "cell_type": "code",
   "execution_count": 119,
   "metadata": {},
   "outputs": [],
   "source": [
    "# setup dataset through Surprise's Dataset module - to prepare it for Surprise's train_test_split\n",
    "# The DataFrame needs to have 3 columns in this specific order: [user_id, product_id, rating]\n",
    "data = Dataset.load_from_df(svd_train_reviews_df, reader)"
   ]
  },
  {
   "cell_type": "code",
   "execution_count": 120,
   "metadata": {},
   "outputs": [],
   "source": [
    "# split data through Surprise's train_test_split (temporarily set split size to .01 as this set has already been previously split as a train set)\n",
    "trainset, testset = train_test_split(data, test_size=.01)"
   ]
  },
  {
   "cell_type": "code",
   "execution_count": 121,
   "metadata": {},
   "outputs": [
    {
     "data": {
      "text/plain": [
       "<surprise.prediction_algorithms.matrix_factorization.SVD at 0x1f605786748>"
      ]
     },
     "execution_count": 121,
     "metadata": {},
     "output_type": "execute_result"
    }
   ],
   "source": [
    "# train SVD with random value: 100 (latent features)\n",
    "model = SVD(n_factors=100)\n",
    "model.fit(trainset)"
   ]
  },
  {
   "cell_type": "code",
   "execution_count": 122,
   "metadata": {},
   "outputs": [
    {
     "data": {
      "text/plain": [
       "'before normalized: '"
      ]
     },
     "metadata": {},
     "output_type": "display_data"
    },
    {
     "data": {
      "text/plain": [
       "0.9743580356285534"
      ]
     },
     "metadata": {},
     "output_type": "display_data"
    },
    {
     "data": {
      "text/plain": [
       "'after normalized: '"
      ]
     },
     "metadata": {},
     "output_type": "display_data"
    },
    {
     "data": {
      "text/plain": [
       "0.9999999999999998"
      ]
     },
     "metadata": {},
     "output_type": "display_data"
    }
   ],
   "source": [
    "# Normalization\n",
    "display('before normalized: ', pd.DataFrame(model.qi).iloc[0].pow(2).sum())\n",
    "model.qi /= np.linalg.norm(model.qi, ord=2, axis=1).reshape(-1, 1)\n",
    "display('after normalized: ', pd.DataFrame(model.qi).iloc[0].pow(2).sum())"
   ]
  },
  {
   "cell_type": "code",
   "execution_count": 123,
   "metadata": {},
   "outputs": [
    {
     "data": {
      "text/plain": [
       "restaurant_id\n",
       "16579337    3.142857\n",
       "16571144    3.333333\n",
       "16573473    3.600000\n",
       "16713686    3.666667\n",
       "16571628    3.750000\n",
       "18704117    3.750000\n",
       "16572571    3.785714\n",
       "16578739    3.808594\n",
       "16577492    3.810345\n",
       "16571453    3.811321\n",
       "Name: star_rating, dtype: float64"
      ]
     },
     "execution_count": 123,
     "metadata": {},
     "output_type": "execute_result"
    }
   ],
   "source": [
    "# view restaurants with highest (or lowest) average ratings\n",
    "train_reviews_df.groupby('restaurant_id')['star_rating'].mean().sort_values(ascending=True).head(10)"
   ]
  },
  {
   "cell_type": "code",
   "execution_count": 124,
   "metadata": {},
   "outputs": [
    {
     "data": {
      "text/plain": [
       "2.0    3\n",
       "4.0    2\n",
       "5.0    1\n",
       "3.0    1\n",
       "Name: star_rating, dtype: int64"
      ]
     },
     "execution_count": 124,
     "metadata": {},
     "output_type": "execute_result"
    }
   ],
   "source": [
    "# list star ratings for a speific restaurant\n",
    "train_reviews_df[train_reviews_df.restaurant_id==16579337]['star_rating'].value_counts()"
   ]
  },
  {
   "cell_type": "code",
   "execution_count": 125,
   "metadata": {},
   "outputs": [
    {
     "name": "stdout",
     "output_type": "stream",
     "text": [
      "user: 28165833   item: 16571144   r_ui = None   est = 3.95   {'was_impossible': False}\n"
     ]
    }
   ],
   "source": [
    "# predict the rating an existing user would give a restaurant that the user hasn't rated\n",
    "a_user = 28165833\n",
    "a_product = 16571144\n",
    "print(model.predict(a_user, a_product))"
   ]
  },
  {
   "cell_type": "code",
   "execution_count": 126,
   "metadata": {
    "scrolled": true
   },
   "outputs": [
    {
     "name": "stdout",
     "output_type": "stream",
     "text": [
      "<class 'int'>\n",
      "user: 28165833   item: 16571144   r_ui = None   est = 3.95   {'was_impossible': False}\n",
      "<class 'int'>\n",
      "user: 24382747   item: 16571144   r_ui = None   est = 3.80   {'was_impossible': False}\n",
      "<class 'int'>\n",
      "user: 37890992   item: 16571144   r_ui = None   est = 3.93   {'was_impossible': False}\n",
      "<class 'int'>\n",
      "user: 22703576   item: 16571144   r_ui = None   est = 4.12   {'was_impossible': False}\n",
      "<class 'int'>\n",
      "user: 23449325   item: 16571144   r_ui = None   est = 4.01   {'was_impossible': False}\n",
      "<class 'int'>\n",
      "user: 23631035   item: 16571144   r_ui = None   est = 4.03   {'was_impossible': False}\n",
      "<class 'int'>\n",
      "user: 21291183   item: 16571144   r_ui = None   est = 3.79   {'was_impossible': False}\n",
      "<class 'int'>\n",
      "user: 35050648   item: 16571144   r_ui = None   est = 4.01   {'was_impossible': False}\n",
      "<class 'int'>\n",
      "user: 27910724   item: 16571144   r_ui = None   est = 4.11   {'was_impossible': False}\n",
      "<class 'int'>\n",
      "user: 25353089   item: 16571144   r_ui = None   est = 3.85   {'was_impossible': False}\n",
      "<class 'int'>\n",
      "user: 23442428   item: 16571144   r_ui = None   est = 3.89   {'was_impossible': False}\n",
      "<class 'int'>\n",
      "user: 42033797   item: 16571144   r_ui = None   est = 3.83   {'was_impossible': False}\n",
      "<class 'int'>\n",
      "user: 52079677   item: 16571144   r_ui = None   est = 3.89   {'was_impossible': False}\n",
      "<class 'int'>\n",
      "user: 40205421   item: 16571144   r_ui = None   est = 3.77   {'was_impossible': False}\n",
      "<class 'int'>\n",
      "user: 29892013   item: 16571144   r_ui = None   est = 3.86   {'was_impossible': False}\n",
      "<class 'int'>\n",
      "user: 30323641   item: 16571144   r_ui = None   est = 3.52   {'was_impossible': False}\n",
      "<class 'int'>\n",
      "user: 21512928   item: 16571144   r_ui = None   est = 4.06   {'was_impossible': False}\n",
      "<class 'int'>\n",
      "user: 24377787   item: 16571144   r_ui = None   est = 3.91   {'was_impossible': False}\n",
      "<class 'int'>\n",
      "user: 16243495   item: 16571144   r_ui = None   est = 3.92   {'was_impossible': False}\n",
      "<class 'int'>\n",
      "user: 22903929   item: 16571144   r_ui = None   est = 4.12   {'was_impossible': False}\n"
     ]
    }
   ],
   "source": [
    "# predict the rating every user would give a particular restaurant\n",
    "for index, user in train_reviews_df.user_id.iloc[:20].iteritems():\n",
    "    a_product = 16571144\n",
    "    print(type(user))\n",
    "    print(model.predict(user, a_product))"
   ]
  },
  {
   "cell_type": "markdown",
   "metadata": {},
   "source": [
    "## Conclusion: \n",
    "Based on the evaluation of the rating predictions across entire user-restaurant matrices, SVD yields the least error, consistently, across multiple tests that covered 4 matrices. \n",
    "\n",
    "The evaluation involved the use of the following Recommender Techniques:\n",
    "1. Cosine Distance - Dot Product (User-Based CF)\n",
    "2. Cosine Distance - Dot Product (Item-Based CF)\n",
    "3. Cosine Similarity - Dot Product (User-Based CF)\n",
    "4. Cosine Similarity - Dot Product (Item-Based CF)\n",
    "5. Matrix Factorization - SVD\n",
    "\n",
    "The evaluation metric used is RMSE (Root Mean Squared Error).\n",
    "\n",
    "The matrices used to perform the evaluation are the following:\n",
    "1. Original full matrix\n",
    "2. Train matrix\n",
    "3. Dev matrix\n",
    "4. Test matrix\n",
    "\n",
    "These are the final RMSE values for the best performing model which is SVD:\n",
    "- Full matrix RMSE: 0.1581\n",
    "- Train matrix RMSE: 0.1277\n",
    "- Dev matrix RMSE: 0.0643\n",
    "- Test matrix RMSE: 0.0718\n",
    "\n",
    "It is also notable to add that the next best performing technique, for most of the evaluated matrices, yielded errors that were fairly close to the SVD's errors, and that technique is the Cosine Similarity - Dot Product (User-Based CF). "
   ]
  }
 ],
 "metadata": {
  "kernelspec": {
   "display_name": "Python 3",
   "language": "python",
   "name": "python3"
  },
  "language_info": {
   "codemirror_mode": {
    "name": "ipython",
    "version": 3
   },
   "file_extension": ".py",
   "mimetype": "text/x-python",
   "name": "python",
   "nbconvert_exporter": "python",
   "pygments_lexer": "ipython3",
   "version": "3.6.5"
  }
 },
 "nbformat": 4,
 "nbformat_minor": 1
}
